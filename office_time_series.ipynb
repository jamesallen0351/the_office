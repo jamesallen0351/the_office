{
 "cells": [
  {
   "cell_type": "markdown",
   "id": "373da95d",
   "metadata": {},
   "source": [
    "# The Office Time Series Analysis"
   ]
  },
  {
   "cell_type": "code",
   "execution_count": 3,
   "id": "835dc38c",
   "metadata": {},
   "outputs": [],
   "source": [
    "# imports\n",
    "\n",
    "from wrangle import the_office\n",
    "\n",
    "# ignore warnings\n",
    "import warnings\n",
    "warnings.filterwarnings(\"ignore\")\n",
    "\n",
    "# Wrangling\n",
    "import pandas as pd\n",
    "import numpy as np\n",
    "from sklearn.model_selection import train_test_split\n",
    "\n",
    "# Statistical Tests\n",
    "import scipy.stats as stats\n",
    "\n",
    "# Visualizing\n",
    "import matplotlib.pyplot as plt\n",
    "from matplotlib import cm\n",
    "import seaborn as sns\n",
    "from sklearn.model_selection import learning_curve\n",
    "import statsmodels.api as sm"
   ]
  },
  {
   "cell_type": "markdown",
   "id": "46cae532",
   "metadata": {},
   "source": [
    "# Acquire"
   ]
  },
  {
   "cell_type": "code",
   "execution_count": null,
   "id": "42a0ec74",
   "metadata": {
    "scrolled": true
   },
   "outputs": [],
   "source": [
    "# getting the office data\n",
    "df = the_office()\n",
    "df.head() # check_yo_head"
   ]
  },
  {
   "cell_type": "markdown",
   "id": "95dde561",
   "metadata": {},
   "source": [
    "# Prepare for Time Series"
   ]
  },
  {
   "cell_type": "code",
   "execution_count": null,
   "id": "4eb98fa3",
   "metadata": {},
   "outputs": [],
   "source": [
    "# setting office data to datetime using the date column\n",
    "df.date = pd.to_datetime(df.date)\n",
    "df.dtypes"
   ]
  },
  {
   "cell_type": "code",
   "execution_count": null,
   "id": "379f9df4",
   "metadata": {},
   "outputs": [],
   "source": [
    "df.date.head() # check_yo_head"
   ]
  },
  {
   "cell_type": "code",
   "execution_count": null,
   "id": "c2f1c237",
   "metadata": {},
   "outputs": [],
   "source": [
    "df.head() #check_yo_head"
   ]
  },
  {
   "cell_type": "code",
   "execution_count": null,
   "id": "203b98f1",
   "metadata": {},
   "outputs": [],
   "source": [
    "# adding columns for year, month, day, and weekday\n",
    "df['year'] = df.date.dt.year\n",
    "df['month'] = df.date.dt.month\n",
    "df['day'] = df.date.dt.day\n",
    "df['weekday'] = df.date.dt.day_name()\n",
    "df.head() # check_yo_head"
   ]
  },
  {
   "cell_type": "code",
   "execution_count": null,
   "id": "8a260c06",
   "metadata": {},
   "outputs": [],
   "source": [
    "# changing the index of the office data to date after it has been changed to datetime\n",
    "df = df.set_index('date').sort_index()\n",
    "df.head() # check_yo_head"
   ]
  },
  {
   "cell_type": "code",
   "execution_count": null,
   "id": "ca5062ef",
   "metadata": {},
   "outputs": [],
   "source": [
    "# plotting defaults\n",
    "plt.rc('figure', figsize=(13, 7))\n",
    "plt.style.use('seaborn-whitegrid')\n",
    "plt.rc('font', size=16)"
   ]
  },
  {
   "cell_type": "code",
   "execution_count": null,
   "id": "619cfb0f",
   "metadata": {},
   "outputs": [],
   "source": [
    "print('Date Range:', df.index.min(), 'to', df.index.max())\n",
    "print('Shape:', df.shape)\n",
    "\n",
    "df.head()# check_yo_head"
   ]
  },
  {
   "cell_type": "code",
   "execution_count": 8,
   "id": "72ca922c",
   "metadata": {},
   "outputs": [],
   "source": [
    "# let's make a function\n",
    "\n",
    "def office_time():\n",
    "    '''\n",
    "    fucntion to take the office data and convert the date column\n",
    "    to datetime, then add year, month, day, weekday columns\n",
    "    set a new index to the date column, save a csv file and \n",
    "    print the date range and shape of df\n",
    "    '''\n",
    "    # getting the office data\n",
    "    df = the_office()\n",
    "    # converting the date column to datetime\n",
    "    df.date = pd.to_datetime(df.date)\n",
    "    # adding columns for year, month, day, and weekday\n",
    "    df['year'] = df.date.dt.year\n",
    "    df['month'] = df.date.dt.month\n",
    "    df['day'] = df.date.dt.day\n",
    "    df['weekday'] = df.date.dt.day_name()\n",
    "    # setting the df index to the date column\n",
    "    df = df.set_index('date').sort_index()\n",
    "    # saving the office data to a csv\n",
    "    df.to_csv('office_time.csv')\n",
    "    # printing out the date range and shape of the df\n",
    "    print('Date Range:', df.index.min(), 'to', df.index.max())\n",
    "    print('Shape:', df.shape)\n",
    "    \n",
    "    return df"
   ]
  },
  {
   "cell_type": "code",
   "execution_count": 9,
   "id": "e22c82c6",
   "metadata": {},
   "outputs": [
    {
     "name": "stdout",
     "output_type": "stream",
     "text": [
      "Date Range: 2005-03-24 00:00:00 to 2013-05-16 00:00:00\n",
      "Shape: (188, 15)\n"
     ]
    },
    {
     "data": {
      "text/html": [
       "<div>\n",
       "<style scoped>\n",
       "    .dataframe tbody tr th:only-of-type {\n",
       "        vertical-align: middle;\n",
       "    }\n",
       "\n",
       "    .dataframe tbody tr th {\n",
       "        vertical-align: top;\n",
       "    }\n",
       "\n",
       "    .dataframe thead th {\n",
       "        text-align: right;\n",
       "    }\n",
       "</style>\n",
       "<table border=\"1\" class=\"dataframe\">\n",
       "  <thead>\n",
       "    <tr style=\"text-align: right;\">\n",
       "      <th></th>\n",
       "      <th>episode</th>\n",
       "      <th>season</th>\n",
       "      <th>episode_title</th>\n",
       "      <th>about</th>\n",
       "      <th>ratings</th>\n",
       "      <th>votes</th>\n",
       "      <th>viewership</th>\n",
       "      <th>duration</th>\n",
       "      <th>director</th>\n",
       "      <th>writers</th>\n",
       "      <th>color</th>\n",
       "      <th>year</th>\n",
       "      <th>month</th>\n",
       "      <th>day</th>\n",
       "      <th>weekday</th>\n",
       "    </tr>\n",
       "    <tr>\n",
       "      <th>date</th>\n",
       "      <th></th>\n",
       "      <th></th>\n",
       "      <th></th>\n",
       "      <th></th>\n",
       "      <th></th>\n",
       "      <th></th>\n",
       "      <th></th>\n",
       "      <th></th>\n",
       "      <th></th>\n",
       "      <th></th>\n",
       "      <th></th>\n",
       "      <th></th>\n",
       "      <th></th>\n",
       "      <th></th>\n",
       "      <th></th>\n",
       "    </tr>\n",
       "  </thead>\n",
       "  <tbody>\n",
       "    <tr>\n",
       "      <th>2005-03-24</th>\n",
       "      <td>0</td>\n",
       "      <td>1</td>\n",
       "      <td>Pilot</td>\n",
       "      <td>The premiere episode introduces the boss and s...</td>\n",
       "      <td>7.5</td>\n",
       "      <td>4936</td>\n",
       "      <td>11.20</td>\n",
       "      <td>23</td>\n",
       "      <td>Ken Kwapis</td>\n",
       "      <td>Ricky Gervais |Stephen Merchant and Greg Daniels</td>\n",
       "      <td>yellow</td>\n",
       "      <td>2005</td>\n",
       "      <td>3</td>\n",
       "      <td>24</td>\n",
       "      <td>Thursday</td>\n",
       "    </tr>\n",
       "    <tr>\n",
       "      <th>2005-03-29</th>\n",
       "      <td>1</td>\n",
       "      <td>1</td>\n",
       "      <td>Diversity Day</td>\n",
       "      <td>Michael's off color remark puts a sensitivity ...</td>\n",
       "      <td>8.3</td>\n",
       "      <td>4801</td>\n",
       "      <td>6.00</td>\n",
       "      <td>23</td>\n",
       "      <td>Ken Kwapis</td>\n",
       "      <td>B. J. Novak</td>\n",
       "      <td>lightgreen</td>\n",
       "      <td>2005</td>\n",
       "      <td>3</td>\n",
       "      <td>29</td>\n",
       "      <td>Tuesday</td>\n",
       "    </tr>\n",
       "    <tr>\n",
       "      <th>2005-04-05</th>\n",
       "      <td>2</td>\n",
       "      <td>1</td>\n",
       "      <td>Health Care</td>\n",
       "      <td>Michael leaves Dwight in charge of picking the...</td>\n",
       "      <td>7.8</td>\n",
       "      <td>4024</td>\n",
       "      <td>5.80</td>\n",
       "      <td>22</td>\n",
       "      <td>Ken Whittingham</td>\n",
       "      <td>Paul Lieberstein</td>\n",
       "      <td>yellow</td>\n",
       "      <td>2005</td>\n",
       "      <td>4</td>\n",
       "      <td>5</td>\n",
       "      <td>Tuesday</td>\n",
       "    </tr>\n",
       "    <tr>\n",
       "      <th>2005-04-12</th>\n",
       "      <td>3</td>\n",
       "      <td>1</td>\n",
       "      <td>The Alliance</td>\n",
       "      <td>Just for a laugh, Jim agrees to an alliance wi...</td>\n",
       "      <td>8.1</td>\n",
       "      <td>3915</td>\n",
       "      <td>5.40</td>\n",
       "      <td>23</td>\n",
       "      <td>Bryan Gordon</td>\n",
       "      <td>Michael Schur</td>\n",
       "      <td>yellow</td>\n",
       "      <td>2005</td>\n",
       "      <td>4</td>\n",
       "      <td>12</td>\n",
       "      <td>Tuesday</td>\n",
       "    </tr>\n",
       "    <tr>\n",
       "      <th>2005-04-19</th>\n",
       "      <td>4</td>\n",
       "      <td>1</td>\n",
       "      <td>Basketball</td>\n",
       "      <td>Michael and his staff challenge the warehouse ...</td>\n",
       "      <td>8.4</td>\n",
       "      <td>4294</td>\n",
       "      <td>5.00</td>\n",
       "      <td>23</td>\n",
       "      <td>Greg Daniels</td>\n",
       "      <td>Greg Daniels</td>\n",
       "      <td>lightgreen</td>\n",
       "      <td>2005</td>\n",
       "      <td>4</td>\n",
       "      <td>19</td>\n",
       "      <td>Tuesday</td>\n",
       "    </tr>\n",
       "    <tr>\n",
       "      <th>...</th>\n",
       "      <td>...</td>\n",
       "      <td>...</td>\n",
       "      <td>...</td>\n",
       "      <td>...</td>\n",
       "      <td>...</td>\n",
       "      <td>...</td>\n",
       "      <td>...</td>\n",
       "      <td>...</td>\n",
       "      <td>...</td>\n",
       "      <td>...</td>\n",
       "      <td>...</td>\n",
       "      <td>...</td>\n",
       "      <td>...</td>\n",
       "      <td>...</td>\n",
       "      <td>...</td>\n",
       "    </tr>\n",
       "    <tr>\n",
       "      <th>2013-04-11</th>\n",
       "      <td>183</td>\n",
       "      <td>9</td>\n",
       "      <td>Stairmageddon</td>\n",
       "      <td>Dwight shoots Stanley with a bull tranquilizer...</td>\n",
       "      <td>8.0</td>\n",
       "      <td>1985</td>\n",
       "      <td>3.83</td>\n",
       "      <td>22</td>\n",
       "      <td>Matt Sohn</td>\n",
       "      <td>Dan Sterling</td>\n",
       "      <td>yellow</td>\n",
       "      <td>2013</td>\n",
       "      <td>4</td>\n",
       "      <td>11</td>\n",
       "      <td>Thursday</td>\n",
       "    </tr>\n",
       "    <tr>\n",
       "      <th>2013-04-25</th>\n",
       "      <td>184</td>\n",
       "      <td>9</td>\n",
       "      <td>Paper Airplane</td>\n",
       "      <td>The employees hold a paper airplane competitio...</td>\n",
       "      <td>8.0</td>\n",
       "      <td>2007</td>\n",
       "      <td>3.25</td>\n",
       "      <td>22</td>\n",
       "      <td>Jesse Peretz</td>\n",
       "      <td>Halsted Sullivan | Warren Lieberstein</td>\n",
       "      <td>yellow</td>\n",
       "      <td>2013</td>\n",
       "      <td>4</td>\n",
       "      <td>25</td>\n",
       "      <td>Thursday</td>\n",
       "    </tr>\n",
       "    <tr>\n",
       "      <th>2013-05-02</th>\n",
       "      <td>185</td>\n",
       "      <td>9</td>\n",
       "      <td>Livin' the Dream</td>\n",
       "      <td>Dwight becomes regional manager after Andy qui...</td>\n",
       "      <td>9.0</td>\n",
       "      <td>2831</td>\n",
       "      <td>3.51</td>\n",
       "      <td>42</td>\n",
       "      <td>Jeffrey Blitz</td>\n",
       "      <td>Niki Schwartz-Wright</td>\n",
       "      <td>darkgreen</td>\n",
       "      <td>2013</td>\n",
       "      <td>5</td>\n",
       "      <td>2</td>\n",
       "      <td>Thursday</td>\n",
       "    </tr>\n",
       "    <tr>\n",
       "      <th>2013-05-09</th>\n",
       "      <td>186</td>\n",
       "      <td>9</td>\n",
       "      <td>A.A.R.M.</td>\n",
       "      <td>Dwight prepares for a marriage proposal and hi...</td>\n",
       "      <td>9.5</td>\n",
       "      <td>3914</td>\n",
       "      <td>4.56</td>\n",
       "      <td>43</td>\n",
       "      <td>David Rogers</td>\n",
       "      <td>Brent Forrester</td>\n",
       "      <td>darkgreen</td>\n",
       "      <td>2013</td>\n",
       "      <td>5</td>\n",
       "      <td>9</td>\n",
       "      <td>Thursday</td>\n",
       "    </tr>\n",
       "    <tr>\n",
       "      <th>2013-05-16</th>\n",
       "      <td>187</td>\n",
       "      <td>9</td>\n",
       "      <td>Finale</td>\n",
       "      <td>One year later, Dunder Mifflin employees past ...</td>\n",
       "      <td>9.8</td>\n",
       "      <td>10515</td>\n",
       "      <td>5.69</td>\n",
       "      <td>51</td>\n",
       "      <td>Ken Kwapis</td>\n",
       "      <td>Greg Daniels</td>\n",
       "      <td>darkgreen</td>\n",
       "      <td>2013</td>\n",
       "      <td>5</td>\n",
       "      <td>16</td>\n",
       "      <td>Thursday</td>\n",
       "    </tr>\n",
       "  </tbody>\n",
       "</table>\n",
       "<p>188 rows × 15 columns</p>\n",
       "</div>"
      ],
      "text/plain": [
       "            episode  season     episode_title  \\\n",
       "date                                            \n",
       "2005-03-24        0       1             Pilot   \n",
       "2005-03-29        1       1     Diversity Day   \n",
       "2005-04-05        2       1       Health Care   \n",
       "2005-04-12        3       1      The Alliance   \n",
       "2005-04-19        4       1        Basketball   \n",
       "...             ...     ...               ...   \n",
       "2013-04-11      183       9     Stairmageddon   \n",
       "2013-04-25      184       9    Paper Airplane   \n",
       "2013-05-02      185       9  Livin' the Dream   \n",
       "2013-05-09      186       9          A.A.R.M.   \n",
       "2013-05-16      187       9            Finale   \n",
       "\n",
       "                                                        about  ratings  votes  \\\n",
       "date                                                                            \n",
       "2005-03-24  The premiere episode introduces the boss and s...      7.5   4936   \n",
       "2005-03-29  Michael's off color remark puts a sensitivity ...      8.3   4801   \n",
       "2005-04-05  Michael leaves Dwight in charge of picking the...      7.8   4024   \n",
       "2005-04-12  Just for a laugh, Jim agrees to an alliance wi...      8.1   3915   \n",
       "2005-04-19  Michael and his staff challenge the warehouse ...      8.4   4294   \n",
       "...                                                       ...      ...    ...   \n",
       "2013-04-11  Dwight shoots Stanley with a bull tranquilizer...      8.0   1985   \n",
       "2013-04-25  The employees hold a paper airplane competitio...      8.0   2007   \n",
       "2013-05-02  Dwight becomes regional manager after Andy qui...      9.0   2831   \n",
       "2013-05-09  Dwight prepares for a marriage proposal and hi...      9.5   3914   \n",
       "2013-05-16  One year later, Dunder Mifflin employees past ...      9.8  10515   \n",
       "\n",
       "            viewership  duration         director  \\\n",
       "date                                                \n",
       "2005-03-24       11.20        23       Ken Kwapis   \n",
       "2005-03-29        6.00        23       Ken Kwapis   \n",
       "2005-04-05        5.80        22  Ken Whittingham   \n",
       "2005-04-12        5.40        23     Bryan Gordon   \n",
       "2005-04-19        5.00        23     Greg Daniels   \n",
       "...                ...       ...              ...   \n",
       "2013-04-11        3.83        22        Matt Sohn   \n",
       "2013-04-25        3.25        22     Jesse Peretz   \n",
       "2013-05-02        3.51        42    Jeffrey Blitz   \n",
       "2013-05-09        4.56        43     David Rogers   \n",
       "2013-05-16        5.69        51       Ken Kwapis   \n",
       "\n",
       "                                                     writers       color  \\\n",
       "date                                                                       \n",
       "2005-03-24  Ricky Gervais |Stephen Merchant and Greg Daniels      yellow   \n",
       "2005-03-29                                       B. J. Novak  lightgreen   \n",
       "2005-04-05                                  Paul Lieberstein      yellow   \n",
       "2005-04-12                                     Michael Schur      yellow   \n",
       "2005-04-19                                      Greg Daniels  lightgreen   \n",
       "...                                                      ...         ...   \n",
       "2013-04-11                                      Dan Sterling      yellow   \n",
       "2013-04-25             Halsted Sullivan | Warren Lieberstein      yellow   \n",
       "2013-05-02                              Niki Schwartz-Wright   darkgreen   \n",
       "2013-05-09                                   Brent Forrester   darkgreen   \n",
       "2013-05-16                                      Greg Daniels   darkgreen   \n",
       "\n",
       "            year  month  day   weekday  \n",
       "date                                    \n",
       "2005-03-24  2005      3   24  Thursday  \n",
       "2005-03-29  2005      3   29   Tuesday  \n",
       "2005-04-05  2005      4    5   Tuesday  \n",
       "2005-04-12  2005      4   12   Tuesday  \n",
       "2005-04-19  2005      4   19   Tuesday  \n",
       "...          ...    ...  ...       ...  \n",
       "2013-04-11  2013      4   11  Thursday  \n",
       "2013-04-25  2013      4   25  Thursday  \n",
       "2013-05-02  2013      5    2  Thursday  \n",
       "2013-05-09  2013      5    9  Thursday  \n",
       "2013-05-16  2013      5   16  Thursday  \n",
       "\n",
       "[188 rows x 15 columns]"
      ]
     },
     "execution_count": 9,
     "metadata": {},
     "output_type": "execute_result"
    }
   ],
   "source": [
    "office_time()"
   ]
  },
  {
   "cell_type": "markdown",
   "id": "4770a86f",
   "metadata": {},
   "source": [
    "### Data Splitting\n",
    "\n",
    "#### Percentage Based"
   ]
  },
  {
   "cell_type": "code",
   "execution_count": null,
   "id": "56287bfd",
   "metadata": {},
   "outputs": [],
   "source": [
    "train_size = .70\n",
    "n = df.shape[0]\n",
    "test_start_index = round(train_size * n)\n",
    "\n",
    "train = df[:test_start_index] # everything up (not including) to the test_start_index\n",
    "test = df[test_start_index:] # everything from the test_start_index to the end\n",
    "\n",
    "plt.plot(train.index, train.viewership)\n",
    "plt.plot(test.index, test.viewership)"
   ]
  },
  {
   "cell_type": "markdown",
   "id": "7368e38a",
   "metadata": {},
   "source": [
    "#### Human Based"
   ]
  },
  {
   "cell_type": "code",
   "execution_count": null,
   "id": "2f0841e9",
   "metadata": {},
   "outputs": [],
   "source": [
    "train = df[:'2010'] # includes everything into 2010\n",
    "test = df['2011':] # everthing from 2011 to the last episode\n",
    "\n",
    "plt.plot(train.index, train.viewership)\n",
    "plt.plot(test.index, test.viewership)"
   ]
  },
  {
   "cell_type": "markdown",
   "id": "e6a6dc6c",
   "metadata": {},
   "source": [
    "### Visualization"
   ]
  },
  {
   "cell_type": "code",
   "execution_count": null,
   "id": "4879f402",
   "metadata": {},
   "outputs": [],
   "source": [
    "# assigning the train viewership data to y \n",
    "y = train.viewership\n",
    "y.head() # check_yo_head"
   ]
  },
  {
   "cell_type": "code",
   "execution_count": null,
   "id": "2acfd6df",
   "metadata": {},
   "outputs": [],
   "source": [
    "# plotting a histogram of the y data\n",
    "y.plot.hist()"
   ]
  },
  {
   "cell_type": "code",
   "execution_count": null,
   "id": "639eeb09",
   "metadata": {},
   "outputs": [],
   "source": [
    "# looking at the average viewership by month\n",
    "ax = y.groupby(y.index.month).mean().plot.bar(width=.9, ec='black')\n",
    "plt.xticks(rotation=0)\n",
    "ax.set(title='Average Views by Month', xlabel='Month', ylabel='Views')"
   ]
  },
  {
   "cell_type": "code",
   "execution_count": null,
   "id": "f69ad3b7",
   "metadata": {},
   "outputs": [],
   "source": [
    "# bar plot of the views by day within a month\n",
    "ax = y.groupby(y.index.day).mean().plot.bar(width=.9, ec='black')\n",
    "plt.xticks(rotation=0)\n",
    "ax.set(title='Average Views by Day', xlabel='Day', ylabel='Views')"
   ]
  },
  {
   "cell_type": "code",
   "execution_count": null,
   "id": "c4b2f0d8",
   "metadata": {},
   "outputs": [],
   "source": [
    "# bar plot of the views by day\n",
    "y.groupby(y.index.day_name()).mean().plot.bar(width=.9, ec='black')\n",
    "plt.xticks(rotation=0)\n",
    "ax.set(title='Average Temperature by Weekday', xlabel='Weekday', ylabel='Temp (F)')"
   ]
  },
  {
   "cell_type": "code",
   "execution_count": null,
   "id": "b6a95839",
   "metadata": {},
   "outputs": [],
   "source": [
    "# boxplot of the views by day\n",
    "(\n",
    "    y.reset_index()\n",
    "    .assign(weekday=lambda df: df.date.dt.day_name())\n",
    "    .pipe((sns.boxplot, 'data'), y='viewership', x='weekday')\n",
    ")"
   ]
  },
  {
   "cell_type": "code",
   "execution_count": null,
   "id": "aaa61d53",
   "metadata": {},
   "outputs": [],
   "source": [
    "# using a .plot() on th y data\n",
    "y.plot()"
   ]
  },
  {
   "cell_type": "code",
   "execution_count": null,
   "id": "f03fe563",
   "metadata": {},
   "outputs": [],
   "source": [
    "# looking at a 2 week average of viewership\n",
    "y.resample('2W').mean().plot(title='2 week average')"
   ]
  },
  {
   "cell_type": "code",
   "execution_count": null,
   "id": "3775448f",
   "metadata": {},
   "outputs": [],
   "source": [
    "# putting together days, weeks, months, and years of viewership\n",
    "y.plot(alpha=.2, label='Hourly')\n",
    "y.resample('D').mean().plot(alpha=.5, label='Daily')\n",
    "y.resample('W').mean().plot(alpha=.8, label='Weekly')\n",
    "y.resample('M').mean().plot(label='Montly')\n",
    "y.resample('Y').mean().plot(label='Yearly')\n",
    "plt.legend()\n"
   ]
  },
  {
   "cell_type": "code",
   "execution_count": null,
   "id": "f375dd60",
   "metadata": {},
   "outputs": [],
   "source": [
    "# looking at the weekly change in viewership\n",
    "y.resample('W').mean().diff().plot(title='Average week-to-week change in viewership')"
   ]
  },
  {
   "cell_type": "code",
   "execution_count": null,
   "id": "a2ebab54",
   "metadata": {},
   "outputs": [],
   "source": [
    "# looking at the monthly change in viewership\n",
    "y.resample('M').mean().diff().plot(title='Average month-to-month change in Viewership')"
   ]
  },
  {
   "cell_type": "code",
   "execution_count": null,
   "id": "5e0ec571",
   "metadata": {},
   "outputs": [],
   "source": [
    "# .unstack turns an index level into columns\n",
    "y.groupby([y.index.year, y.index.month]).mean().unstack(0).plot(title='Seasonal Plot')\n",
    "# looking at viewership by year"
   ]
  },
  {
   "cell_type": "code",
   "execution_count": null,
   "id": "24cd617c",
   "metadata": {},
   "outputs": [],
   "source": [
    "table = y.groupby([y.index.year, y.index.month]).mean().unstack()\n",
    "\n",
    "fig, axs = plt.subplots(1, 12, sharey=True, sharex=True)\n",
    "for ax, (month, subset) in zip(axs, table.iteritems()):\n",
    "    subset.plot(ax=ax, title=month)\n",
    "    ax.hlines(subset.mean(), *ax.get_xlim())\n",
    "    ax.set(xlabel='')\n",
    "\n",
    "fig.suptitle('Seasonal Subseries Plot') # super-title for the overall figure\n",
    "fig.subplots_adjust(wspace=0)\n"
   ]
  },
  {
   "cell_type": "code",
   "execution_count": null,
   "id": "67d5c1f1",
   "metadata": {},
   "outputs": [],
   "source": [
    "plt.scatter(y, y.shift(-1))\n",
    "plt.xlabel('$y$')\n",
    "plt.ylabel('$y_{t + 1}$')\n",
    "plt.title('Lag plot with lag=1')\n"
   ]
  },
  {
   "cell_type": "code",
   "execution_count": null,
   "id": "d2b7db46",
   "metadata": {},
   "outputs": [],
   "source": [
    "train['y(t + 1)'] = train.viewership.shift(-1)\n",
    "ax = train.plot.scatter(x='viewership', y='y(t + 1)')\n",
    "ax.set(xlabel='t', ylabel='t + 1')\n"
   ]
  },
  {
   "cell_type": "code",
   "execution_count": null,
   "id": "66e168da",
   "metadata": {},
   "outputs": [],
   "source": [
    "pd.plotting.autocorrelation_plot(train.viewership.resample('Y').mean())\n"
   ]
  },
  {
   "cell_type": "code",
   "execution_count": null,
   "id": "7d4ab29b",
   "metadata": {},
   "outputs": [],
   "source": [
    "train = train.resample('D').mean()\n",
    "# create a categorical feature\n",
    "train['view_bin'] = pd.qcut(train.viewership, 4, labels=['cold', 'cool', 'warm', 'hot'])\n",
    "train.groupby('view_bin').mean()\n"
   ]
  },
  {
   "cell_type": "code",
   "execution_count": null,
   "id": "ebc8dace",
   "metadata": {},
   "outputs": [],
   "source": [
    "(train.groupby('view_bin')\n",
    " .resample('M')\n",
    " .size()\n",
    " .unstack(0)\n",
    " .apply(lambda row: row / row.sum(), axis=1)\n",
    " .plot.area()\n",
    ")\n",
    "plt.ylabel('% of days in the month')\n"
   ]
  },
  {
   "cell_type": "code",
   "execution_count": null,
   "id": "48b795d1",
   "metadata": {},
   "outputs": [],
   "source": [
    "ax = (train\n",
    " .groupby('view_bin')\n",
    " .resample('M')\n",
    " .size()\n",
    " .unstack(0)\n",
    " .plot.bar(stacked=True, width=.9, ec='black')\n",
    ")\n",
    "labels = [pd.to_datetime(t.get_text()).strftime('%B') for t in ax.get_xticklabels()]\n",
    "ax.set_xticklabels(labels)\n"
   ]
  },
  {
   "cell_type": "code",
   "execution_count": null,
   "id": "480de2e7",
   "metadata": {},
   "outputs": [],
   "source": [
    "ax = y.groupby(y.index.strftime('%m-%b')).mean().plot.bar()\n",
    "ax.set_xticklabels([t.get_text()[3:] for t in ax.get_xticklabels()], rotation=0)\n",
    "None\n"
   ]
  },
  {
   "cell_type": "code",
   "execution_count": null,
   "id": "0bf80c48",
   "metadata": {},
   "outputs": [],
   "source": [
    "from matplotlib.dates import DateFormatter\n",
    "\n",
    "fig, ax = plt.subplots()\n",
    "\n",
    "weekly = y.resample('W').mean()\n",
    "\n",
    "ax.plot(weekly.index, weekly)\n",
    "\n",
    "ax.xaxis.set_major_formatter(DateFormatter('%b %y'))\n"
   ]
  },
  {
   "cell_type": "markdown",
   "id": "559ec071",
   "metadata": {},
   "source": [
    "# Modeling"
   ]
  },
  {
   "cell_type": "code",
   "execution_count": null,
   "id": "0ac9f8b6",
   "metadata": {},
   "outputs": [],
   "source": [
    "import warnings\n",
    "warnings.filterwarnings(\"ignore\")\n",
    "\n",
    "import numpy as np\n",
    "import pandas as pd\n",
    "\n",
    "from datetime import datetime\n",
    "from sklearn.metrics import mean_squared_error\n",
    "from math import sqrt\n",
    "\n",
    "import matplotlib.pyplot as plt\n",
    "%matplotlib inline\n",
    "import seaborn as sns\n",
    "from pandas.plotting import register_matplotlib_converters\n",
    "\n",
    "import statsmodels.api as sm\n",
    "from statsmodels.tsa.api import Holt"
   ]
  },
  {
   "cell_type": "code",
   "execution_count": null,
   "id": "0016d150",
   "metadata": {},
   "outputs": [],
   "source": [
    "# dropping columns that are not needed for modeling purposes\n",
    "df = df.drop(columns= {'episode_title', 'episode', 'season', 'about', 'director', 'writers', 'color', 'year', 'month', 'day', 'weekday', 'votes', 'duration'})"
   ]
  },
  {
   "cell_type": "code",
   "execution_count": null,
   "id": "5a79f4f3",
   "metadata": {
    "scrolled": true
   },
   "outputs": [],
   "source": [
    "df.head() # check_yo_head"
   ]
  },
  {
   "cell_type": "code",
   "execution_count": null,
   "id": "2c5dc354",
   "metadata": {},
   "outputs": [],
   "source": [
    "# splitting the data\n",
    "train_size = int(len(df) * .5)\n",
    "validate_size = int(len(df) * .3)\n",
    "test_size = int(len(df) - train_size - validate_size)\n",
    "validate_end_index = train_size + validate_size\n",
    "\n",
    "# split into train, validation, test\n",
    "train = df[: train_size]\n",
    "validate = df[train_size : validate_end_index]\n",
    "test = df[validate_end_index : ]"
   ]
  },
  {
   "cell_type": "code",
   "execution_count": null,
   "id": "1385cd41",
   "metadata": {},
   "outputs": [],
   "source": [
    "# checking to make sure split worked properly\n",
    "print(len(train) + len(validate) + len(test) == len(df))"
   ]
  },
  {
   "cell_type": "code",
   "execution_count": null,
   "id": "698f91d3",
   "metadata": {},
   "outputs": [],
   "source": [
    "# comparing the train data to the dataframe data\n",
    "print(df.head(1) == train.head(1))"
   ]
  },
  {
   "cell_type": "code",
   "execution_count": null,
   "id": "86661c24",
   "metadata": {},
   "outputs": [],
   "source": [
    "# looking at the end of test and df data \n",
    "pd.concat([test.tail(1), df.tail(1)])"
   ]
  },
  {
   "cell_type": "code",
   "execution_count": null,
   "id": "5d72b554",
   "metadata": {},
   "outputs": [],
   "source": [
    "for col in train.columns:\n",
    "    plt.figure(figsize=(12,4))\n",
    "    plt.plot(train[col])\n",
    "    plt.plot(validate[col])\n",
    "    plt.plot(test[col])\n",
    "    plt.ylabel(col)\n",
    "    plt.title(col)\n",
    "    plt.show()\n"
   ]
  },
  {
   "cell_type": "code",
   "execution_count": null,
   "id": "fb6035a2",
   "metadata": {},
   "outputs": [],
   "source": [
    "# evaluation function to compute rmse\n",
    "\n",
    "def evaluate(target_var):\n",
    "    rmse = sqrt(mean_squared_error(validate[target_var], yhat_df[target_var]))\n",
    "    return rmse\n"
   ]
  },
  {
   "cell_type": "code",
   "execution_count": null,
   "id": "d60f4a10",
   "metadata": {},
   "outputs": [],
   "source": [
    "# plot and evaluate \n",
    "def plot_and_eval(target_var):\n",
    "    plt.figure(figsize = (12,4))\n",
    "    plt.plot(train[target_var], label = 'Train', linewidth = 1)\n",
    "    plt.plot(validate[target_var], label = 'Validate', linewidth = 1)\n",
    "    plt.plot(yhat_df[target_var])\n",
    "    plt.title(target_var)\n",
    "    rmse = evaluate(target_var)\n",
    "    print(target_var, '-- RMSE: {:.0f}'.format(rmse))\n",
    "    plt.show()\n"
   ]
  },
  {
   "cell_type": "code",
   "execution_count": null,
   "id": "bf92ba56",
   "metadata": {},
   "outputs": [],
   "source": [
    "# Create the empty dataframe\n",
    "eval_df = pd.DataFrame(columns=['model_type', 'target_var', 'rmse'])\n",
    "\n",
    "# function to store rmse for comparison purposes\n",
    "def append_eval_df(model_type, target_var):\n",
    "    rmse = evaluate(target_var)\n",
    "    d = {'model_type': [model_type], 'target_var': [target_var], 'rmse': [rmse]}\n",
    "    d = pd.DataFrame(d)\n",
    "    return eval_df.append(d, ignore_index = True)\n"
   ]
  },
  {
   "cell_type": "code",
   "execution_count": null,
   "id": "6348b8db",
   "metadata": {},
   "outputs": [],
   "source": [
    "eval_df"
   ]
  },
  {
   "cell_type": "code",
   "execution_count": null,
   "id": "71a4de58",
   "metadata": {},
   "outputs": [],
   "source": [
    "# Forcast\n",
    "# Last observed value\n",
    "views = train['viewership'][-1:][0]\n",
    "ratings = round(train['ratings'][-1:][0],2)\n",
    "\n",
    "yhat_df = pd.DataFrame({'viewership': [views], 'ratings': [ratings]}, \n",
    "                       index = validate.index)\n",
    "\n",
    "yhat_df.head(2)\n"
   ]
  },
  {
   "cell_type": "code",
   "execution_count": null,
   "id": "8af63da5",
   "metadata": {},
   "outputs": [],
   "source": [
    "for col in train.columns:\n",
    "    plot_and_eval(col)"
   ]
  },
  {
   "cell_type": "code",
   "execution_count": null,
   "id": "9e339253",
   "metadata": {},
   "outputs": [],
   "source": [
    "for col in train.columns:\n",
    "    eval_df = append_eval_df(model_type = 'last_observed_value', \n",
    "                             target_var = col)\n"
   ]
  },
  {
   "cell_type": "code",
   "execution_count": null,
   "id": "470d6db2",
   "metadata": {},
   "outputs": [],
   "source": [
    "eval_df"
   ]
  },
  {
   "cell_type": "code",
   "execution_count": null,
   "id": "4111027d",
   "metadata": {},
   "outputs": [],
   "source": [
    "# simple average\n",
    "\n",
    "views = round(train['viewership'].mean(), 2)\n",
    "ratings = round(train['ratings'].mean(), 2)\n",
    "\n",
    "def make_predictions():\n",
    "    yhat_df = pd.DataFrame({'viewership': [views],\n",
    "                            'ratings': [ratings],\n",
    "                           }, index = validate.index)\n",
    "    return yhat_df\n",
    "\n",
    "yhat_df = make_predictions()\n"
   ]
  },
  {
   "cell_type": "code",
   "execution_count": null,
   "id": "3668f8d9",
   "metadata": {},
   "outputs": [],
   "source": [
    "yhat_df.head(2)"
   ]
  },
  {
   "cell_type": "code",
   "execution_count": null,
   "id": "7839f47a",
   "metadata": {},
   "outputs": [],
   "source": [
    "for col in train.columns:\n",
    "    plot_and_eval(col)"
   ]
  },
  {
   "cell_type": "code",
   "execution_count": null,
   "id": "1eab6b07",
   "metadata": {},
   "outputs": [],
   "source": [
    "# evaluate\n",
    "for col in train.columns:\n",
    "    eval_df = append_eval_df(model_type='simple_average', \n",
    "                             target_var = col)"
   ]
  },
  {
   "cell_type": "code",
   "execution_count": null,
   "id": "8ff80f62",
   "metadata": {},
   "outputs": [],
   "source": [
    "eval_df"
   ]
  },
  {
   "cell_type": "code",
   "execution_count": null,
   "id": "9231dec5",
   "metadata": {},
   "outputs": [],
   "source": [
    "# moving average\n",
    "# compute a 30 day rolling average, \n",
    "# use the most recent/last 30 day period value to predict forward. \n",
    "\n",
    "period = 30\n",
    "\n",
    "views = round(train['viewership'].rolling(period).mean().iloc[-1], 2)\n",
    "ratings = round(train['ratings'].rolling(period).mean().iloc[-1], 2)\n",
    "\n",
    "yhat_df = make_predictions()\n",
    "yhat_df.head(3)"
   ]
  },
  {
   "cell_type": "code",
   "execution_count": null,
   "id": "2313a8c0",
   "metadata": {},
   "outputs": [],
   "source": [
    "for col in train.columns:\n",
    "    plot_and_eval(col)"
   ]
  },
  {
   "cell_type": "code",
   "execution_count": null,
   "id": "6befb971",
   "metadata": {},
   "outputs": [],
   "source": [
    "for col in train.columns:\n",
    "    eval_df = append_eval_df(model_type='30d moving average', \n",
    "                             target_var = col)"
   ]
  },
  {
   "cell_type": "code",
   "execution_count": null,
   "id": "67d54e7b",
   "metadata": {},
   "outputs": [],
   "source": [
    "eval_df"
   ]
  },
  {
   "cell_type": "code",
   "execution_count": null,
   "id": "05cc9819",
   "metadata": {},
   "outputs": [],
   "source": [
    "periods = [1, 7, 14, 21]\n",
    "\n",
    "for p in periods:\n",
    "    views = round(train['viewership'].rolling(p).mean().iloc[-1], 2)\n",
    "    ratings = round(train['ratings'].rolling(p).mean().iloc[-1], 2)\n",
    "    yhat_df = make_predictions()\n",
    "    model_type = str(p) + 'd moving average'\n",
    "    eval_df = append_eval_df(model_type = model_type,\n",
    "                             target_var = 'viewership'\n",
    "                            )\n",
    "    eval_df = append_eval_df(model_type = model_type,\n",
    "                             target_var = 'ratings'\n",
    "                            )\n"
   ]
  },
  {
   "cell_type": "code",
   "execution_count": null,
   "id": "06fdb3c9",
   "metadata": {},
   "outputs": [],
   "source": [
    "eval_df"
   ]
  },
  {
   "cell_type": "code",
   "execution_count": null,
   "id": "2402aa9b",
   "metadata": {},
   "outputs": [],
   "source": [
    "# get the min rmse for each variable\n",
    "\n",
    "min_rmse_ratings = eval_df.groupby('target_var')['rmse'].min()[0]\n",
    "min_rmse_views = eval_df.groupby('target_var')['rmse'].min()[1]\n",
    "\n",
    "# filter only the rows that match those rmse to find out \n",
    "# which models are best thus far\n",
    "eval_df[((eval_df.rmse == min_rmse_ratings) | \n",
    "         (eval_df.rmse == min_rmse_views)\n",
    "        )]\n"
   ]
  },
  {
   "cell_type": "code",
   "execution_count": null,
   "id": "72ba8949",
   "metadata": {},
   "outputs": [],
   "source": [
    "for col in train.columns:\n",
    "    plot_and_eval(target_var = col)\n"
   ]
  },
  {
   "cell_type": "code",
   "execution_count": null,
   "id": "a30a2858",
   "metadata": {},
   "outputs": [],
   "source": [
    "eval_df"
   ]
  }
 ],
 "metadata": {
  "kernelspec": {
   "display_name": "Python 3",
   "language": "python",
   "name": "python3"
  },
  "language_info": {
   "codemirror_mode": {
    "name": "ipython",
    "version": 3
   },
   "file_extension": ".py",
   "mimetype": "text/x-python",
   "name": "python",
   "nbconvert_exporter": "python",
   "pygments_lexer": "ipython3",
   "version": "3.8.8"
  }
 },
 "nbformat": 4,
 "nbformat_minor": 5
}
