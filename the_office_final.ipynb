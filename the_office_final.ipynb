{
 "cells": [
  {
   "cell_type": "markdown",
   "id": "c99e22f2",
   "metadata": {},
   "source": [
    "# The Office Final Notebook\n",
    "\n",
    "![The Office](the_office.jpg)"
   ]
  },
  {
   "cell_type": "code",
   "execution_count": 10,
   "id": "2cf97188",
   "metadata": {},
   "outputs": [],
   "source": [
    "# imports\n",
    "\n",
    "import pandas as pd\n",
    "import numpy as np\n",
    "import matplotlib.pyplot as plt\n",
    "from wordcloud import WordCloud\n",
    "\n",
    "from wrangle import the_office, guest_office, season_episodes, max_views, cluster_df"
   ]
  },
  {
   "cell_type": "markdown",
   "id": "0f86fe57",
   "metadata": {},
   "source": [
    "# Acquire"
   ]
  },
  {
   "cell_type": "code",
   "execution_count": 2,
   "id": "af871329",
   "metadata": {},
   "outputs": [
    {
     "data": {
      "text/html": [
       "<div>\n",
       "<style scoped>\n",
       "    .dataframe tbody tr th:only-of-type {\n",
       "        vertical-align: middle;\n",
       "    }\n",
       "\n",
       "    .dataframe tbody tr th {\n",
       "        vertical-align: top;\n",
       "    }\n",
       "\n",
       "    .dataframe thead th {\n",
       "        text-align: right;\n",
       "    }\n",
       "</style>\n",
       "<table border=\"1\" class=\"dataframe\">\n",
       "  <thead>\n",
       "    <tr style=\"text-align: right;\">\n",
       "      <th></th>\n",
       "      <th>episode</th>\n",
       "      <th>season</th>\n",
       "      <th>episode_title</th>\n",
       "      <th>about</th>\n",
       "      <th>ratings</th>\n",
       "      <th>votes</th>\n",
       "      <th>viewership</th>\n",
       "      <th>duration</th>\n",
       "      <th>date</th>\n",
       "      <th>director</th>\n",
       "      <th>writers</th>\n",
       "      <th>color</th>\n",
       "    </tr>\n",
       "  </thead>\n",
       "  <tbody>\n",
       "    <tr>\n",
       "      <th>0</th>\n",
       "      <td>0</td>\n",
       "      <td>1</td>\n",
       "      <td>Pilot</td>\n",
       "      <td>The premiere episode introduces the boss and s...</td>\n",
       "      <td>7.5</td>\n",
       "      <td>4936</td>\n",
       "      <td>11.2</td>\n",
       "      <td>23</td>\n",
       "      <td>24 March 2005</td>\n",
       "      <td>Ken Kwapis</td>\n",
       "      <td>Ricky Gervais |Stephen Merchant and Greg Daniels</td>\n",
       "      <td>yellow</td>\n",
       "    </tr>\n",
       "    <tr>\n",
       "      <th>1</th>\n",
       "      <td>1</td>\n",
       "      <td>1</td>\n",
       "      <td>Diversity Day</td>\n",
       "      <td>Michael's off color remark puts a sensitivity ...</td>\n",
       "      <td>8.3</td>\n",
       "      <td>4801</td>\n",
       "      <td>6.0</td>\n",
       "      <td>23</td>\n",
       "      <td>29 March 2005</td>\n",
       "      <td>Ken Kwapis</td>\n",
       "      <td>B. J. Novak</td>\n",
       "      <td>lightgreen</td>\n",
       "    </tr>\n",
       "    <tr>\n",
       "      <th>2</th>\n",
       "      <td>2</td>\n",
       "      <td>1</td>\n",
       "      <td>Health Care</td>\n",
       "      <td>Michael leaves Dwight in charge of picking the...</td>\n",
       "      <td>7.8</td>\n",
       "      <td>4024</td>\n",
       "      <td>5.8</td>\n",
       "      <td>22</td>\n",
       "      <td>5 April 2005</td>\n",
       "      <td>Ken Whittingham</td>\n",
       "      <td>Paul Lieberstein</td>\n",
       "      <td>yellow</td>\n",
       "    </tr>\n",
       "    <tr>\n",
       "      <th>3</th>\n",
       "      <td>3</td>\n",
       "      <td>1</td>\n",
       "      <td>The Alliance</td>\n",
       "      <td>Just for a laugh, Jim agrees to an alliance wi...</td>\n",
       "      <td>8.1</td>\n",
       "      <td>3915</td>\n",
       "      <td>5.4</td>\n",
       "      <td>23</td>\n",
       "      <td>12 April 2005</td>\n",
       "      <td>Bryan Gordon</td>\n",
       "      <td>Michael Schur</td>\n",
       "      <td>yellow</td>\n",
       "    </tr>\n",
       "    <tr>\n",
       "      <th>4</th>\n",
       "      <td>4</td>\n",
       "      <td>1</td>\n",
       "      <td>Basketball</td>\n",
       "      <td>Michael and his staff challenge the warehouse ...</td>\n",
       "      <td>8.4</td>\n",
       "      <td>4294</td>\n",
       "      <td>5.0</td>\n",
       "      <td>23</td>\n",
       "      <td>19 April 2005</td>\n",
       "      <td>Greg Daniels</td>\n",
       "      <td>Greg Daniels</td>\n",
       "      <td>lightgreen</td>\n",
       "    </tr>\n",
       "  </tbody>\n",
       "</table>\n",
       "</div>"
      ],
      "text/plain": [
       "   episode  season  episode_title  \\\n",
       "0        0       1          Pilot   \n",
       "1        1       1  Diversity Day   \n",
       "2        2       1    Health Care   \n",
       "3        3       1   The Alliance   \n",
       "4        4       1     Basketball   \n",
       "\n",
       "                                               about  ratings  votes  \\\n",
       "0  The premiere episode introduces the boss and s...      7.5   4936   \n",
       "1  Michael's off color remark puts a sensitivity ...      8.3   4801   \n",
       "2  Michael leaves Dwight in charge of picking the...      7.8   4024   \n",
       "3  Just for a laugh, Jim agrees to an alliance wi...      8.1   3915   \n",
       "4  Michael and his staff challenge the warehouse ...      8.4   4294   \n",
       "\n",
       "   viewership  duration            date         director  \\\n",
       "0        11.2        23   24 March 2005       Ken Kwapis   \n",
       "1         6.0        23   29 March 2005       Ken Kwapis   \n",
       "2         5.8        22    5 April 2005  Ken Whittingham   \n",
       "3         5.4        23   12 April 2005     Bryan Gordon   \n",
       "4         5.0        23   19 April 2005     Greg Daniels   \n",
       "\n",
       "                                            writers       color  \n",
       "0  Ricky Gervais |Stephen Merchant and Greg Daniels      yellow  \n",
       "1                                       B. J. Novak  lightgreen  \n",
       "2                                  Paul Lieberstein      yellow  \n",
       "3                                     Michael Schur      yellow  \n",
       "4                                      Greg Daniels  lightgreen  "
      ]
     },
     "execution_count": 2,
     "metadata": {},
     "output_type": "execute_result"
    }
   ],
   "source": [
    "# getting the office data from wrangle file\n",
    "df = the_office()\n",
    "df.head() # check_yo_head"
   ]
  },
  {
   "cell_type": "markdown",
   "id": "4b3f358b",
   "metadata": {},
   "source": [
    "### Let's Make a Word Cloud of The Office"
   ]
  },
  {
   "cell_type": "code",
   "execution_count": 11,
   "id": "b7e24db7",
   "metadata": {},
   "outputs": [
    {
     "data": {
      "text/plain": [
       "(-0.5, 1199.5, 799.5, -0.5)"
      ]
     },
     "execution_count": 11,
     "metadata": {},
     "output_type": "execute_result"
    },
    {
     "data": {
      "image/png": "[encoded data removed]",
      "text/plain": [
       "<Figure size 432x288 with 1 Axes>"
      ]
     },
     "metadata": {
      "needs_background": "light"
     },
     "output_type": "display_data"
    }
   ],
   "source": [
    "about = df.about\n",
    "# wordcloud of what each episode is about\n",
    "img = WordCloud(background_color='white', width=1200, height=800).generate(str(about))\n",
    "plt.imshow(img)\n",
    "plt.axis('off')"
   ]
  },
  {
   "cell_type": "code",
   "execution_count": 12,
   "id": "6e4fb0f2",
   "metadata": {},
   "outputs": [
    {
     "data": {
      "text/html": [
       "<div>\n",
       "<style scoped>\n",
       "    .dataframe tbody tr th:only-of-type {\n",
       "        vertical-align: middle;\n",
       "    }\n",
       "\n",
       "    .dataframe tbody tr th {\n",
       "        vertical-align: top;\n",
       "    }\n",
       "\n",
       "    .dataframe thead th {\n",
       "        text-align: right;\n",
       "    }\n",
       "</style>\n",
       "<table border=\"1\" class=\"dataframe\">\n",
       "  <thead>\n",
       "    <tr style=\"text-align: right;\">\n",
       "      <th></th>\n",
       "      <th>episode</th>\n",
       "      <th>season</th>\n",
       "      <th>episode_title</th>\n",
       "      <th>about</th>\n",
       "      <th>ratings</th>\n",
       "      <th>votes</th>\n",
       "      <th>viewership</th>\n",
       "      <th>duration</th>\n",
       "      <th>date</th>\n",
       "      <th>guest_stars</th>\n",
       "      <th>director</th>\n",
       "      <th>writers</th>\n",
       "      <th>color</th>\n",
       "    </tr>\n",
       "  </thead>\n",
       "  <tbody>\n",
       "    <tr>\n",
       "      <th>5</th>\n",
       "      <td>5</td>\n",
       "      <td>1</td>\n",
       "      <td>Hot Girl</td>\n",
       "      <td>Michael is just one of the many male staff who...</td>\n",
       "      <td>7.7</td>\n",
       "      <td>3854</td>\n",
       "      <td>4.8</td>\n",
       "      <td>23</td>\n",
       "      <td>26 April 2005</td>\n",
       "      <td>Amy Adams</td>\n",
       "      <td>Amy Heckerling</td>\n",
       "      <td>Mindy Kaling</td>\n",
       "      <td>yellow</td>\n",
       "    </tr>\n",
       "    <tr>\n",
       "      <th>8</th>\n",
       "      <td>8</td>\n",
       "      <td>2</td>\n",
       "      <td>Office Olympics</td>\n",
       "      <td>Ready to finalize his deal for a new condo, Mi...</td>\n",
       "      <td>8.4</td>\n",
       "      <td>3665</td>\n",
       "      <td>8.3</td>\n",
       "      <td>22</td>\n",
       "      <td>4 October 2005</td>\n",
       "      <td>Nancy Carell</td>\n",
       "      <td>Paul Feig</td>\n",
       "      <td>Michael Schur</td>\n",
       "      <td>lightgreen</td>\n",
       "    </tr>\n",
       "    <tr>\n",
       "      <th>9</th>\n",
       "      <td>9</td>\n",
       "      <td>2</td>\n",
       "      <td>The Fire</td>\n",
       "      <td>A fire in the kitchen relegates the staff to t...</td>\n",
       "      <td>8.4</td>\n",
       "      <td>3607</td>\n",
       "      <td>7.6</td>\n",
       "      <td>22</td>\n",
       "      <td>11 October 2005</td>\n",
       "      <td>Amy Adams</td>\n",
       "      <td>Ken Kwapis</td>\n",
       "      <td>B. J. Novak</td>\n",
       "      <td>lightgreen</td>\n",
       "    </tr>\n",
       "    <tr>\n",
       "      <th>12</th>\n",
       "      <td>12</td>\n",
       "      <td>2</td>\n",
       "      <td>The Client</td>\n",
       "      <td>With Michael and Jan Levinson-Gould away from ...</td>\n",
       "      <td>8.6</td>\n",
       "      <td>3533</td>\n",
       "      <td>7.5</td>\n",
       "      <td>22</td>\n",
       "      <td>8 November 2005</td>\n",
       "      <td>Tim Meadows</td>\n",
       "      <td>Greg Daniels</td>\n",
       "      <td>Paul Lieberstein</td>\n",
       "      <td>lightgreen</td>\n",
       "    </tr>\n",
       "    <tr>\n",
       "      <th>14</th>\n",
       "      <td>14</td>\n",
       "      <td>2</td>\n",
       "      <td>E-Mail Surveillance</td>\n",
       "      <td>Michael decides to set up e-mail surveillance ...</td>\n",
       "      <td>8.4</td>\n",
       "      <td>3338</td>\n",
       "      <td>8.1</td>\n",
       "      <td>23</td>\n",
       "      <td>22 November 2005</td>\n",
       "      <td>Ken Jeong</td>\n",
       "      <td>Paul Feig</td>\n",
       "      <td>Jennifer Celotta</td>\n",
       "      <td>lightgreen</td>\n",
       "    </tr>\n",
       "  </tbody>\n",
       "</table>\n",
       "</div>"
      ],
      "text/plain": [
       "    episode  season        episode_title  \\\n",
       "5         5       1             Hot Girl   \n",
       "8         8       2      Office Olympics   \n",
       "9         9       2             The Fire   \n",
       "12       12       2           The Client   \n",
       "14       14       2  E-Mail Surveillance   \n",
       "\n",
       "                                                about  ratings  votes  \\\n",
       "5   Michael is just one of the many male staff who...      7.7   3854   \n",
       "8   Ready to finalize his deal for a new condo, Mi...      8.4   3665   \n",
       "9   A fire in the kitchen relegates the staff to t...      8.4   3607   \n",
       "12  With Michael and Jan Levinson-Gould away from ...      8.6   3533   \n",
       "14  Michael decides to set up e-mail surveillance ...      8.4   3338   \n",
       "\n",
       "    viewership  duration               date   guest_stars        director  \\\n",
       "5          4.8        23      26 April 2005     Amy Adams  Amy Heckerling   \n",
       "8          8.3        22     4 October 2005  Nancy Carell       Paul Feig   \n",
       "9          7.6        22    11 October 2005     Amy Adams      Ken Kwapis   \n",
       "12         7.5        22    8 November 2005   Tim Meadows    Greg Daniels   \n",
       "14         8.1        23   22 November 2005     Ken Jeong       Paul Feig   \n",
       "\n",
       "             writers       color  \n",
       "5       Mindy Kaling      yellow  \n",
       "8      Michael Schur  lightgreen  \n",
       "9        B. J. Novak  lightgreen  \n",
       "12  Paul Lieberstein  lightgreen  \n",
       "14  Jennifer Celotta  lightgreen  "
      ]
     },
     "execution_count": 12,
     "metadata": {},
     "output_type": "execute_result"
    }
   ],
   "source": [
    "# getting the guest office data from wrangle file\n",
    "guest_df = guest_office()\n",
    "guest_df.head() # check_yo_head"
   ]
  },
  {
   "cell_type": "code",
   "execution_count": 6,
   "id": "086fbcbc",
   "metadata": {},
   "outputs": [
    {
     "data": {
      "text/plain": [
       "(29, 13)"
      ]
     },
     "execution_count": 6,
     "metadata": {},
     "output_type": "execute_result"
    }
   ],
   "source": [
    "guest_df.shape"
   ]
  },
  {
   "cell_type": "markdown",
   "id": "f64c0cc8",
   "metadata": {},
   "source": [
    "- It looks like there are 29 episodes with a guest star"
   ]
  },
  {
   "cell_type": "code",
   "execution_count": 14,
   "id": "cd75d37a",
   "metadata": {
    "scrolled": true
   },
   "outputs": [
    {
     "data": {
      "text/html": [
       "<div>\n",
       "<style scoped>\n",
       "    .dataframe tbody tr th:only-of-type {\n",
       "        vertical-align: middle;\n",
       "    }\n",
       "\n",
       "    .dataframe tbody tr th {\n",
       "        vertical-align: top;\n",
       "    }\n",
       "\n",
       "    .dataframe thead th {\n",
       "        text-align: right;\n",
       "    }\n",
       "</style>\n",
       "<table border=\"1\" class=\"dataframe\">\n",
       "  <thead>\n",
       "    <tr style=\"text-align: right;\">\n",
       "      <th></th>\n",
       "      <th>season</th>\n",
       "      <th>episodes</th>\n",
       "    </tr>\n",
       "  </thead>\n",
       "  <tbody>\n",
       "    <tr>\n",
       "      <th>0</th>\n",
       "      <td>1</td>\n",
       "      <td>6</td>\n",
       "    </tr>\n",
       "    <tr>\n",
       "      <th>1</th>\n",
       "      <td>2</td>\n",
       "      <td>22</td>\n",
       "    </tr>\n",
       "    <tr>\n",
       "      <th>2</th>\n",
       "      <td>3</td>\n",
       "      <td>23</td>\n",
       "    </tr>\n",
       "    <tr>\n",
       "      <th>3</th>\n",
       "      <td>4</td>\n",
       "      <td>14</td>\n",
       "    </tr>\n",
       "    <tr>\n",
       "      <th>4</th>\n",
       "      <td>5</td>\n",
       "      <td>26</td>\n",
       "    </tr>\n",
       "    <tr>\n",
       "      <th>5</th>\n",
       "      <td>6</td>\n",
       "      <td>26</td>\n",
       "    </tr>\n",
       "    <tr>\n",
       "      <th>6</th>\n",
       "      <td>7</td>\n",
       "      <td>24</td>\n",
       "    </tr>\n",
       "    <tr>\n",
       "      <th>7</th>\n",
       "      <td>8</td>\n",
       "      <td>24</td>\n",
       "    </tr>\n",
       "    <tr>\n",
       "      <th>8</th>\n",
       "      <td>9</td>\n",
       "      <td>23</td>\n",
       "    </tr>\n",
       "  </tbody>\n",
       "</table>\n",
       "</div>"
      ],
      "text/plain": [
       "   season  episodes\n",
       "0       1         6\n",
       "1       2        22\n",
       "2       3        23\n",
       "3       4        14\n",
       "4       5        26\n",
       "5       6        26\n",
       "6       7        24\n",
       "7       8        24\n",
       "8       9        23"
      ]
     },
     "execution_count": 14,
     "metadata": {},
     "output_type": "execute_result"
    }
   ],
   "source": [
    "# looking at how many seasons and episodes there are\n",
    "season_episodes()"
   ]
  },
  {
   "cell_type": "markdown",
   "id": "02c86ac4",
   "metadata": {},
   "source": [
    "### Takeaways\n",
    "- There are 9 seasons of The Office\n",
    "- Season 1 was the shortest season with only 6 episodes\n",
    "- Season 2 through 9 averaged between 22 to 26 episodes with the exeption of season 4 with 14 episodes"
   ]
  },
  {
   "cell_type": "markdown",
   "id": "111b3108",
   "metadata": {},
   "source": [
    "# Explore"
   ]
  },
  {
   "cell_type": "markdown",
   "id": "82805767",
   "metadata": {},
   "source": [
    "# Let's see what was the most popular episode"
   ]
  },
  {
   "cell_type": "code",
   "execution_count": 15,
   "id": "15a548ef",
   "metadata": {},
   "outputs": [
    {
     "data": {
      "text/plain": [
       "episode                                                         77\n",
       "season                                                           5\n",
       "episode_title                                        Stress Relief\n",
       "about            Dwight's too-realistic fire alarm gives Stanle...\n",
       "ratings                                                        9.7\n",
       "votes                                                         8170\n",
       "viewership                                                   22.91\n",
       "duration                                                        60\n",
       "date                                               1 February 2009\n",
       "director                                             Jeffrey Blitz\n",
       "writers                                           Paul Lieberstein\n",
       "color                                                    darkgreen\n",
       "Name: 77, dtype: object"
      ]
     },
     "execution_count": 15,
     "metadata": {},
     "output_type": "execute_result"
    }
   ],
   "source": [
    "max_views()"
   ]
  },
  {
   "cell_type": "markdown",
   "id": "47e952bd",
   "metadata": {},
   "source": [
    "- The most popular episode is 77, season 5 \"Stress Relief\""
   ]
  },
  {
   "cell_type": "code",
   "execution_count": 16,
   "id": "54e97808",
   "metadata": {},
   "outputs": [
    {
     "data": {
      "text/html": [
       "<div>\n",
       "<style scoped>\n",
       "    .dataframe tbody tr th:only-of-type {\n",
       "        vertical-align: middle;\n",
       "    }\n",
       "\n",
       "    .dataframe tbody tr th {\n",
       "        vertical-align: top;\n",
       "    }\n",
       "\n",
       "    .dataframe thead th {\n",
       "        text-align: right;\n",
       "    }\n",
       "</style>\n",
       "<table border=\"1\" class=\"dataframe\">\n",
       "  <thead>\n",
       "    <tr style=\"text-align: right;\">\n",
       "      <th></th>\n",
       "      <th>episode</th>\n",
       "      <th>ratings</th>\n",
       "    </tr>\n",
       "  </thead>\n",
       "  <tbody>\n",
       "    <tr>\n",
       "      <th>0</th>\n",
       "      <td>0</td>\n",
       "      <td>7</td>\n",
       "    </tr>\n",
       "    <tr>\n",
       "      <th>1</th>\n",
       "      <td>1</td>\n",
       "      <td>8</td>\n",
       "    </tr>\n",
       "    <tr>\n",
       "      <th>2</th>\n",
       "      <td>2</td>\n",
       "      <td>7</td>\n",
       "    </tr>\n",
       "    <tr>\n",
       "      <th>3</th>\n",
       "      <td>3</td>\n",
       "      <td>8</td>\n",
       "    </tr>\n",
       "    <tr>\n",
       "      <th>4</th>\n",
       "      <td>4</td>\n",
       "      <td>8</td>\n",
       "    </tr>\n",
       "    <tr>\n",
       "      <th>...</th>\n",
       "      <td>...</td>\n",
       "      <td>...</td>\n",
       "    </tr>\n",
       "    <tr>\n",
       "      <th>183</th>\n",
       "      <td>183</td>\n",
       "      <td>8</td>\n",
       "    </tr>\n",
       "    <tr>\n",
       "      <th>184</th>\n",
       "      <td>184</td>\n",
       "      <td>8</td>\n",
       "    </tr>\n",
       "    <tr>\n",
       "      <th>185</th>\n",
       "      <td>185</td>\n",
       "      <td>9</td>\n",
       "    </tr>\n",
       "    <tr>\n",
       "      <th>186</th>\n",
       "      <td>186</td>\n",
       "      <td>9</td>\n",
       "    </tr>\n",
       "    <tr>\n",
       "      <th>187</th>\n",
       "      <td>187</td>\n",
       "      <td>9</td>\n",
       "    </tr>\n",
       "  </tbody>\n",
       "</table>\n",
       "<p>188 rows × 2 columns</p>\n",
       "</div>"
      ],
      "text/plain": [
       "     episode  ratings\n",
       "0          0        7\n",
       "1          1        8\n",
       "2          2        7\n",
       "3          3        8\n",
       "4          4        8\n",
       "..       ...      ...\n",
       "183      183        8\n",
       "184      184        8\n",
       "185      185        9\n",
       "186      186        9\n",
       "187      187        9\n",
       "\n",
       "[188 rows x 2 columns]"
      ]
     },
     "execution_count": 16,
     "metadata": {},
     "output_type": "execute_result"
    }
   ],
   "source": [
    "cluster_df()"
   ]
  },
  {
   "cell_type": "code",
   "execution_count": null,
   "id": "da197e22",
   "metadata": {},
   "outputs": [],
   "source": []
  },
  {
   "cell_type": "code",
   "execution_count": null,
   "id": "1019797c",
   "metadata": {},
   "outputs": [],
   "source": []
  }
 ],
 "metadata": {
  "kernelspec": {
   "display_name": "Python 3",
   "language": "python",
   "name": "python3"
  },
  "language_info": {
   "codemirror_mode": {
    "name": "ipython",
    "version": 3
   },
   "file_extension": ".py",
   "mimetype": "text/x-python",
   "name": "python",
   "nbconvert_exporter": "python",
   "pygments_lexer": "ipython3",
   "version": "3.8.8"
  }
 },
 "nbformat": 4,
 "nbformat_minor": 5
}
