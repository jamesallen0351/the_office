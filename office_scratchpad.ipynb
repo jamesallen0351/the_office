{
 "cells": [
  {
   "cell_type": "markdown",
   "id": "73786c90",
   "metadata": {},
   "source": [
    "# The Office Scratchpad"
   ]
  },
  {
   "cell_type": "code",
   "execution_count": 1,
   "id": "c692670e",
   "metadata": {},
   "outputs": [],
   "source": [
    "# imports\n",
    "\n",
    "import pandas as pd\n",
    "import numpy as np\n",
    "import matplotlib.pyplot as plt"
   ]
  },
  {
   "cell_type": "markdown",
   "id": "bd0c50e4",
   "metadata": {},
   "source": [
    "# Acquire"
   ]
  },
  {
   "cell_type": "code",
   "execution_count": 4,
   "id": "cb6d565f",
   "metadata": {},
   "outputs": [],
   "source": [
    "# functions to set data to be used in my visualizations \n",
    "def set_color(ratings):\n",
    "    if ratings < 7.4:\n",
    "        return 'red'\n",
    "    elif (ratings >= 7.4) & (ratings < 8.2):\n",
    "        return 'yellow'\n",
    "    elif (ratings >= 8.2) & (ratings < 9.0):\n",
    "        return 'lightgreen'\n",
    "    elif (ratings >= 9.0):\n",
    "        return 'darkgreen'"
   ]
  },
  {
   "cell_type": "code",
   "execution_count": 5,
   "id": "5e57e1a1",
   "metadata": {},
   "outputs": [],
   "source": [
    "def the_office():\n",
    "    '''\n",
    "    Function to read the office series csv file,\n",
    "    and drop null values in the data,\n",
    "    rename columns for readability,\n",
    "    convert column names to lowercase\n",
    "    and save the new df to a csv file\n",
    "    '''\n",
    "    # reading the office series data from a csv file\n",
    "    df = pd.read_csv('the_office_series.csv')\n",
    "    # dropping the GuestStars column, too many null values\n",
    "    df = df.drop(columns='GuestStars')\n",
    "    # renaming the columns for readability\n",
    "    df = df.rename(columns={\"Unnamed: 0\": \"Episode\", \"EpisodeTitle\": \"Episode_Title\"})\n",
    "    # convert column names to lowercase\n",
    "    df.columns = [col.lower() for col in df]\n",
    "    # adding a color column to the df\n",
    "    df['color'] = df['ratings'].apply(set_color)\n",
    "    # saving the office data to a csv\n",
    "    df.to_csv('the_office.csv')\n",
    "    \n",
    "    return df"
   ]
  },
  {
   "cell_type": "code",
   "execution_count": 6,
   "id": "d52077c3",
   "metadata": {},
   "outputs": [
    {
     "data": {
      "text/html": [
       "<div>\n",
       "<style scoped>\n",
       "    .dataframe tbody tr th:only-of-type {\n",
       "        vertical-align: middle;\n",
       "    }\n",
       "\n",
       "    .dataframe tbody tr th {\n",
       "        vertical-align: top;\n",
       "    }\n",
       "\n",
       "    .dataframe thead th {\n",
       "        text-align: right;\n",
       "    }\n",
       "</style>\n",
       "<table border=\"1\" class=\"dataframe\">\n",
       "  <thead>\n",
       "    <tr style=\"text-align: right;\">\n",
       "      <th></th>\n",
       "      <th>episode</th>\n",
       "      <th>season</th>\n",
       "      <th>episode_title</th>\n",
       "      <th>about</th>\n",
       "      <th>ratings</th>\n",
       "      <th>votes</th>\n",
       "      <th>viewership</th>\n",
       "      <th>duration</th>\n",
       "      <th>date</th>\n",
       "      <th>director</th>\n",
       "      <th>writers</th>\n",
       "      <th>color</th>\n",
       "    </tr>\n",
       "  </thead>\n",
       "  <tbody>\n",
       "    <tr>\n",
       "      <th>0</th>\n",
       "      <td>0</td>\n",
       "      <td>1</td>\n",
       "      <td>Pilot</td>\n",
       "      <td>The premiere episode introduces the boss and s...</td>\n",
       "      <td>7.5</td>\n",
       "      <td>4936</td>\n",
       "      <td>11.2</td>\n",
       "      <td>23</td>\n",
       "      <td>24 March 2005</td>\n",
       "      <td>Ken Kwapis</td>\n",
       "      <td>Ricky Gervais |Stephen Merchant and Greg Daniels</td>\n",
       "      <td>yellow</td>\n",
       "    </tr>\n",
       "    <tr>\n",
       "      <th>1</th>\n",
       "      <td>1</td>\n",
       "      <td>1</td>\n",
       "      <td>Diversity Day</td>\n",
       "      <td>Michael's off color remark puts a sensitivity ...</td>\n",
       "      <td>8.3</td>\n",
       "      <td>4801</td>\n",
       "      <td>6.0</td>\n",
       "      <td>23</td>\n",
       "      <td>29 March 2005</td>\n",
       "      <td>Ken Kwapis</td>\n",
       "      <td>B. J. Novak</td>\n",
       "      <td>lightgreen</td>\n",
       "    </tr>\n",
       "    <tr>\n",
       "      <th>2</th>\n",
       "      <td>2</td>\n",
       "      <td>1</td>\n",
       "      <td>Health Care</td>\n",
       "      <td>Michael leaves Dwight in charge of picking the...</td>\n",
       "      <td>7.8</td>\n",
       "      <td>4024</td>\n",
       "      <td>5.8</td>\n",
       "      <td>22</td>\n",
       "      <td>5 April 2005</td>\n",
       "      <td>Ken Whittingham</td>\n",
       "      <td>Paul Lieberstein</td>\n",
       "      <td>yellow</td>\n",
       "    </tr>\n",
       "    <tr>\n",
       "      <th>3</th>\n",
       "      <td>3</td>\n",
       "      <td>1</td>\n",
       "      <td>The Alliance</td>\n",
       "      <td>Just for a laugh, Jim agrees to an alliance wi...</td>\n",
       "      <td>8.1</td>\n",
       "      <td>3915</td>\n",
       "      <td>5.4</td>\n",
       "      <td>23</td>\n",
       "      <td>12 April 2005</td>\n",
       "      <td>Bryan Gordon</td>\n",
       "      <td>Michael Schur</td>\n",
       "      <td>yellow</td>\n",
       "    </tr>\n",
       "    <tr>\n",
       "      <th>4</th>\n",
       "      <td>4</td>\n",
       "      <td>1</td>\n",
       "      <td>Basketball</td>\n",
       "      <td>Michael and his staff challenge the warehouse ...</td>\n",
       "      <td>8.4</td>\n",
       "      <td>4294</td>\n",
       "      <td>5.0</td>\n",
       "      <td>23</td>\n",
       "      <td>19 April 2005</td>\n",
       "      <td>Greg Daniels</td>\n",
       "      <td>Greg Daniels</td>\n",
       "      <td>lightgreen</td>\n",
       "    </tr>\n",
       "  </tbody>\n",
       "</table>\n",
       "</div>"
      ],
      "text/plain": [
       "   episode  season  episode_title  \\\n",
       "0        0       1          Pilot   \n",
       "1        1       1  Diversity Day   \n",
       "2        2       1    Health Care   \n",
       "3        3       1   The Alliance   \n",
       "4        4       1     Basketball   \n",
       "\n",
       "                                               about  ratings  votes  \\\n",
       "0  The premiere episode introduces the boss and s...      7.5   4936   \n",
       "1  Michael's off color remark puts a sensitivity ...      8.3   4801   \n",
       "2  Michael leaves Dwight in charge of picking the...      7.8   4024   \n",
       "3  Just for a laugh, Jim agrees to an alliance wi...      8.1   3915   \n",
       "4  Michael and his staff challenge the warehouse ...      8.4   4294   \n",
       "\n",
       "   viewership  duration            date         director  \\\n",
       "0        11.2        23   24 March 2005       Ken Kwapis   \n",
       "1         6.0        23   29 March 2005       Ken Kwapis   \n",
       "2         5.8        22    5 April 2005  Ken Whittingham   \n",
       "3         5.4        23   12 April 2005     Bryan Gordon   \n",
       "4         5.0        23   19 April 2005     Greg Daniels   \n",
       "\n",
       "                                            writers       color  \n",
       "0  Ricky Gervais |Stephen Merchant and Greg Daniels      yellow  \n",
       "1                                       B. J. Novak  lightgreen  \n",
       "2                                  Paul Lieberstein      yellow  \n",
       "3                                     Michael Schur      yellow  \n",
       "4                                      Greg Daniels  lightgreen  "
      ]
     },
     "execution_count": 6,
     "metadata": {},
     "output_type": "execute_result"
    }
   ],
   "source": [
    "# getting the office data using the office function \n",
    "df = the_office()\n",
    "df.head()"
   ]
  },
  {
   "cell_type": "code",
   "execution_count": null,
   "id": "7dd7ff5e",
   "metadata": {},
   "outputs": [],
   "source": [
    "# reading the office series csv file\n",
    "df = pd.read_csv('the_office_series.csv')\n",
    "df.head() # check_yo_head"
   ]
  },
  {
   "cell_type": "code",
   "execution_count": null,
   "id": "c43a9f45",
   "metadata": {},
   "outputs": [],
   "source": [
    "df.info()"
   ]
  },
  {
   "cell_type": "code",
   "execution_count": null,
   "id": "23cf7e2c",
   "metadata": {},
   "outputs": [],
   "source": [
    "# convert column names to lowercase, replace '.' in column names with '_'\n",
    "df.columns = [col.lower().replace('.', '_') for col in df]"
   ]
  },
  {
   "cell_type": "code",
   "execution_count": null,
   "id": "93177de7",
   "metadata": {},
   "outputs": [],
   "source": [
    "df.head()"
   ]
  },
  {
   "cell_type": "code",
   "execution_count": null,
   "id": "b6779bd4",
   "metadata": {},
   "outputs": [],
   "source": [
    "# looking at the shape of the data\n",
    "df.shape"
   ]
  },
  {
   "cell_type": "code",
   "execution_count": null,
   "id": "927604da",
   "metadata": {},
   "outputs": [],
   "source": [
    "# looking at the data info\n",
    "df.info()"
   ]
  },
  {
   "cell_type": "code",
   "execution_count": null,
   "id": "90773f66",
   "metadata": {},
   "outputs": [],
   "source": [
    "# checking for nulls in the data\n",
    "df.isna().sum()"
   ]
  },
  {
   "cell_type": "markdown",
   "id": "7c679728",
   "metadata": {},
   "source": [
    "It looks like there are only nulls in the Gueststar column,\n",
    "I think I will make a gueststar df and then drop it for the original df"
   ]
  },
  {
   "cell_type": "code",
   "execution_count": null,
   "id": "deeff53f",
   "metadata": {},
   "outputs": [],
   "source": [
    "def guest_office():\n",
    "    '''\n",
    "    Function to create a df where there are guest stars on the episode,\n",
    "    drop the null values in the data,\n",
    "    rename columns for readability,\n",
    "    convert column names to lowercase\n",
    "    and save the df to a csv file \n",
    "    '''\n",
    "    # reading the office series data from a csv file\n",
    "    df = pd.read_csv('the_office_series.csv')\n",
    "    # dropping the null values in the GuestStars column\n",
    "    df = df[df.GuestStars.notna()]\n",
    "    # renaming the columns for readability\n",
    "    df = df.rename(columns={\"Unnamed: 0\": \"Episode\", \"EpisodeTitle\": \"Episode_Title\", \"GuestStars\": \"Guest_Stars\"})\n",
    "    # convert column names to lowercase\n",
    "    df.columns = [col.lower() for col in df]\n",
    "    # adding a color column to the df\n",
    "    df['color'] = df['ratings'].apply(set_color)\n",
    "    # saving the office data to a csv\n",
    "    df.to_csv('the_office_guest.csv')\n",
    "    \n",
    "    return df\n",
    "    "
   ]
  },
  {
   "cell_type": "code",
   "execution_count": null,
   "id": "3f15bff7",
   "metadata": {},
   "outputs": [],
   "source": [
    "guest_df = guest_office()\n",
    "guest_df.head()"
   ]
  },
  {
   "cell_type": "code",
   "execution_count": null,
   "id": "7ff56eb9",
   "metadata": {},
   "outputs": [],
   "source": [
    "guest_df.shape"
   ]
  },
  {
   "cell_type": "code",
   "execution_count": null,
   "id": "b12ca0a6",
   "metadata": {},
   "outputs": [],
   "source": [
    "df.head()"
   ]
  },
  {
   "cell_type": "code",
   "execution_count": null,
   "id": "66a91ec7",
   "metadata": {},
   "outputs": [],
   "source": [
    "df = df.drop(columns='GuestStars')"
   ]
  },
  {
   "cell_type": "code",
   "execution_count": null,
   "id": "eba131aa",
   "metadata": {},
   "outputs": [],
   "source": [
    "df.head()"
   ]
  },
  {
   "cell_type": "code",
   "execution_count": null,
   "id": "3258571b",
   "metadata": {},
   "outputs": [],
   "source": [
    "df.tail()"
   ]
  },
  {
   "cell_type": "code",
   "execution_count": null,
   "id": "9377e708",
   "metadata": {},
   "outputs": [],
   "source": [
    "# convert column names to lowercase, replace '.' in column names with '_'\n",
    "df = df.columns = [col.lower().replace('.', '_') for col in df]"
   ]
  },
  {
   "cell_type": "code",
   "execution_count": null,
   "id": "84217ab1",
   "metadata": {},
   "outputs": [],
   "source": [
    "# looking at the episode with the most views\n",
    "max_views = df.loc[df.viewership.idxmax()]\n",
    "max_views"
   ]
  },
  {
   "cell_type": "code",
   "execution_count": null,
   "id": "0e4bf3c6",
   "metadata": {},
   "outputs": [],
   "source": [
    "# making a function for max views\n",
    "\n",
    "def max_views():\n",
    "    '''\n",
    "    function that takes the office data\n",
    "    and findes the episode with the most views\n",
    "    '''\n",
    "    # getting the office data\n",
    "    df = the_office()\n",
    "    # getting the episode data with the most views\n",
    "    views = df.loc[df.viewership.idxmax()]\n",
    "    \n",
    "    return views"
   ]
  },
  {
   "cell_type": "code",
   "execution_count": null,
   "id": "a83b9f37",
   "metadata": {},
   "outputs": [],
   "source": [
    "max_views()"
   ]
  },
  {
   "cell_type": "code",
   "execution_count": null,
   "id": "d5f31551",
   "metadata": {},
   "outputs": [],
   "source": [
    "# checking to see the most viewed episode on the guest df, looks like they are the same\n",
    "guest_max = guest_df.loc[guest_df.viewership.idxmax()]\n",
    "guest_max"
   ]
  },
  {
   "cell_type": "code",
   "execution_count": null,
   "id": "cfeab29c",
   "metadata": {},
   "outputs": [],
   "source": [
    "plt.scatter(df.episode, df.viewership)\n",
    "plt.xlabel(\"Episode\")\n",
    "plt.ylabel(\"Viewership\")\n",
    "plt.title(\"Episode Popularity of The Office\")"
   ]
  },
  {
   "cell_type": "code",
   "execution_count": null,
   "id": "f00b6333",
   "metadata": {},
   "outputs": [],
   "source": [
    "df.info()"
   ]
  },
  {
   "cell_type": "code",
   "execution_count": null,
   "id": "dd6f31b7",
   "metadata": {},
   "outputs": [],
   "source": [
    "df.describe()"
   ]
  },
  {
   "cell_type": "code",
   "execution_count": null,
   "id": "e9337eca",
   "metadata": {},
   "outputs": [],
   "source": [
    "# functions to set data to be used in my visualizations \n",
    "def set_color(ratings):\n",
    "    if ratings < 7.4:\n",
    "        return 'red'\n",
    "    elif (ratings >= 7.4) & (ratings < 8.2):\n",
    "        return 'yellow'\n",
    "    elif (ratings >= 8.2) & (ratings < 9.0):\n",
    "        return 'lightgreen'\n",
    "    elif (ratings >= 9.0):\n",
    "        return 'darkgreen'"
   ]
  },
  {
   "cell_type": "code",
   "execution_count": null,
   "id": "a379ee01",
   "metadata": {},
   "outputs": [],
   "source": [
    "# setting data required in visualizations\n",
    "df['color'] = df['ratings'].apply(set_color)\n",
    "df.head()"
   ]
  },
  {
   "cell_type": "code",
   "execution_count": null,
   "id": "fd58f8f6",
   "metadata": {},
   "outputs": [],
   "source": [
    "plt.scatter(df.episode, df.ratings)\n",
    "plt.xlabel(\"Episode\")\n",
    "plt.ylabel(\"Viewership\")\n",
    "plt.title(\"Episode Popularity of The Office\")"
   ]
  },
  {
   "cell_type": "code",
   "execution_count": null,
   "id": "36231b82",
   "metadata": {},
   "outputs": [],
   "source": [
    "fig, ax = plt.subplots()\n",
    "\n",
    "ax.scatter(x=df.index, \n",
    "           y=df.viewership,\n",
    "           c=df.color,\n",
    "          )\n",
    "plt.xlabel(\"Episode\")\n",
    "plt.ylabel(\"Viewership\")\n",
    "plt.title(\"Episode Popularity of The Office\")"
   ]
  },
  {
   "cell_type": "code",
   "execution_count": null,
   "id": "4512e9e7",
   "metadata": {},
   "outputs": [],
   "source": [
    "import plotly.express as px\n",
    "\n",
    "# dataframe for average duration of each Season\n",
    "avg_season = df.groupby(df.season)[['ratings']].mean().reset_index()\n",
    "\n",
    "fig = px.scatter(avg_season, x = 'season', y = 'ratings',trendline = 'lowess',size = 'season',\n",
    "                 title = '<b>Ratings over each Season</b>')\n",
    "fig.show()"
   ]
  },
  {
   "cell_type": "code",
   "execution_count": null,
   "id": "17387903",
   "metadata": {},
   "outputs": [],
   "source": [
    "import plotly.express as px\n",
    "avg_season = df.groupby(df.season)[['ratings']].mean().reset_index()\n",
    "fig = px.scatter(avg_season, x=\"season\", y=\"ratings\", color=\"ratings\", marginal_y=\"violin\",\n",
    "           marginal_x=\"box\", trendline=\"ols\", template=\"simple_white\", title = '<b>Ratings over each Season</b>')\n",
    "fig.show()"
   ]
  },
  {
   "cell_type": "code",
   "execution_count": null,
   "id": "fb072e34",
   "metadata": {},
   "outputs": [],
   "source": [
    "import plotly.express as px\n",
    "fig = px.bar(x=[\"a\", \"b\", \"c\"], y=[1, 3, 2])\n",
    "fig.write_html('first_figure.html', auto_open=True)"
   ]
  },
  {
   "cell_type": "code",
   "execution_count": 7,
   "id": "080cab14",
   "metadata": {},
   "outputs": [
    {
     "data": {
      "text/html": [
       "<div>\n",
       "<style scoped>\n",
       "    .dataframe tbody tr th:only-of-type {\n",
       "        vertical-align: middle;\n",
       "    }\n",
       "\n",
       "    .dataframe tbody tr th {\n",
       "        vertical-align: top;\n",
       "    }\n",
       "\n",
       "    .dataframe thead th {\n",
       "        text-align: right;\n",
       "    }\n",
       "</style>\n",
       "<table border=\"1\" class=\"dataframe\">\n",
       "  <thead>\n",
       "    <tr style=\"text-align: right;\">\n",
       "      <th></th>\n",
       "      <th>season</th>\n",
       "      <th>episodes</th>\n",
       "    </tr>\n",
       "  </thead>\n",
       "  <tbody>\n",
       "    <tr>\n",
       "      <th>0</th>\n",
       "      <td>1</td>\n",
       "      <td>6</td>\n",
       "    </tr>\n",
       "    <tr>\n",
       "      <th>1</th>\n",
       "      <td>2</td>\n",
       "      <td>22</td>\n",
       "    </tr>\n",
       "    <tr>\n",
       "      <th>2</th>\n",
       "      <td>3</td>\n",
       "      <td>23</td>\n",
       "    </tr>\n",
       "    <tr>\n",
       "      <th>3</th>\n",
       "      <td>4</td>\n",
       "      <td>14</td>\n",
       "    </tr>\n",
       "    <tr>\n",
       "      <th>4</th>\n",
       "      <td>5</td>\n",
       "      <td>26</td>\n",
       "    </tr>\n",
       "    <tr>\n",
       "      <th>5</th>\n",
       "      <td>6</td>\n",
       "      <td>26</td>\n",
       "    </tr>\n",
       "    <tr>\n",
       "      <th>6</th>\n",
       "      <td>7</td>\n",
       "      <td>24</td>\n",
       "    </tr>\n",
       "    <tr>\n",
       "      <th>7</th>\n",
       "      <td>8</td>\n",
       "      <td>24</td>\n",
       "    </tr>\n",
       "    <tr>\n",
       "      <th>8</th>\n",
       "      <td>9</td>\n",
       "      <td>23</td>\n",
       "    </tr>\n",
       "  </tbody>\n",
       "</table>\n",
       "</div>"
      ],
      "text/plain": [
       "   season  episodes\n",
       "0       1         6\n",
       "1       2        22\n",
       "2       3        23\n",
       "3       4        14\n",
       "4       5        26\n",
       "5       6        26\n",
       "6       7        24\n",
       "7       8        24\n",
       "8       9        23"
      ]
     },
     "execution_count": 7,
     "metadata": {},
     "output_type": "execute_result"
    }
   ],
   "source": [
    "df_episodes = df.groupby('season').size().reset_index(name='episodes')\n",
    "df_episodes"
   ]
  },
  {
   "cell_type": "code",
   "execution_count": 8,
   "id": "43135074",
   "metadata": {},
   "outputs": [],
   "source": [
    "def season_episodes():\n",
    "    '''\n",
    "    function that takes the office df and \n",
    "    makes a new df with the season and \n",
    "    number of episodes per season\n",
    "    '''\n",
    "    # getting the office data\n",
    "    df = the_office()\n",
    "    # creating a new df with seasons and episodes\n",
    "    df_episodes = df.groupby('season').size().reset_index(name='episodes')\n",
    "    \n",
    "    return df_episodes"
   ]
  },
  {
   "cell_type": "code",
   "execution_count": 9,
   "id": "dc8bac68",
   "metadata": {},
   "outputs": [
    {
     "data": {
      "text/html": [
       "<div>\n",
       "<style scoped>\n",
       "    .dataframe tbody tr th:only-of-type {\n",
       "        vertical-align: middle;\n",
       "    }\n",
       "\n",
       "    .dataframe tbody tr th {\n",
       "        vertical-align: top;\n",
       "    }\n",
       "\n",
       "    .dataframe thead th {\n",
       "        text-align: right;\n",
       "    }\n",
       "</style>\n",
       "<table border=\"1\" class=\"dataframe\">\n",
       "  <thead>\n",
       "    <tr style=\"text-align: right;\">\n",
       "      <th></th>\n",
       "      <th>season</th>\n",
       "      <th>episodes</th>\n",
       "    </tr>\n",
       "  </thead>\n",
       "  <tbody>\n",
       "    <tr>\n",
       "      <th>0</th>\n",
       "      <td>1</td>\n",
       "      <td>6</td>\n",
       "    </tr>\n",
       "    <tr>\n",
       "      <th>1</th>\n",
       "      <td>2</td>\n",
       "      <td>22</td>\n",
       "    </tr>\n",
       "    <tr>\n",
       "      <th>2</th>\n",
       "      <td>3</td>\n",
       "      <td>23</td>\n",
       "    </tr>\n",
       "    <tr>\n",
       "      <th>3</th>\n",
       "      <td>4</td>\n",
       "      <td>14</td>\n",
       "    </tr>\n",
       "    <tr>\n",
       "      <th>4</th>\n",
       "      <td>5</td>\n",
       "      <td>26</td>\n",
       "    </tr>\n",
       "    <tr>\n",
       "      <th>5</th>\n",
       "      <td>6</td>\n",
       "      <td>26</td>\n",
       "    </tr>\n",
       "    <tr>\n",
       "      <th>6</th>\n",
       "      <td>7</td>\n",
       "      <td>24</td>\n",
       "    </tr>\n",
       "    <tr>\n",
       "      <th>7</th>\n",
       "      <td>8</td>\n",
       "      <td>24</td>\n",
       "    </tr>\n",
       "    <tr>\n",
       "      <th>8</th>\n",
       "      <td>9</td>\n",
       "      <td>23</td>\n",
       "    </tr>\n",
       "  </tbody>\n",
       "</table>\n",
       "</div>"
      ],
      "text/plain": [
       "   season  episodes\n",
       "0       1         6\n",
       "1       2        22\n",
       "2       3        23\n",
       "3       4        14\n",
       "4       5        26\n",
       "5       6        26\n",
       "6       7        24\n",
       "7       8        24\n",
       "8       9        23"
      ]
     },
     "execution_count": 9,
     "metadata": {},
     "output_type": "execute_result"
    }
   ],
   "source": [
    "season_episodes()"
   ]
  },
  {
   "cell_type": "markdown",
   "id": "ad1217e7",
   "metadata": {},
   "source": [
    "# Setting up for Clustering"
   ]
  },
  {
   "cell_type": "code",
   "execution_count": 10,
   "id": "2c59429f",
   "metadata": {},
   "outputs": [],
   "source": [
    "# ignore warnings\n",
    "import warnings\n",
    "warnings.filterwarnings(\"ignore\")\n",
    "\n",
    "# Wrangling\n",
    "import pandas as pd\n",
    "import numpy as np\n",
    "\n",
    "# Exploring\n",
    "import scipy.stats as stats\n",
    "\n",
    "# Visualizing\n",
    "%matplotlib inline\n",
    "import matplotlib.pyplot as plt\n",
    "import seaborn as sns\n",
    "\n",
    "# default pandas decimal number display format\n",
    "pd.options.display.float_format = '{:20,.2f}'.format\n",
    "\n",
    "from wrangle import the_office\n",
    "\n",
    "# ignore warnings\n",
    "import warnings\n",
    "warnings.filterwarnings(\"ignore\")\n",
    "\n",
    "# Wrangling\n",
    "import pandas as pd\n",
    "import numpy as np\n",
    "from sklearn.model_selection import train_test_split\n",
    "\n",
    "# Statistical Tests\n",
    "import scipy.stats as stats\n",
    "\n",
    "# Visualizing\n",
    "import matplotlib.pyplot as plt\n",
    "from matplotlib import cm\n",
    "import seaborn as sns\n",
    "from sklearn.model_selection import learning_curve\n",
    "\n",
    "pd.options.display.float_format = '{:20,.2f}'.format\n"
   ]
  },
  {
   "cell_type": "code",
   "execution_count": null,
   "id": "366e72c8",
   "metadata": {},
   "outputs": [],
   "source": [
    "# getting the office data again\n",
    "df = the_office()"
   ]
  },
  {
   "cell_type": "code",
   "execution_count": null,
   "id": "a5e76439",
   "metadata": {},
   "outputs": [],
   "source": [
    "df.head() # check_yo_head"
   ]
  },
  {
   "cell_type": "code",
   "execution_count": null,
   "id": "6d463968",
   "metadata": {},
   "outputs": [],
   "source": [
    "# histogram of the columns in the data\n",
    "df.hist(figsize=(24, 10), bins=20)"
   ]
  },
  {
   "cell_type": "code",
   "execution_count": null,
   "id": "904e9997",
   "metadata": {},
   "outputs": [],
   "source": [
    "# outliers functions\n",
    "def get_upper_outliers(s, k):\n",
    "    '''\n",
    "    Given a series and a cutoff value, k, returns the upper outliers for the\n",
    "    series.\n",
    "\n",
    "    The values returned will be either 0 (if the point is not an outlier), or a\n",
    "    number that indicates how far away from the upper bound the observation is.\n",
    "    '''\n",
    "    q1, q3 = s.quantile([.25, .75])\n",
    "    iqr = q3 - q1\n",
    "    upper_bound = q3 + k * iqr\n",
    "    return s.apply(lambda x: max([x - upper_bound, 0]))\n",
    "\n",
    "def add_upper_outlier_columns(df, k):\n",
    "    '''\n",
    "    Add a column with the suffix _outliers for all the numeric columns\n",
    "    in the given dataframe.\n",
    "    '''\n",
    "    # outlier_cols = {col + '_outliers': get_upper_outliers(df[col], k)\n",
    "    #                 for col in df.select_dtypes('number')}\n",
    "    # return df.assign(**outlier_cols)\n",
    "\n",
    "    for col in df.select_dtypes('number'):\n",
    "        df[col + '_outliers'] = get_upper_outliers(df[col], k)\n",
    "\n",
    "    return df\n",
    "\n",
    "add_upper_outlier_columns(df, k=1.5)\n",
    "\n",
    "df.head()"
   ]
  },
  {
   "cell_type": "code",
   "execution_count": null,
   "id": "5671bc37",
   "metadata": {},
   "outputs": [],
   "source": [
    "# taking a look at what the outliers look like\n",
    "outlier_cols = [col for col in df if col.endswith('_outliers')]\n",
    "for col in outlier_cols:\n",
    "    print('~~~\\n' + col)\n",
    "    data = df[col][df[col] > 0]\n",
    "    print(data.describe())"
   ]
  },
  {
   "cell_type": "markdown",
   "id": "3e2f4bd9",
   "metadata": {},
   "source": [
    "- Votes: 8, std = 2,175\n",
    "- Viewership: 1, std = 10.83\n",
    "- Duration: 6, std = 7.63"
   ]
  },
  {
   "cell_type": "code",
   "execution_count": null,
   "id": "aca9984d",
   "metadata": {},
   "outputs": [],
   "source": [
    "df.head() # check_yo_head"
   ]
  },
  {
   "cell_type": "code",
   "execution_count": null,
   "id": "ba5ccf5b",
   "metadata": {},
   "outputs": [],
   "source": [
    "# episode, season, ratings, votes, viewership, duration, \n",
    "df = the_office()\n",
    "\n",
    "df.drop(columns=['episode_title', 'about', 'date', 'director', 'writers', 'color', 'votes', 'duration', 'viewership'], inplace=True)\n",
    "df.head()"
   ]
  },
  {
   "cell_type": "code",
   "execution_count": 12,
   "id": "cda21ea0",
   "metadata": {},
   "outputs": [],
   "source": [
    "def cluster_df():\n",
    "    '''\n",
    "    function to make a dataframe for clustering\n",
    "    takes the office data and drops columns\n",
    "    then changes the dataframe to integers\n",
    "    '''\n",
    "    # getting the office data\n",
    "    df = the_office()\n",
    "    # dropping columns that are not needed for clustering\n",
    "    df.drop(columns=['episode_title', 'about', 'date', 'director', 'writers', 'color', 'votes', 'duration', 'viewership', 'season'], inplace=True)\n",
    "    # changing the dataframe type to integers\n",
    "    df = df.astype(int)\n",
    "    \n",
    "    return df"
   ]
  },
  {
   "cell_type": "code",
   "execution_count": 14,
   "id": "846e2485",
   "metadata": {},
   "outputs": [
    {
     "data": {
      "text/html": [
       "<div>\n",
       "<style scoped>\n",
       "    .dataframe tbody tr th:only-of-type {\n",
       "        vertical-align: middle;\n",
       "    }\n",
       "\n",
       "    .dataframe tbody tr th {\n",
       "        vertical-align: top;\n",
       "    }\n",
       "\n",
       "    .dataframe thead th {\n",
       "        text-align: right;\n",
       "    }\n",
       "</style>\n",
       "<table border=\"1\" class=\"dataframe\">\n",
       "  <thead>\n",
       "    <tr style=\"text-align: right;\">\n",
       "      <th></th>\n",
       "      <th>episode</th>\n",
       "      <th>ratings</th>\n",
       "    </tr>\n",
       "  </thead>\n",
       "  <tbody>\n",
       "    <tr>\n",
       "      <th>0</th>\n",
       "      <td>0</td>\n",
       "      <td>7</td>\n",
       "    </tr>\n",
       "    <tr>\n",
       "      <th>1</th>\n",
       "      <td>1</td>\n",
       "      <td>8</td>\n",
       "    </tr>\n",
       "    <tr>\n",
       "      <th>2</th>\n",
       "      <td>2</td>\n",
       "      <td>7</td>\n",
       "    </tr>\n",
       "    <tr>\n",
       "      <th>3</th>\n",
       "      <td>3</td>\n",
       "      <td>8</td>\n",
       "    </tr>\n",
       "    <tr>\n",
       "      <th>4</th>\n",
       "      <td>4</td>\n",
       "      <td>8</td>\n",
       "    </tr>\n",
       "  </tbody>\n",
       "</table>\n",
       "</div>"
      ],
      "text/plain": [
       "   episode  ratings\n",
       "0        0        7\n",
       "1        1        8\n",
       "2        2        7\n",
       "3        3        8\n",
       "4        4        8"
      ]
     },
     "execution_count": 14,
     "metadata": {},
     "output_type": "execute_result"
    }
   ],
   "source": [
    "cluster_df().head()"
   ]
  },
  {
   "cell_type": "code",
   "execution_count": null,
   "id": "098c2679",
   "metadata": {},
   "outputs": [],
   "source": [
    "# checking the info to see if the df is ready to explore\n",
    "df.info()"
   ]
  },
  {
   "cell_type": "code",
   "execution_count": null,
   "id": "7a10599b",
   "metadata": {},
   "outputs": [],
   "source": [
    "# using a describe to see some df stats\n",
    "df.describe()"
   ]
  },
  {
   "cell_type": "code",
   "execution_count": null,
   "id": "9210c87a",
   "metadata": {},
   "outputs": [],
   "source": [
    "# changing the df type to integer \n",
    "df = df.astype(int)"
   ]
  },
  {
   "cell_type": "code",
   "execution_count": null,
   "id": "817bd3fe",
   "metadata": {},
   "outputs": [],
   "source": [
    "# double checking the df info after changing to integer\n",
    "df.info()"
   ]
  },
  {
   "cell_type": "code",
   "execution_count": null,
   "id": "8500914e",
   "metadata": {},
   "outputs": [],
   "source": [
    "# train validate test split\n",
    "# split test off, 20% of original df size. \n",
    "train_validate, test = train_test_split(df, test_size=.2, \n",
    "                                        random_state=42)\n",
    "\n",
    "# split validate off, 30% of what remains (24% of original df size)\n",
    "# thus train will be 56% of original df size. \n",
    "train, validate = train_test_split(train_validate, test_size=.3, \n",
    "                                   random_state=42)\n",
    "\n",
    "print(\"train observations: \", train.size)\n",
    "print(\"validate observations: \", validate.size)\n",
    "print(\"test observations: \", test.size)"
   ]
  },
  {
   "cell_type": "code",
   "execution_count": null,
   "id": "0971784c",
   "metadata": {},
   "outputs": [],
   "source": [
    "# what is the distribution of each variable\n",
    "for col in train.columns:\n",
    "    plt.figure(figsize=(4,2))\n",
    "    plt.hist(train[col])\n",
    "    plt.title(col)\n",
    "    plt.show()"
   ]
  },
  {
   "cell_type": "code",
   "execution_count": null,
   "id": "fef35559",
   "metadata": {},
   "outputs": [],
   "source": [
    "sns.boxplot(train.season, train.ratings)\n",
    "\n",
    "plt.show()"
   ]
  },
  {
   "cell_type": "code",
   "execution_count": null,
   "id": "04ede21f",
   "metadata": {},
   "outputs": [],
   "source": [
    "sns.boxplot(train.ratings, train.episode)\n",
    "\n",
    "plt.show()"
   ]
  },
  {
   "cell_type": "code",
   "execution_count": null,
   "id": "069c870e",
   "metadata": {},
   "outputs": [],
   "source": [
    "sns.boxplot(train.season, train.ratings)\n",
    "\n",
    "plt.show()"
   ]
  },
  {
   "cell_type": "code",
   "execution_count": null,
   "id": "7cea5404",
   "metadata": {},
   "outputs": [],
   "source": [
    "sns.jointplot(x=\"episode\", y=\"ratings\", data=train)\n",
    "plt.xlabel(\"Episode\")\n",
    "plt.ylabel(\"Rating\")\n",
    "plt.show()"
   ]
  },
  {
   "cell_type": "code",
   "execution_count": null,
   "id": "a2453848",
   "metadata": {},
   "outputs": [],
   "source": [
    "sns.jointplot(x=\"season\", y=\"ratings\", data=train)\n",
    "plt.xlabel(\"Episode\")\n",
    "plt.ylabel(\"Rating\")\n",
    "plt.show()"
   ]
  },
  {
   "cell_type": "code",
   "execution_count": null,
   "id": "b2ae8576",
   "metadata": {},
   "outputs": [],
   "source": [
    "# plot age by spending_score\n",
    "plt.scatter(train.episode, train.ratings, color='green')\n",
    "plt.xlabel(\"Episode\")\n",
    "plt.ylabel(\"Ratings\")\n",
    "plt.title(\"Is there a relationship\\nbetween episodes and ratings?\")\n",
    "plt.show()"
   ]
  },
  {
   "cell_type": "code",
   "execution_count": null,
   "id": "7d2013ed",
   "metadata": {},
   "outputs": [],
   "source": [
    "sns.scatterplot(x='episode', y='ratings',\n",
    "                data=train, color='green')\n",
    "plt.show()"
   ]
  },
  {
   "cell_type": "code",
   "execution_count": null,
   "id": "aab2dd3b",
   "metadata": {},
   "outputs": [],
   "source": [
    "sns.boxplot(x='season', y='ratings',\n",
    "                data=train, \n",
    "                color='purple')\n",
    "\n",
    "plt.show()"
   ]
  },
  {
   "cell_type": "code",
   "execution_count": null,
   "id": "f92e7f62",
   "metadata": {},
   "outputs": [],
   "source": [
    "sns.pairplot(train, hue='season')\n",
    "plt.show()"
   ]
  },
  {
   "cell_type": "code",
   "execution_count": null,
   "id": "1b465512",
   "metadata": {},
   "outputs": [],
   "source": [
    "sns.pairplot(train, hue='ratings')\n",
    "plt.show()"
   ]
  },
  {
   "cell_type": "markdown",
   "id": "94effcda",
   "metadata": {},
   "source": [
    "# K-Means"
   ]
  },
  {
   "cell_type": "code",
   "execution_count": null,
   "id": "baadb26a",
   "metadata": {},
   "outputs": [],
   "source": [
    "from sklearn.cluster import KMeans"
   ]
  },
  {
   "cell_type": "code",
   "execution_count": null,
   "id": "52307220",
   "metadata": {
    "scrolled": true
   },
   "outputs": [],
   "source": [
    "df.drop(columns='season', inplace=True)\n",
    "df.head()"
   ]
  },
  {
   "cell_type": "code",
   "execution_count": null,
   "id": "80627db2",
   "metadata": {},
   "outputs": [],
   "source": [
    "X = df\n",
    "\n",
    "kmeans = KMeans(n_clusters=3)\n",
    "kmeans.fit(X)\n",
    "\n",
    "kmeans.predict(X)"
   ]
  },
  {
   "cell_type": "code",
   "execution_count": null,
   "id": "daebf74e",
   "metadata": {},
   "outputs": [],
   "source": [
    "train.groupby('ratings').mean().plot.bar()"
   ]
  },
  {
   "cell_type": "code",
   "execution_count": null,
   "id": "6a3cf90c",
   "metadata": {},
   "outputs": [],
   "source": [
    "kmeans.cluster_centers_"
   ]
  },
  {
   "cell_type": "code",
   "execution_count": null,
   "id": "f4bfe445",
   "metadata": {},
   "outputs": [],
   "source": [
    "centroids = pd.DataFrame(kmeans.cluster_centers_, columns=X.columns)\n",
    "centroids"
   ]
  },
  {
   "cell_type": "code",
   "execution_count": null,
   "id": "0592dd6c",
   "metadata": {},
   "outputs": [],
   "source": [
    "plt.figure(figsize=(14, 9))\n",
    "\n",
    "for cluster, subset in df.groupby('ratings'):\n",
    "    plt.scatter(subset.episode, subset.ratings, label='cluster ' + str(cluster), alpha=.6)\n",
    "\n",
    "centroids.plot.scatter(y='ratings', x='episode', c='black', marker='x', s=1000, ax=plt.gca(), label='centroid')\n",
    "\n",
    "plt.legend()\n",
    "plt.xlabel('episodes')\n",
    "plt.ylabel('ratings')\n",
    "plt.title('Visualizing Cluster Centers')"
   ]
  },
  {
   "cell_type": "code",
   "execution_count": null,
   "id": "41a633a0",
   "metadata": {},
   "outputs": [],
   "source": [
    "kmeans = KMeans(n_clusters=2)\n",
    "kmeans.fit(X)\n",
    "df['cluster'] = kmeans.predict(X)\n",
    "\n",
    "sns.relplot(data=df, x='episode', y='ratings', hue='cluster')"
   ]
  },
  {
   "cell_type": "code",
   "execution_count": null,
   "id": "e3e405f1",
   "metadata": {},
   "outputs": [],
   "source": [
    "kmeans = KMeans(n_clusters=5).fit(X)\n",
    "df['cluster'] = kmeans.predict(X)\n",
    "df.cluster = 'cluster_' + (df.cluster + 1).astype('str')\n",
    "sns.relplot(data=df, x='episode', y='ratings', hue='cluster')"
   ]
  },
  {
   "cell_type": "code",
   "execution_count": null,
   "id": "37c2bb5e",
   "metadata": {},
   "outputs": [],
   "source": [
    "df.head()"
   ]
  },
  {
   "cell_type": "code",
   "execution_count": null,
   "id": "2837b892",
   "metadata": {},
   "outputs": [],
   "source": [
    "df.tail()"
   ]
  },
  {
   "cell_type": "code",
   "execution_count": null,
   "id": "853cf253",
   "metadata": {},
   "outputs": [],
   "source": [
    "df.info()"
   ]
  },
  {
   "cell_type": "code",
   "execution_count": null,
   "id": "68edec3e",
   "metadata": {},
   "outputs": [],
   "source": [
    "df = df.drop(columns='cluster')\n",
    "df.head()"
   ]
  },
  {
   "cell_type": "code",
   "execution_count": null,
   "id": "3340b89f",
   "metadata": {},
   "outputs": [],
   "source": [
    "X = X.drop(columns='cluster')\n",
    "X.head()"
   ]
  },
  {
   "cell_type": "code",
   "execution_count": null,
   "id": "2d7291bc",
   "metadata": {},
   "outputs": [],
   "source": [
    "# choosing k with inertia: elbow method\n",
    "with plt.style.context('seaborn-whitegrid'):\n",
    "    plt.figure(figsize=(9, 6))\n",
    "    pd.Series({k: KMeans(k).fit(X).inertia_ for k in range(1, 12)}).plot(marker='x')\n",
    "    plt.xticks(range(1, 12))\n",
    "    plt.xlabel('k')\n",
    "    plt.ylabel('inertia')\n",
    "    plt.title('Change in inertia as k increases')"
   ]
  },
  {
   "cell_type": "code",
   "execution_count": null,
   "id": "58b08964",
   "metadata": {},
   "outputs": [],
   "source": [
    "fig, axs = plt.subplots(2, 2, figsize=(13, 13), sharex=True, sharey=True)\n",
    "\n",
    "for ax, k in zip(axs.ravel(), range(2, 6)):\n",
    "    clusters = KMeans(k).fit(X).predict(X)\n",
    "    ax.scatter(X.episode, X.ratings, c=clusters)\n",
    "    ax.set(title='k = {}'.format(k), xlabel='episodes', ylabel='ratings')\n"
   ]
  },
  {
   "cell_type": "code",
   "execution_count": null,
   "id": "200c9424",
   "metadata": {},
   "outputs": [],
   "source": [
    "for col in df.columns:\n",
    "    sns.boxplot(df[col])\n",
    "    plt.title(col)\n",
    "    plt.show()"
   ]
  },
  {
   "cell_type": "code",
   "execution_count": null,
   "id": "feb84b19",
   "metadata": {},
   "outputs": [],
   "source": [
    "# list of variables I will cluster on. \n",
    "cluster_vars = ['episode', 'ratings']\n",
    "cluster_name = 'area_cluster'\n",
    "k_range = range(2,20)"
   ]
  },
  {
   "cell_type": "code",
   "execution_count": null,
   "id": "d2b63cb5",
   "metadata": {},
   "outputs": [],
   "source": [
    "def find_k(X_train, cluster_vars, k_range):\n",
    "    sse = []\n",
    "    for k in k_range:\n",
    "        kmeans = KMeans(n_clusters=k)\n",
    "\n",
    "        # X[0] is our X_train dataframe..the first dataframe in the list of dataframes stored in X. \n",
    "        kmeans.fit(X_train[cluster_vars])\n",
    "\n",
    "        # inertia: Sum of squared distances of samples to their closest cluster center.\n",
    "        sse.append(kmeans.inertia_) \n",
    "\n",
    "    # compute the difference from one k to the next\n",
    "    delta = [round(sse[i] - sse[i+1],0) for i in range(len(sse)-1)]\n",
    "\n",
    "    # compute the percent difference from one k to the next\n",
    "    pct_delta = [round(((sse[i] - sse[i+1])/sse[i])*100, 1) for i in range(len(sse)-1)]\n",
    "\n",
    "    # create a dataframe with all of our metrics to compare them across values of k: SSE, delta, pct_delta\n",
    "    k_comparisons_df = pd.DataFrame(dict(k=k_range[0:-1], \n",
    "                             sse=sse[0:-1], \n",
    "                             delta=delta, \n",
    "                             pct_delta=pct_delta))\n",
    "\n",
    "    # plot k with inertia\n",
    "    plt.plot(k_comparisons_df.k, k_comparisons_df.sse, 'bx-')\n",
    "    plt.xlabel('k')\n",
    "    plt.ylabel('SSE')\n",
    "    plt.title('The Elbow Method to find the optimal k\\nFor which k values do we see large decreases in SSE?')\n",
    "    plt.show()\n",
    "\n",
    "    # plot k with pct_delta\n",
    "    plt.plot(k_comparisons_df.k, k_comparisons_df.pct_delta, 'bx-')\n",
    "    plt.xlabel('k')\n",
    "    plt.ylabel('Percent Change')\n",
    "    plt.title('For which k values are we seeing increased changes (%) in SSE?')\n",
    "    plt.show()\n",
    "\n",
    "    # plot k with delta\n",
    "    plt.plot(k_comparisons_df.k, k_comparisons_df.delta, 'bx-')\n",
    "    plt.xlabel('k')\n",
    "    plt.ylabel('Absolute Change in SSE')\n",
    "    plt.title('For which k values are we seeing increased changes (absolute) in SSE?')\n",
    "    plt.show()\n",
    "\n",
    "    return k_comparisons_df"
   ]
  },
  {
   "cell_type": "code",
   "execution_count": null,
   "id": "2797061e",
   "metadata": {},
   "outputs": [],
   "source": [
    "find_k(X, cluster_vars, k_range)"
   ]
  },
  {
   "cell_type": "code",
   "execution_count": null,
   "id": "85cba785",
   "metadata": {},
   "outputs": [],
   "source": [
    "k = 4\n",
    "# as reminders: \n",
    "cluster_vars = ['episode', 'ratings']\n",
    "cluster_name = 'area_cluster'"
   ]
  },
  {
   "cell_type": "code",
   "execution_count": null,
   "id": "535365ad",
   "metadata": {},
   "outputs": [],
   "source": [
    "def create_clusters(X_train, k, cluster_vars):\n",
    "    # create kmean object\n",
    "    kmeans = KMeans(n_clusters=k, random_state = 13)\n",
    "\n",
    "    # fit to train and assign cluster ids to observations\n",
    "    kmeans.fit(X_train[cluster_vars])\n",
    "\n",
    "    return kmeans"
   ]
  },
  {
   "cell_type": "code",
   "execution_count": null,
   "id": "7d67f7be",
   "metadata": {},
   "outputs": [],
   "source": [
    "kmeans = create_clusters(X, k, cluster_vars)"
   ]
  },
  {
   "cell_type": "code",
   "execution_count": null,
   "id": "dbc208e3",
   "metadata": {},
   "outputs": [],
   "source": [
    "kmeans = KMeans(n_clusters=4).fit(X)\n",
    "df['cluster'] = kmeans.predict(X)\n",
    "df.cluster = 'cluster_' + (df.cluster + 1).astype('str')\n",
    "sns.relplot(data=df, x='episode', y='ratings', hue='cluster')"
   ]
  },
  {
   "cell_type": "code",
   "execution_count": null,
   "id": "c9410e21",
   "metadata": {},
   "outputs": [],
   "source": [
    "df.head()"
   ]
  },
  {
   "cell_type": "code",
   "execution_count": null,
   "id": "6814a368",
   "metadata": {},
   "outputs": [],
   "source": []
  }
 ],
 "metadata": {
  "kernelspec": {
   "display_name": "Python 3",
   "language": "python",
   "name": "python3"
  },
  "language_info": {
   "codemirror_mode": {
    "name": "ipython",
    "version": 3
   },
   "file_extension": ".py",
   "mimetype": "text/x-python",
   "name": "python",
   "nbconvert_exporter": "python",
   "pygments_lexer": "ipython3",
   "version": "3.8.8"
  }
 },
 "nbformat": 4,
 "nbformat_minor": 5
}
