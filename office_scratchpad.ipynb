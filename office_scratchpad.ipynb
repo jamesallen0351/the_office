{
 "cells": [
  {
   "cell_type": "markdown",
   "id": "73786c90",
   "metadata": {},
   "source": [
    "# The Office Scratchpad"
   ]
  },
  {
   "cell_type": "code",
   "execution_count": 1,
   "id": "c692670e",
   "metadata": {},
   "outputs": [],
   "source": [
    "# imports\n",
    "\n",
    "import pandas as pd\n",
    "import numpy as np\n",
    "import matplotlib.pyplot as plt"
   ]
  },
  {
   "cell_type": "markdown",
   "id": "bd0c50e4",
   "metadata": {},
   "source": [
    "# Acquire"
   ]
  },
  {
   "cell_type": "code",
   "execution_count": null,
   "id": "cb6d565f",
   "metadata": {},
   "outputs": [],
   "source": [
    "# functions to set data to be used in my visualizations \n",
    "def set_color(ratings):\n",
    "    if ratings < 7.4:\n",
    "        return 'red'\n",
    "    elif (ratings >= 7.4) & (ratings < 8.2):\n",
    "        return 'yellow'\n",
    "    elif (ratings >= 8.2) & (ratings < 9.0):\n",
    "        return 'lightgreen'\n",
    "    elif (ratings >= 9.0):\n",
    "        return 'darkgreen'"
   ]
  },
  {
   "cell_type": "code",
   "execution_count": null,
   "id": "5e57e1a1",
   "metadata": {},
   "outputs": [],
   "source": [
    "def the_office():\n",
    "    '''\n",
    "    Function to read the office series csv file,\n",
    "    and drop null values in the data,\n",
    "    rename columns for readability,\n",
    "    convert column names to lowercase\n",
    "    and save the new df to a csv file\n",
    "    '''\n",
    "    # reading the office series data from a csv file\n",
    "    df = pd.read_csv('the_office_series.csv')\n",
    "    # dropping the GuestStars column, too many null values\n",
    "    df = df.drop(columns='GuestStars')\n",
    "    # renaming the columns for readability\n",
    "    df = df.rename(columns={\"Unnamed: 0\": \"Episode\", \"EpisodeTitle\": \"Episode_Title\"})\n",
    "    # convert column names to lowercase\n",
    "    df.columns = [col.lower() for col in df]\n",
    "    # adding a color column to the df\n",
    "    df['color'] = df['ratings'].apply(set_color)\n",
    "    # saving the office data to a csv\n",
    "    df.to_csv('the_office.csv')\n",
    "    \n",
    "    return df"
   ]
  },
  {
   "cell_type": "code",
   "execution_count": null,
   "id": "d52077c3",
   "metadata": {},
   "outputs": [],
   "source": [
    "# getting the office data using the office function \n",
    "df = the_office()\n",
    "df.head()"
   ]
  },
  {
   "cell_type": "code",
   "execution_count": null,
   "id": "7dd7ff5e",
   "metadata": {},
   "outputs": [],
   "source": [
    "# reading the office series csv file\n",
    "df = pd.read_csv('the_office_series.csv')\n",
    "df.head() # check_yo_head"
   ]
  },
  {
   "cell_type": "code",
   "execution_count": null,
   "id": "c43a9f45",
   "metadata": {},
   "outputs": [],
   "source": [
    "df.info()"
   ]
  },
  {
   "cell_type": "code",
   "execution_count": null,
   "id": "23cf7e2c",
   "metadata": {},
   "outputs": [],
   "source": [
    "# convert column names to lowercase, replace '.' in column names with '_'\n",
    "df.columns = [col.lower().replace('.', '_') for col in df]"
   ]
  },
  {
   "cell_type": "code",
   "execution_count": null,
   "id": "93177de7",
   "metadata": {},
   "outputs": [],
   "source": [
    "df.head()"
   ]
  },
  {
   "cell_type": "code",
   "execution_count": null,
   "id": "b6779bd4",
   "metadata": {},
   "outputs": [],
   "source": [
    "# looking at the shape of the data\n",
    "df.shape"
   ]
  },
  {
   "cell_type": "code",
   "execution_count": null,
   "id": "927604da",
   "metadata": {},
   "outputs": [],
   "source": [
    "# looking at the data info\n",
    "df.info()"
   ]
  },
  {
   "cell_type": "code",
   "execution_count": null,
   "id": "90773f66",
   "metadata": {},
   "outputs": [],
   "source": [
    "# checking for nulls in the data\n",
    "df.isna().sum()"
   ]
  },
  {
   "cell_type": "markdown",
   "id": "7c679728",
   "metadata": {},
   "source": [
    "It looks like there are only nulls in the Gueststar column,\n",
    "I think I will make a gueststar df and then drop it for the original df"
   ]
  },
  {
   "cell_type": "code",
   "execution_count": null,
   "id": "deeff53f",
   "metadata": {},
   "outputs": [],
   "source": [
    "def guest_office():\n",
    "    '''\n",
    "    Function to create a df where there are guest stars on the episode,\n",
    "    drop the null values in the data,\n",
    "    rename columns for readability,\n",
    "    convert column names to lowercase\n",
    "    and save the df to a csv file \n",
    "    '''\n",
    "    # reading the office series data from a csv file\n",
    "    df = pd.read_csv('the_office_series.csv')\n",
    "    # dropping the null values in the GuestStars column\n",
    "    df = df[df.GuestStars.notna()]\n",
    "    # renaming the columns for readability\n",
    "    df = df.rename(columns={\"Unnamed: 0\": \"Episode\", \"EpisodeTitle\": \"Episode_Title\", \"GuestStars\": \"Guest_Stars\"})\n",
    "    # convert column names to lowercase\n",
    "    df.columns = [col.lower() for col in df]\n",
    "    # adding a color column to the df\n",
    "    df['color'] = df['ratings'].apply(set_color)\n",
    "    # saving the office data to a csv\n",
    "    df.to_csv('the_office_guest.csv')\n",
    "    \n",
    "    return df\n",
    "    "
   ]
  },
  {
   "cell_type": "code",
   "execution_count": null,
   "id": "3f15bff7",
   "metadata": {},
   "outputs": [],
   "source": [
    "guest_df = guest_office()\n",
    "guest_df.head()"
   ]
  },
  {
   "cell_type": "code",
   "execution_count": null,
   "id": "7ff56eb9",
   "metadata": {},
   "outputs": [],
   "source": [
    "guest_df.shape"
   ]
  },
  {
   "cell_type": "code",
   "execution_count": null,
   "id": "b12ca0a6",
   "metadata": {},
   "outputs": [],
   "source": [
    "df.head()"
   ]
  },
  {
   "cell_type": "code",
   "execution_count": null,
   "id": "66a91ec7",
   "metadata": {},
   "outputs": [],
   "source": [
    "df = df.drop(columns='GuestStars')"
   ]
  },
  {
   "cell_type": "code",
   "execution_count": null,
   "id": "eba131aa",
   "metadata": {},
   "outputs": [],
   "source": [
    "df.head()"
   ]
  },
  {
   "cell_type": "code",
   "execution_count": null,
   "id": "3258571b",
   "metadata": {},
   "outputs": [],
   "source": [
    "df.tail()"
   ]
  },
  {
   "cell_type": "code",
   "execution_count": null,
   "id": "9377e708",
   "metadata": {},
   "outputs": [],
   "source": [
    "# convert column names to lowercase, replace '.' in column names with '_'\n",
    "df = df.columns = [col.lower().replace('.', '_') for col in df]"
   ]
  },
  {
   "cell_type": "code",
   "execution_count": null,
   "id": "84217ab1",
   "metadata": {},
   "outputs": [],
   "source": [
    "# looking at the episode with the most views\n",
    "max_views = df.loc[df.viewership.idxmax()]\n",
    "max_views"
   ]
  },
  {
   "cell_type": "code",
   "execution_count": null,
   "id": "0e4bf3c6",
   "metadata": {},
   "outputs": [],
   "source": [
    "# making a function for max views\n",
    "\n",
    "def max_views():\n",
    "    '''\n",
    "    function that takes the office data\n",
    "    and findes the episode with the most views\n",
    "    '''\n",
    "    # getting the office data\n",
    "    df = the_office()\n",
    "    # getting the episode data with the most views\n",
    "    views = df.loc[df.viewership.idxmax()]\n",
    "    \n",
    "    return views"
   ]
  },
  {
   "cell_type": "code",
   "execution_count": null,
   "id": "a83b9f37",
   "metadata": {},
   "outputs": [],
   "source": [
    "max_views()"
   ]
  },
  {
   "cell_type": "code",
   "execution_count": null,
   "id": "d5f31551",
   "metadata": {},
   "outputs": [],
   "source": [
    "# checking to see the most viewed episode on the guest df, looks like they are the same\n",
    "guest_max = guest_df.loc[guest_df.viewership.idxmax()]\n",
    "guest_max"
   ]
  },
  {
   "cell_type": "code",
   "execution_count": null,
   "id": "cfeab29c",
   "metadata": {},
   "outputs": [],
   "source": [
    "plt.scatter(df.episode, df.viewership)\n",
    "plt.xlabel(\"Episode\")\n",
    "plt.ylabel(\"Viewership\")\n",
    "plt.title(\"Episode Popularity of The Office\")"
   ]
  },
  {
   "cell_type": "code",
   "execution_count": null,
   "id": "f00b6333",
   "metadata": {},
   "outputs": [],
   "source": [
    "df.info()"
   ]
  },
  {
   "cell_type": "code",
   "execution_count": null,
   "id": "dd6f31b7",
   "metadata": {},
   "outputs": [],
   "source": [
    "df.describe()"
   ]
  },
  {
   "cell_type": "code",
   "execution_count": null,
   "id": "e9337eca",
   "metadata": {},
   "outputs": [],
   "source": [
    "# functions to set data to be used in my visualizations \n",
    "def set_color(ratings):\n",
    "    if ratings < 7.4:\n",
    "        return 'red'\n",
    "    elif (ratings >= 7.4) & (ratings < 8.2):\n",
    "        return 'yellow'\n",
    "    elif (ratings >= 8.2) & (ratings < 9.0):\n",
    "        return 'lightgreen'\n",
    "    elif (ratings >= 9.0):\n",
    "        return 'darkgreen'"
   ]
  },
  {
   "cell_type": "code",
   "execution_count": null,
   "id": "a379ee01",
   "metadata": {},
   "outputs": [],
   "source": [
    "# setting data required in visualizations\n",
    "df['color'] = df['ratings'].apply(set_color)\n",
    "df.head()"
   ]
  },
  {
   "cell_type": "code",
   "execution_count": null,
   "id": "fd58f8f6",
   "metadata": {},
   "outputs": [],
   "source": [
    "plt.scatter(df.episode, df.ratings)\n",
    "plt.xlabel(\"Episode\")\n",
    "plt.ylabel(\"Viewership\")\n",
    "plt.title(\"Episode Popularity of The Office\")"
   ]
  },
  {
   "cell_type": "code",
   "execution_count": null,
   "id": "36231b82",
   "metadata": {},
   "outputs": [],
   "source": [
    "fig, ax = plt.subplots()\n",
    "\n",
    "ax.scatter(x=df.index, \n",
    "           y=df.viewership,\n",
    "           c=df.color,\n",
    "          )\n",
    "plt.xlabel(\"Episode\")\n",
    "plt.ylabel(\"Viewership\")\n",
    "plt.title(\"Episode Popularity of The Office\")"
   ]
  },
  {
   "cell_type": "code",
   "execution_count": null,
   "id": "4512e9e7",
   "metadata": {},
   "outputs": [],
   "source": [
    "import plotly.express as px\n",
    "\n",
    "# dataframe for average duration of each Season\n",
    "avg_season = df.groupby(df.season)[['ratings']].mean().reset_index()\n",
    "\n",
    "fig = px.scatter(avg_season, x = 'season', y = 'ratings',trendline = 'lowess',size = 'season',\n",
    "                 title = '<b>Ratings over each Season</b>')\n",
    "fig.show()"
   ]
  },
  {
   "cell_type": "code",
   "execution_count": null,
   "id": "17387903",
   "metadata": {},
   "outputs": [],
   "source": [
    "import plotly.express as px\n",
    "avg_season = df.groupby(df.season)[['ratings']].mean().reset_index()\n",
    "fig = px.scatter(avg_season, x=\"season\", y=\"ratings\", color=\"ratings\", marginal_y=\"violin\",\n",
    "           marginal_x=\"box\", trendline=\"ols\", template=\"simple_white\", title = '<b>Ratings over each Season</b>')\n",
    "fig.show()"
   ]
  },
  {
   "cell_type": "code",
   "execution_count": null,
   "id": "fb072e34",
   "metadata": {},
   "outputs": [],
   "source": [
    "import plotly.express as px\n",
    "fig = px.bar(x=[\"a\", \"b\", \"c\"], y=[1, 3, 2])\n",
    "fig.write_html('first_figure.html', auto_open=True)"
   ]
  },
  {
   "cell_type": "code",
   "execution_count": null,
   "id": "080cab14",
   "metadata": {},
   "outputs": [],
   "source": [
    "df_episodes = df.groupby('season').size().reset_index(name='episodes')\n",
    "df_episodes"
   ]
  },
  {
   "cell_type": "code",
   "execution_count": null,
   "id": "43135074",
   "metadata": {},
   "outputs": [],
   "source": [
    "def season_episodes():\n",
    "    '''\n",
    "    function that takes the office df and \n",
    "    makes a new df with the season and \n",
    "    number of episodes per season\n",
    "    '''\n",
    "    # getting the office data\n",
    "    df = the_office()\n",
    "    # creating a new df with seasons and episodes\n",
    "    df_episodes = df.groupby('season').size().reset_index(name='episodes')\n",
    "    \n",
    "    return df_episodes"
   ]
  },
  {
   "cell_type": "code",
   "execution_count": null,
   "id": "dc8bac68",
   "metadata": {},
   "outputs": [],
   "source": [
    "season_episodes()"
   ]
  },
  {
   "cell_type": "markdown",
   "id": "ad1217e7",
   "metadata": {},
   "source": [
    "# Setting up for Clustering"
   ]
  },
  {
   "cell_type": "code",
   "execution_count": 2,
   "id": "2c59429f",
   "metadata": {},
   "outputs": [],
   "source": [
    "# ignore warnings\n",
    "import warnings\n",
    "warnings.filterwarnings(\"ignore\")\n",
    "\n",
    "# Wrangling\n",
    "import pandas as pd\n",
    "import numpy as np\n",
    "\n",
    "# Exploring\n",
    "import scipy.stats as stats\n",
    "\n",
    "# Visualizing\n",
    "%matplotlib inline\n",
    "import matplotlib.pyplot as plt\n",
    "import seaborn as sns\n",
    "\n",
    "# default pandas decimal number display format\n",
    "pd.options.display.float_format = '{:20,.2f}'.format\n",
    "\n",
    "from wrangle import the_office\n",
    "\n",
    "# ignore warnings\n",
    "import warnings\n",
    "warnings.filterwarnings(\"ignore\")\n",
    "\n",
    "# Wrangling\n",
    "import pandas as pd\n",
    "import numpy as np\n",
    "from sklearn.model_selection import train_test_split\n",
    "\n",
    "# Statistical Tests\n",
    "import scipy.stats as stats\n",
    "\n",
    "# Visualizing\n",
    "import matplotlib.pyplot as plt\n",
    "from matplotlib import cm\n",
    "import seaborn as sns\n",
    "from sklearn.model_selection import learning_curve\n"
   ]
  },
  {
   "cell_type": "code",
   "execution_count": 3,
   "id": "366e72c8",
   "metadata": {},
   "outputs": [],
   "source": [
    "# getting the office data again\n",
    "df = the_office()"
   ]
  },
  {
   "cell_type": "code",
   "execution_count": 4,
   "id": "a5e76439",
   "metadata": {},
   "outputs": [
    {
     "data": {
      "text/html": [
       "<div>\n",
       "<style scoped>\n",
       "    .dataframe tbody tr th:only-of-type {\n",
       "        vertical-align: middle;\n",
       "    }\n",
       "\n",
       "    .dataframe tbody tr th {\n",
       "        vertical-align: top;\n",
       "    }\n",
       "\n",
       "    .dataframe thead th {\n",
       "        text-align: right;\n",
       "    }\n",
       "</style>\n",
       "<table border=\"1\" class=\"dataframe\">\n",
       "  <thead>\n",
       "    <tr style=\"text-align: right;\">\n",
       "      <th></th>\n",
       "      <th>episode</th>\n",
       "      <th>season</th>\n",
       "      <th>episode_title</th>\n",
       "      <th>about</th>\n",
       "      <th>ratings</th>\n",
       "      <th>votes</th>\n",
       "      <th>viewership</th>\n",
       "      <th>duration</th>\n",
       "      <th>date</th>\n",
       "      <th>director</th>\n",
       "      <th>writers</th>\n",
       "      <th>color</th>\n",
       "    </tr>\n",
       "  </thead>\n",
       "  <tbody>\n",
       "    <tr>\n",
       "      <th>0</th>\n",
       "      <td>0</td>\n",
       "      <td>1</td>\n",
       "      <td>Pilot</td>\n",
       "      <td>The premiere episode introduces the boss and s...</td>\n",
       "      <td>7.50</td>\n",
       "      <td>4936</td>\n",
       "      <td>11.20</td>\n",
       "      <td>23</td>\n",
       "      <td>24 March 2005</td>\n",
       "      <td>Ken Kwapis</td>\n",
       "      <td>Ricky Gervais |Stephen Merchant and Greg Daniels</td>\n",
       "      <td>yellow</td>\n",
       "    </tr>\n",
       "    <tr>\n",
       "      <th>1</th>\n",
       "      <td>1</td>\n",
       "      <td>1</td>\n",
       "      <td>Diversity Day</td>\n",
       "      <td>Michael's off color remark puts a sensitivity ...</td>\n",
       "      <td>8.30</td>\n",
       "      <td>4801</td>\n",
       "      <td>6.00</td>\n",
       "      <td>23</td>\n",
       "      <td>29 March 2005</td>\n",
       "      <td>Ken Kwapis</td>\n",
       "      <td>B. J. Novak</td>\n",
       "      <td>lightgreen</td>\n",
       "    </tr>\n",
       "    <tr>\n",
       "      <th>2</th>\n",
       "      <td>2</td>\n",
       "      <td>1</td>\n",
       "      <td>Health Care</td>\n",
       "      <td>Michael leaves Dwight in charge of picking the...</td>\n",
       "      <td>7.80</td>\n",
       "      <td>4024</td>\n",
       "      <td>5.80</td>\n",
       "      <td>22</td>\n",
       "      <td>5 April 2005</td>\n",
       "      <td>Ken Whittingham</td>\n",
       "      <td>Paul Lieberstein</td>\n",
       "      <td>yellow</td>\n",
       "    </tr>\n",
       "    <tr>\n",
       "      <th>3</th>\n",
       "      <td>3</td>\n",
       "      <td>1</td>\n",
       "      <td>The Alliance</td>\n",
       "      <td>Just for a laugh, Jim agrees to an alliance wi...</td>\n",
       "      <td>8.10</td>\n",
       "      <td>3915</td>\n",
       "      <td>5.40</td>\n",
       "      <td>23</td>\n",
       "      <td>12 April 2005</td>\n",
       "      <td>Bryan Gordon</td>\n",
       "      <td>Michael Schur</td>\n",
       "      <td>yellow</td>\n",
       "    </tr>\n",
       "    <tr>\n",
       "      <th>4</th>\n",
       "      <td>4</td>\n",
       "      <td>1</td>\n",
       "      <td>Basketball</td>\n",
       "      <td>Michael and his staff challenge the warehouse ...</td>\n",
       "      <td>8.40</td>\n",
       "      <td>4294</td>\n",
       "      <td>5.00</td>\n",
       "      <td>23</td>\n",
       "      <td>19 April 2005</td>\n",
       "      <td>Greg Daniels</td>\n",
       "      <td>Greg Daniels</td>\n",
       "      <td>lightgreen</td>\n",
       "    </tr>\n",
       "  </tbody>\n",
       "</table>\n",
       "</div>"
      ],
      "text/plain": [
       "   episode  season  episode_title  \\\n",
       "0        0       1          Pilot   \n",
       "1        1       1  Diversity Day   \n",
       "2        2       1    Health Care   \n",
       "3        3       1   The Alliance   \n",
       "4        4       1     Basketball   \n",
       "\n",
       "                                               about              ratings  \\\n",
       "0  The premiere episode introduces the boss and s...                 7.50   \n",
       "1  Michael's off color remark puts a sensitivity ...                 8.30   \n",
       "2  Michael leaves Dwight in charge of picking the...                 7.80   \n",
       "3  Just for a laugh, Jim agrees to an alliance wi...                 8.10   \n",
       "4  Michael and his staff challenge the warehouse ...                 8.40   \n",
       "\n",
       "   votes           viewership  duration            date         director  \\\n",
       "0   4936                11.20        23   24 March 2005       Ken Kwapis   \n",
       "1   4801                 6.00        23   29 March 2005       Ken Kwapis   \n",
       "2   4024                 5.80        22    5 April 2005  Ken Whittingham   \n",
       "3   3915                 5.40        23   12 April 2005     Bryan Gordon   \n",
       "4   4294                 5.00        23   19 April 2005     Greg Daniels   \n",
       "\n",
       "                                            writers       color  \n",
       "0  Ricky Gervais |Stephen Merchant and Greg Daniels      yellow  \n",
       "1                                       B. J. Novak  lightgreen  \n",
       "2                                  Paul Lieberstein      yellow  \n",
       "3                                     Michael Schur      yellow  \n",
       "4                                      Greg Daniels  lightgreen  "
      ]
     },
     "execution_count": 4,
     "metadata": {},
     "output_type": "execute_result"
    }
   ],
   "source": [
    "df.head() # check_yo_head"
   ]
  },
  {
   "cell_type": "code",
   "execution_count": 5,
   "id": "6d463968",
   "metadata": {},
   "outputs": [
    {
     "data": {
      "text/plain": [
       "array([[<AxesSubplot:title={'center':'episode'}>,\n",
       "        <AxesSubplot:title={'center':'season'}>],\n",
       "       [<AxesSubplot:title={'center':'ratings'}>,\n",
       "        <AxesSubplot:title={'center':'votes'}>],\n",
       "       [<AxesSubplot:title={'center':'viewership'}>,\n",
       "        <AxesSubplot:title={'center':'duration'}>]], dtype=object)"
      ]
     },
     "execution_count": 5,
     "metadata": {},
     "output_type": "execute_result"
    },
    {
     "data": {
      "image/png": "[encoded data removed]",
      "text/plain": [
       "<Figure size 1728x720 with 6 Axes>"
      ]
     },
     "metadata": {
      "needs_background": "light"
     },
     "output_type": "display_data"
    }
   ],
   "source": [
    "# histogram of the columns in the data\n",
    "df.hist(figsize=(24, 10), bins=20)"
   ]
  },
  {
   "cell_type": "code",
   "execution_count": 6,
   "id": "904e9997",
   "metadata": {},
   "outputs": [
    {
     "data": {
      "text/html": [
       "<div>\n",
       "<style scoped>\n",
       "    .dataframe tbody tr th:only-of-type {\n",
       "        vertical-align: middle;\n",
       "    }\n",
       "\n",
       "    .dataframe tbody tr th {\n",
       "        vertical-align: top;\n",
       "    }\n",
       "\n",
       "    .dataframe thead th {\n",
       "        text-align: right;\n",
       "    }\n",
       "</style>\n",
       "<table border=\"1\" class=\"dataframe\">\n",
       "  <thead>\n",
       "    <tr style=\"text-align: right;\">\n",
       "      <th></th>\n",
       "      <th>episode</th>\n",
       "      <th>season</th>\n",
       "      <th>episode_title</th>\n",
       "      <th>about</th>\n",
       "      <th>ratings</th>\n",
       "      <th>votes</th>\n",
       "      <th>viewership</th>\n",
       "      <th>duration</th>\n",
       "      <th>date</th>\n",
       "      <th>director</th>\n",
       "      <th>writers</th>\n",
       "      <th>color</th>\n",
       "      <th>episode_outliers</th>\n",
       "      <th>season_outliers</th>\n",
       "      <th>ratings_outliers</th>\n",
       "      <th>votes_outliers</th>\n",
       "      <th>viewership_outliers</th>\n",
       "      <th>duration_outliers</th>\n",
       "    </tr>\n",
       "  </thead>\n",
       "  <tbody>\n",
       "    <tr>\n",
       "      <th>0</th>\n",
       "      <td>0</td>\n",
       "      <td>1</td>\n",
       "      <td>Pilot</td>\n",
       "      <td>The premiere episode introduces the boss and s...</td>\n",
       "      <td>7.50</td>\n",
       "      <td>4936</td>\n",
       "      <td>11.20</td>\n",
       "      <td>23</td>\n",
       "      <td>24 March 2005</td>\n",
       "      <td>Ken Kwapis</td>\n",
       "      <td>Ricky Gervais |Stephen Merchant and Greg Daniels</td>\n",
       "      <td>yellow</td>\n",
       "      <td>0</td>\n",
       "      <td>0</td>\n",
       "      <td>0.00</td>\n",
       "      <td>357.00</td>\n",
       "      <td>0.00</td>\n",
       "      <td>0.00</td>\n",
       "    </tr>\n",
       "    <tr>\n",
       "      <th>1</th>\n",
       "      <td>1</td>\n",
       "      <td>1</td>\n",
       "      <td>Diversity Day</td>\n",
       "      <td>Michael's off color remark puts a sensitivity ...</td>\n",
       "      <td>8.30</td>\n",
       "      <td>4801</td>\n",
       "      <td>6.00</td>\n",
       "      <td>23</td>\n",
       "      <td>29 March 2005</td>\n",
       "      <td>Ken Kwapis</td>\n",
       "      <td>B. J. Novak</td>\n",
       "      <td>lightgreen</td>\n",
       "      <td>0</td>\n",
       "      <td>0</td>\n",
       "      <td>0.00</td>\n",
       "      <td>222.00</td>\n",
       "      <td>0.00</td>\n",
       "      <td>0.00</td>\n",
       "    </tr>\n",
       "    <tr>\n",
       "      <th>2</th>\n",
       "      <td>2</td>\n",
       "      <td>1</td>\n",
       "      <td>Health Care</td>\n",
       "      <td>Michael leaves Dwight in charge of picking the...</td>\n",
       "      <td>7.80</td>\n",
       "      <td>4024</td>\n",
       "      <td>5.80</td>\n",
       "      <td>22</td>\n",
       "      <td>5 April 2005</td>\n",
       "      <td>Ken Whittingham</td>\n",
       "      <td>Paul Lieberstein</td>\n",
       "      <td>yellow</td>\n",
       "      <td>0</td>\n",
       "      <td>0</td>\n",
       "      <td>0.00</td>\n",
       "      <td>0.00</td>\n",
       "      <td>0.00</td>\n",
       "      <td>0.00</td>\n",
       "    </tr>\n",
       "    <tr>\n",
       "      <th>3</th>\n",
       "      <td>3</td>\n",
       "      <td>1</td>\n",
       "      <td>The Alliance</td>\n",
       "      <td>Just for a laugh, Jim agrees to an alliance wi...</td>\n",
       "      <td>8.10</td>\n",
       "      <td>3915</td>\n",
       "      <td>5.40</td>\n",
       "      <td>23</td>\n",
       "      <td>12 April 2005</td>\n",
       "      <td>Bryan Gordon</td>\n",
       "      <td>Michael Schur</td>\n",
       "      <td>yellow</td>\n",
       "      <td>0</td>\n",
       "      <td>0</td>\n",
       "      <td>0.00</td>\n",
       "      <td>0.00</td>\n",
       "      <td>0.00</td>\n",
       "      <td>0.00</td>\n",
       "    </tr>\n",
       "    <tr>\n",
       "      <th>4</th>\n",
       "      <td>4</td>\n",
       "      <td>1</td>\n",
       "      <td>Basketball</td>\n",
       "      <td>Michael and his staff challenge the warehouse ...</td>\n",
       "      <td>8.40</td>\n",
       "      <td>4294</td>\n",
       "      <td>5.00</td>\n",
       "      <td>23</td>\n",
       "      <td>19 April 2005</td>\n",
       "      <td>Greg Daniels</td>\n",
       "      <td>Greg Daniels</td>\n",
       "      <td>lightgreen</td>\n",
       "      <td>0</td>\n",
       "      <td>0</td>\n",
       "      <td>0.00</td>\n",
       "      <td>0.00</td>\n",
       "      <td>0.00</td>\n",
       "      <td>0.00</td>\n",
       "    </tr>\n",
       "  </tbody>\n",
       "</table>\n",
       "</div>"
      ],
      "text/plain": [
       "   episode  season  episode_title  \\\n",
       "0        0       1          Pilot   \n",
       "1        1       1  Diversity Day   \n",
       "2        2       1    Health Care   \n",
       "3        3       1   The Alliance   \n",
       "4        4       1     Basketball   \n",
       "\n",
       "                                               about              ratings  \\\n",
       "0  The premiere episode introduces the boss and s...                 7.50   \n",
       "1  Michael's off color remark puts a sensitivity ...                 8.30   \n",
       "2  Michael leaves Dwight in charge of picking the...                 7.80   \n",
       "3  Just for a laugh, Jim agrees to an alliance wi...                 8.10   \n",
       "4  Michael and his staff challenge the warehouse ...                 8.40   \n",
       "\n",
       "   votes           viewership  duration            date         director  \\\n",
       "0   4936                11.20        23   24 March 2005       Ken Kwapis   \n",
       "1   4801                 6.00        23   29 March 2005       Ken Kwapis   \n",
       "2   4024                 5.80        22    5 April 2005  Ken Whittingham   \n",
       "3   3915                 5.40        23   12 April 2005     Bryan Gordon   \n",
       "4   4294                 5.00        23   19 April 2005     Greg Daniels   \n",
       "\n",
       "                                            writers       color  \\\n",
       "0  Ricky Gervais |Stephen Merchant and Greg Daniels      yellow   \n",
       "1                                       B. J. Novak  lightgreen   \n",
       "2                                  Paul Lieberstein      yellow   \n",
       "3                                     Michael Schur      yellow   \n",
       "4                                      Greg Daniels  lightgreen   \n",
       "\n",
       "   episode_outliers  season_outliers     ratings_outliers  \\\n",
       "0                 0                0                 0.00   \n",
       "1                 0                0                 0.00   \n",
       "2                 0                0                 0.00   \n",
       "3                 0                0                 0.00   \n",
       "4                 0                0                 0.00   \n",
       "\n",
       "        votes_outliers  viewership_outliers    duration_outliers  \n",
       "0               357.00                 0.00                 0.00  \n",
       "1               222.00                 0.00                 0.00  \n",
       "2                 0.00                 0.00                 0.00  \n",
       "3                 0.00                 0.00                 0.00  \n",
       "4                 0.00                 0.00                 0.00  "
      ]
     },
     "execution_count": 6,
     "metadata": {},
     "output_type": "execute_result"
    }
   ],
   "source": [
    "# outliers functions\n",
    "def get_upper_outliers(s, k):\n",
    "    '''\n",
    "    Given a series and a cutoff value, k, returns the upper outliers for the\n",
    "    series.\n",
    "\n",
    "    The values returned will be either 0 (if the point is not an outlier), or a\n",
    "    number that indicates how far away from the upper bound the observation is.\n",
    "    '''\n",
    "    q1, q3 = s.quantile([.25, .75])\n",
    "    iqr = q3 - q1\n",
    "    upper_bound = q3 + k * iqr\n",
    "    return s.apply(lambda x: max([x - upper_bound, 0]))\n",
    "\n",
    "def add_upper_outlier_columns(df, k):\n",
    "    '''\n",
    "    Add a column with the suffix _outliers for all the numeric columns\n",
    "    in the given dataframe.\n",
    "    '''\n",
    "    # outlier_cols = {col + '_outliers': get_upper_outliers(df[col], k)\n",
    "    #                 for col in df.select_dtypes('number')}\n",
    "    # return df.assign(**outlier_cols)\n",
    "\n",
    "    for col in df.select_dtypes('number'):\n",
    "        df[col + '_outliers'] = get_upper_outliers(df[col], k)\n",
    "\n",
    "    return df\n",
    "\n",
    "add_upper_outlier_columns(df, k=1.5)\n",
    "\n",
    "df.head()"
   ]
  },
  {
   "cell_type": "code",
   "execution_count": 7,
   "id": "5671bc37",
   "metadata": {},
   "outputs": [
    {
     "name": "stdout",
     "output_type": "stream",
     "text": [
      "~~~\n",
      "episode_outliers\n",
      "count                   0.00\n",
      "mean                     NaN\n",
      "std                      NaN\n",
      "min                      NaN\n",
      "25%                      NaN\n",
      "50%                      NaN\n",
      "75%                      NaN\n",
      "max                      NaN\n",
      "Name: episode_outliers, dtype: float64\n",
      "~~~\n",
      "season_outliers\n",
      "count                   0.00\n",
      "mean                     NaN\n",
      "std                      NaN\n",
      "min                      NaN\n",
      "25%                      NaN\n",
      "50%                      NaN\n",
      "75%                      NaN\n",
      "max                      NaN\n",
      "Name: season_outliers, dtype: float64\n",
      "~~~\n",
      "ratings_outliers\n",
      "count                   2.00\n",
      "mean                    0.00\n",
      "std                     0.00\n",
      "min                     0.00\n",
      "25%                     0.00\n",
      "50%                     0.00\n",
      "75%                     0.00\n",
      "max                     0.00\n",
      "Name: ratings_outliers, dtype: float64\n",
      "~~~\n",
      "votes_outliers\n",
      "count                   8.00\n",
      "mean                1,886.50\n",
      "std                 2,175.03\n",
      "min                   186.00\n",
      "25%                   279.00\n",
      "50%                   689.50\n",
      "75%                 3,507.75\n",
      "max                 5,936.00\n",
      "Name: votes_outliers, dtype: float64\n",
      "~~~\n",
      "viewership_outliers\n",
      "count                   1.00\n",
      "mean                   10.83\n",
      "std                      NaN\n",
      "min                    10.83\n",
      "25%                    10.83\n",
      "50%                    10.83\n",
      "75%                    10.83\n",
      "max                    10.83\n",
      "Name: viewership_outliers, dtype: float64\n",
      "~~~\n",
      "duration_outliers\n",
      "count                   6.00\n",
      "mean                    9.17\n",
      "std                     7.63\n",
      "min                     1.00\n",
      "25%                     2.75\n",
      "50%                     8.50\n",
      "75%                    15.75\n",
      "max                    18.00\n",
      "Name: duration_outliers, dtype: float64\n"
     ]
    }
   ],
   "source": [
    "# taking a look at what the outliers look like\n",
    "outlier_cols = [col for col in df if col.endswith('_outliers')]\n",
    "for col in outlier_cols:\n",
    "    print('~~~\\n' + col)\n",
    "    data = df[col][df[col] > 0]\n",
    "    print(data.describe())"
   ]
  },
  {
   "cell_type": "markdown",
   "id": "3e2f4bd9",
   "metadata": {},
   "source": [
    "- Votes: 8, std = 2,175\n",
    "- Viewership: 1, std = 10.83\n",
    "- Duration: 6, std = 7.63"
   ]
  },
  {
   "cell_type": "code",
   "execution_count": 8,
   "id": "aca9984d",
   "metadata": {},
   "outputs": [
    {
     "data": {
      "text/html": [
       "<div>\n",
       "<style scoped>\n",
       "    .dataframe tbody tr th:only-of-type {\n",
       "        vertical-align: middle;\n",
       "    }\n",
       "\n",
       "    .dataframe tbody tr th {\n",
       "        vertical-align: top;\n",
       "    }\n",
       "\n",
       "    .dataframe thead th {\n",
       "        text-align: right;\n",
       "    }\n",
       "</style>\n",
       "<table border=\"1\" class=\"dataframe\">\n",
       "  <thead>\n",
       "    <tr style=\"text-align: right;\">\n",
       "      <th></th>\n",
       "      <th>episode</th>\n",
       "      <th>season</th>\n",
       "      <th>episode_title</th>\n",
       "      <th>about</th>\n",
       "      <th>ratings</th>\n",
       "      <th>votes</th>\n",
       "      <th>viewership</th>\n",
       "      <th>duration</th>\n",
       "      <th>date</th>\n",
       "      <th>director</th>\n",
       "      <th>writers</th>\n",
       "      <th>color</th>\n",
       "      <th>episode_outliers</th>\n",
       "      <th>season_outliers</th>\n",
       "      <th>ratings_outliers</th>\n",
       "      <th>votes_outliers</th>\n",
       "      <th>viewership_outliers</th>\n",
       "      <th>duration_outliers</th>\n",
       "    </tr>\n",
       "  </thead>\n",
       "  <tbody>\n",
       "    <tr>\n",
       "      <th>0</th>\n",
       "      <td>0</td>\n",
       "      <td>1</td>\n",
       "      <td>Pilot</td>\n",
       "      <td>The premiere episode introduces the boss and s...</td>\n",
       "      <td>7.50</td>\n",
       "      <td>4936</td>\n",
       "      <td>11.20</td>\n",
       "      <td>23</td>\n",
       "      <td>24 March 2005</td>\n",
       "      <td>Ken Kwapis</td>\n",
       "      <td>Ricky Gervais |Stephen Merchant and Greg Daniels</td>\n",
       "      <td>yellow</td>\n",
       "      <td>0</td>\n",
       "      <td>0</td>\n",
       "      <td>0.00</td>\n",
       "      <td>357.00</td>\n",
       "      <td>0.00</td>\n",
       "      <td>0.00</td>\n",
       "    </tr>\n",
       "    <tr>\n",
       "      <th>1</th>\n",
       "      <td>1</td>\n",
       "      <td>1</td>\n",
       "      <td>Diversity Day</td>\n",
       "      <td>Michael's off color remark puts a sensitivity ...</td>\n",
       "      <td>8.30</td>\n",
       "      <td>4801</td>\n",
       "      <td>6.00</td>\n",
       "      <td>23</td>\n",
       "      <td>29 March 2005</td>\n",
       "      <td>Ken Kwapis</td>\n",
       "      <td>B. J. Novak</td>\n",
       "      <td>lightgreen</td>\n",
       "      <td>0</td>\n",
       "      <td>0</td>\n",
       "      <td>0.00</td>\n",
       "      <td>222.00</td>\n",
       "      <td>0.00</td>\n",
       "      <td>0.00</td>\n",
       "    </tr>\n",
       "    <tr>\n",
       "      <th>2</th>\n",
       "      <td>2</td>\n",
       "      <td>1</td>\n",
       "      <td>Health Care</td>\n",
       "      <td>Michael leaves Dwight in charge of picking the...</td>\n",
       "      <td>7.80</td>\n",
       "      <td>4024</td>\n",
       "      <td>5.80</td>\n",
       "      <td>22</td>\n",
       "      <td>5 April 2005</td>\n",
       "      <td>Ken Whittingham</td>\n",
       "      <td>Paul Lieberstein</td>\n",
       "      <td>yellow</td>\n",
       "      <td>0</td>\n",
       "      <td>0</td>\n",
       "      <td>0.00</td>\n",
       "      <td>0.00</td>\n",
       "      <td>0.00</td>\n",
       "      <td>0.00</td>\n",
       "    </tr>\n",
       "    <tr>\n",
       "      <th>3</th>\n",
       "      <td>3</td>\n",
       "      <td>1</td>\n",
       "      <td>The Alliance</td>\n",
       "      <td>Just for a laugh, Jim agrees to an alliance wi...</td>\n",
       "      <td>8.10</td>\n",
       "      <td>3915</td>\n",
       "      <td>5.40</td>\n",
       "      <td>23</td>\n",
       "      <td>12 April 2005</td>\n",
       "      <td>Bryan Gordon</td>\n",
       "      <td>Michael Schur</td>\n",
       "      <td>yellow</td>\n",
       "      <td>0</td>\n",
       "      <td>0</td>\n",
       "      <td>0.00</td>\n",
       "      <td>0.00</td>\n",
       "      <td>0.00</td>\n",
       "      <td>0.00</td>\n",
       "    </tr>\n",
       "    <tr>\n",
       "      <th>4</th>\n",
       "      <td>4</td>\n",
       "      <td>1</td>\n",
       "      <td>Basketball</td>\n",
       "      <td>Michael and his staff challenge the warehouse ...</td>\n",
       "      <td>8.40</td>\n",
       "      <td>4294</td>\n",
       "      <td>5.00</td>\n",
       "      <td>23</td>\n",
       "      <td>19 April 2005</td>\n",
       "      <td>Greg Daniels</td>\n",
       "      <td>Greg Daniels</td>\n",
       "      <td>lightgreen</td>\n",
       "      <td>0</td>\n",
       "      <td>0</td>\n",
       "      <td>0.00</td>\n",
       "      <td>0.00</td>\n",
       "      <td>0.00</td>\n",
       "      <td>0.00</td>\n",
       "    </tr>\n",
       "  </tbody>\n",
       "</table>\n",
       "</div>"
      ],
      "text/plain": [
       "   episode  season  episode_title  \\\n",
       "0        0       1          Pilot   \n",
       "1        1       1  Diversity Day   \n",
       "2        2       1    Health Care   \n",
       "3        3       1   The Alliance   \n",
       "4        4       1     Basketball   \n",
       "\n",
       "                                               about              ratings  \\\n",
       "0  The premiere episode introduces the boss and s...                 7.50   \n",
       "1  Michael's off color remark puts a sensitivity ...                 8.30   \n",
       "2  Michael leaves Dwight in charge of picking the...                 7.80   \n",
       "3  Just for a laugh, Jim agrees to an alliance wi...                 8.10   \n",
       "4  Michael and his staff challenge the warehouse ...                 8.40   \n",
       "\n",
       "   votes           viewership  duration            date         director  \\\n",
       "0   4936                11.20        23   24 March 2005       Ken Kwapis   \n",
       "1   4801                 6.00        23   29 March 2005       Ken Kwapis   \n",
       "2   4024                 5.80        22    5 April 2005  Ken Whittingham   \n",
       "3   3915                 5.40        23   12 April 2005     Bryan Gordon   \n",
       "4   4294                 5.00        23   19 April 2005     Greg Daniels   \n",
       "\n",
       "                                            writers       color  \\\n",
       "0  Ricky Gervais |Stephen Merchant and Greg Daniels      yellow   \n",
       "1                                       B. J. Novak  lightgreen   \n",
       "2                                  Paul Lieberstein      yellow   \n",
       "3                                     Michael Schur      yellow   \n",
       "4                                      Greg Daniels  lightgreen   \n",
       "\n",
       "   episode_outliers  season_outliers     ratings_outliers  \\\n",
       "0                 0                0                 0.00   \n",
       "1                 0                0                 0.00   \n",
       "2                 0                0                 0.00   \n",
       "3                 0                0                 0.00   \n",
       "4                 0                0                 0.00   \n",
       "\n",
       "        votes_outliers  viewership_outliers    duration_outliers  \n",
       "0               357.00                 0.00                 0.00  \n",
       "1               222.00                 0.00                 0.00  \n",
       "2                 0.00                 0.00                 0.00  \n",
       "3                 0.00                 0.00                 0.00  \n",
       "4                 0.00                 0.00                 0.00  "
      ]
     },
     "execution_count": 8,
     "metadata": {},
     "output_type": "execute_result"
    }
   ],
   "source": [
    "df.head() # check_yo_head"
   ]
  },
  {
   "cell_type": "code",
   "execution_count": 9,
   "id": "ba5ccf5b",
   "metadata": {},
   "outputs": [
    {
     "data": {
      "text/html": [
       "<div>\n",
       "<style scoped>\n",
       "    .dataframe tbody tr th:only-of-type {\n",
       "        vertical-align: middle;\n",
       "    }\n",
       "\n",
       "    .dataframe tbody tr th {\n",
       "        vertical-align: top;\n",
       "    }\n",
       "\n",
       "    .dataframe thead th {\n",
       "        text-align: right;\n",
       "    }\n",
       "</style>\n",
       "<table border=\"1\" class=\"dataframe\">\n",
       "  <thead>\n",
       "    <tr style=\"text-align: right;\">\n",
       "      <th></th>\n",
       "      <th>episode</th>\n",
       "      <th>season</th>\n",
       "      <th>ratings</th>\n",
       "    </tr>\n",
       "  </thead>\n",
       "  <tbody>\n",
       "    <tr>\n",
       "      <th>0</th>\n",
       "      <td>0</td>\n",
       "      <td>1</td>\n",
       "      <td>7.50</td>\n",
       "    </tr>\n",
       "    <tr>\n",
       "      <th>1</th>\n",
       "      <td>1</td>\n",
       "      <td>1</td>\n",
       "      <td>8.30</td>\n",
       "    </tr>\n",
       "    <tr>\n",
       "      <th>2</th>\n",
       "      <td>2</td>\n",
       "      <td>1</td>\n",
       "      <td>7.80</td>\n",
       "    </tr>\n",
       "    <tr>\n",
       "      <th>3</th>\n",
       "      <td>3</td>\n",
       "      <td>1</td>\n",
       "      <td>8.10</td>\n",
       "    </tr>\n",
       "    <tr>\n",
       "      <th>4</th>\n",
       "      <td>4</td>\n",
       "      <td>1</td>\n",
       "      <td>8.40</td>\n",
       "    </tr>\n",
       "  </tbody>\n",
       "</table>\n",
       "</div>"
      ],
      "text/plain": [
       "   episode  season              ratings\n",
       "0        0       1                 7.50\n",
       "1        1       1                 8.30\n",
       "2        2       1                 7.80\n",
       "3        3       1                 8.10\n",
       "4        4       1                 8.40"
      ]
     },
     "execution_count": 9,
     "metadata": {},
     "output_type": "execute_result"
    }
   ],
   "source": [
    "# episode, season, ratings, votes, viewership, duration, \n",
    "df = the_office()\n",
    "\n",
    "df.drop(columns=['episode_title', 'about', 'date', 'director', 'writers', 'color', 'votes', 'duration', 'viewership'], inplace=True)\n",
    "df.head()"
   ]
  },
  {
   "cell_type": "code",
   "execution_count": 10,
   "id": "cda21ea0",
   "metadata": {},
   "outputs": [],
   "source": [
    "def cluster_df():\n",
    "    '''\n",
    "    function to make a dataframe for clustering\n",
    "    takes the office data and drops columns\n",
    "    then changes the dataframe to integers\n",
    "    '''\n",
    "    # getting the office data\n",
    "    df = the_office()\n",
    "    # dropping columns that are not needed for clustering\n",
    "    df.drop(columns=['episode_title', 'about', 'date', 'director', 'writers', 'color', 'votes', 'duration', 'viewership', 'season'], inplace=True)\n",
    "    # changing the dataframe type to integers\n",
    "    df = df.astype(int)\n",
    "    \n",
    "    return df"
   ]
  },
  {
   "cell_type": "code",
   "execution_count": 11,
   "id": "846e2485",
   "metadata": {},
   "outputs": [
    {
     "data": {
      "text/html": [
       "<div>\n",
       "<style scoped>\n",
       "    .dataframe tbody tr th:only-of-type {\n",
       "        vertical-align: middle;\n",
       "    }\n",
       "\n",
       "    .dataframe tbody tr th {\n",
       "        vertical-align: top;\n",
       "    }\n",
       "\n",
       "    .dataframe thead th {\n",
       "        text-align: right;\n",
       "    }\n",
       "</style>\n",
       "<table border=\"1\" class=\"dataframe\">\n",
       "  <thead>\n",
       "    <tr style=\"text-align: right;\">\n",
       "      <th></th>\n",
       "      <th>episode</th>\n",
       "      <th>ratings</th>\n",
       "    </tr>\n",
       "  </thead>\n",
       "  <tbody>\n",
       "    <tr>\n",
       "      <th>0</th>\n",
       "      <td>0</td>\n",
       "      <td>7</td>\n",
       "    </tr>\n",
       "    <tr>\n",
       "      <th>1</th>\n",
       "      <td>1</td>\n",
       "      <td>8</td>\n",
       "    </tr>\n",
       "    <tr>\n",
       "      <th>2</th>\n",
       "      <td>2</td>\n",
       "      <td>7</td>\n",
       "    </tr>\n",
       "    <tr>\n",
       "      <th>3</th>\n",
       "      <td>3</td>\n",
       "      <td>8</td>\n",
       "    </tr>\n",
       "    <tr>\n",
       "      <th>4</th>\n",
       "      <td>4</td>\n",
       "      <td>8</td>\n",
       "    </tr>\n",
       "  </tbody>\n",
       "</table>\n",
       "</div>"
      ],
      "text/plain": [
       "   episode  ratings\n",
       "0        0        7\n",
       "1        1        8\n",
       "2        2        7\n",
       "3        3        8\n",
       "4        4        8"
      ]
     },
     "execution_count": 11,
     "metadata": {},
     "output_type": "execute_result"
    }
   ],
   "source": [
    "cluster_df().head()"
   ]
  },
  {
   "cell_type": "code",
   "execution_count": 12,
   "id": "098c2679",
   "metadata": {},
   "outputs": [
    {
     "name": "stdout",
     "output_type": "stream",
     "text": [
      "<class 'pandas.core.frame.DataFrame'>\n",
      "RangeIndex: 188 entries, 0 to 187\n",
      "Data columns (total 3 columns):\n",
      " #   Column   Non-Null Count  Dtype  \n",
      "---  ------   --------------  -----  \n",
      " 0   episode  188 non-null    int64  \n",
      " 1   season   188 non-null    int64  \n",
      " 2   ratings  188 non-null    float64\n",
      "dtypes: float64(1), int64(2)\n",
      "memory usage: 4.5 KB\n"
     ]
    }
   ],
   "source": [
    "# checking the info to see if the df is ready to explore\n",
    "df.info()"
   ]
  },
  {
   "cell_type": "code",
   "execution_count": 13,
   "id": "7a10599b",
   "metadata": {},
   "outputs": [
    {
     "data": {
      "text/html": [
       "<div>\n",
       "<style scoped>\n",
       "    .dataframe tbody tr th:only-of-type {\n",
       "        vertical-align: middle;\n",
       "    }\n",
       "\n",
       "    .dataframe tbody tr th {\n",
       "        vertical-align: top;\n",
       "    }\n",
       "\n",
       "    .dataframe thead th {\n",
       "        text-align: right;\n",
       "    }\n",
       "</style>\n",
       "<table border=\"1\" class=\"dataframe\">\n",
       "  <thead>\n",
       "    <tr style=\"text-align: right;\">\n",
       "      <th></th>\n",
       "      <th>episode</th>\n",
       "      <th>season</th>\n",
       "      <th>ratings</th>\n",
       "    </tr>\n",
       "  </thead>\n",
       "  <tbody>\n",
       "    <tr>\n",
       "      <th>count</th>\n",
       "      <td>188.00</td>\n",
       "      <td>188.00</td>\n",
       "      <td>188.00</td>\n",
       "    </tr>\n",
       "    <tr>\n",
       "      <th>mean</th>\n",
       "      <td>93.50</td>\n",
       "      <td>5.47</td>\n",
       "      <td>8.24</td>\n",
       "    </tr>\n",
       "    <tr>\n",
       "      <th>std</th>\n",
       "      <td>54.42</td>\n",
       "      <td>2.39</td>\n",
       "      <td>0.59</td>\n",
       "    </tr>\n",
       "    <tr>\n",
       "      <th>min</th>\n",
       "      <td>0.00</td>\n",
       "      <td>1.00</td>\n",
       "      <td>6.60</td>\n",
       "    </tr>\n",
       "    <tr>\n",
       "      <th>25%</th>\n",
       "      <td>46.75</td>\n",
       "      <td>3.00</td>\n",
       "      <td>7.80</td>\n",
       "    </tr>\n",
       "    <tr>\n",
       "      <th>50%</th>\n",
       "      <td>93.50</td>\n",
       "      <td>6.00</td>\n",
       "      <td>8.20</td>\n",
       "    </tr>\n",
       "    <tr>\n",
       "      <th>75%</th>\n",
       "      <td>140.25</td>\n",
       "      <td>7.25</td>\n",
       "      <td>8.60</td>\n",
       "    </tr>\n",
       "    <tr>\n",
       "      <th>max</th>\n",
       "      <td>187.00</td>\n",
       "      <td>9.00</td>\n",
       "      <td>9.80</td>\n",
       "    </tr>\n",
       "  </tbody>\n",
       "</table>\n",
       "</div>"
      ],
      "text/plain": [
       "                   episode               season              ratings\n",
       "count               188.00               188.00               188.00\n",
       "mean                 93.50                 5.47                 8.24\n",
       "std                  54.42                 2.39                 0.59\n",
       "min                   0.00                 1.00                 6.60\n",
       "25%                  46.75                 3.00                 7.80\n",
       "50%                  93.50                 6.00                 8.20\n",
       "75%                 140.25                 7.25                 8.60\n",
       "max                 187.00                 9.00                 9.80"
      ]
     },
     "execution_count": 13,
     "metadata": {},
     "output_type": "execute_result"
    }
   ],
   "source": [
    "# using a describe to see some df stats\n",
    "df.describe()"
   ]
  },
  {
   "cell_type": "code",
   "execution_count": 14,
   "id": "9210c87a",
   "metadata": {},
   "outputs": [],
   "source": [
    "# changing the df type to integer \n",
    "df = df.astype(int)"
   ]
  },
  {
   "cell_type": "code",
   "execution_count": 15,
   "id": "817bd3fe",
   "metadata": {},
   "outputs": [
    {
     "name": "stdout",
     "output_type": "stream",
     "text": [
      "<class 'pandas.core.frame.DataFrame'>\n",
      "RangeIndex: 188 entries, 0 to 187\n",
      "Data columns (total 3 columns):\n",
      " #   Column   Non-Null Count  Dtype\n",
      "---  ------   --------------  -----\n",
      " 0   episode  188 non-null    int64\n",
      " 1   season   188 non-null    int64\n",
      " 2   ratings  188 non-null    int64\n",
      "dtypes: int64(3)\n",
      "memory usage: 4.5 KB\n"
     ]
    }
   ],
   "source": [
    "# double checking the df info after changing to integer\n",
    "df.info()"
   ]
  },
  {
   "cell_type": "code",
   "execution_count": 16,
   "id": "8500914e",
   "metadata": {},
   "outputs": [
    {
     "name": "stdout",
     "output_type": "stream",
     "text": [
      "train observations:  315\n",
      "validate observations:  135\n",
      "test observations:  114\n"
     ]
    }
   ],
   "source": [
    "# train validate test split\n",
    "# split test off, 20% of original df size. \n",
    "train_validate, test = train_test_split(df, test_size=.2, \n",
    "                                        random_state=42)\n",
    "\n",
    "# split validate off, 30% of what remains (24% of original df size)\n",
    "# thus train will be 56% of original df size. \n",
    "train, validate = train_test_split(train_validate, test_size=.3, \n",
    "                                   random_state=42)\n",
    "\n",
    "print(\"train observations: \", train.size)\n",
    "print(\"validate observations: \", validate.size)\n",
    "print(\"test observations: \", test.size)"
   ]
  },
  {
   "cell_type": "code",
   "execution_count": 17,
   "id": "0971784c",
   "metadata": {},
   "outputs": [
    {
     "data": {
      "image/png": "[encoded data removed]",
      "text/plain": [
       "<Figure size 288x144 with 1 Axes>"
      ]
     },
     "metadata": {
      "needs_background": "light"
     },
     "output_type": "display_data"
    },
    {
     "data": {
      "image/png": "[encoded data removed]",
      "text/plain": [
       "<Figure size 288x144 with 1 Axes>"
      ]
     },
     "metadata": {
      "needs_background": "light"
     },
     "output_type": "display_data"
    },
    {
     "data": {
      "image/png": "[encoded data removed]",
      "text/plain": [
       "<Figure size 288x144 with 1 Axes>"
      ]
     },
     "metadata": {
      "needs_background": "light"
     },
     "output_type": "display_data"
    }
   ],
   "source": [
    "# what is the distribution of each variable\n",
    "for col in train.columns:\n",
    "    plt.figure(figsize=(4,2))\n",
    "    plt.hist(train[col])\n",
    "    plt.title(col)\n",
    "    plt.show()"
   ]
  },
  {
   "cell_type": "code",
   "execution_count": 18,
   "id": "fef35559",
   "metadata": {},
   "outputs": [
    {
     "data": {
      "image/png": "[encoded data removed]",
      "text/plain": [
       "<Figure size 432x288 with 1 Axes>"
      ]
     },
     "metadata": {
      "needs_background": "light"
     },
     "output_type": "display_data"
    }
   ],
   "source": [
    "sns.boxplot(train.season, train.ratings)\n",
    "\n",
    "plt.show()"
   ]
  },
  {
   "cell_type": "code",
   "execution_count": 19,
   "id": "04ede21f",
   "metadata": {},
   "outputs": [
    {
     "data": {
      "image/png": "[encoded data removed]",
      "text/plain": [
       "<Figure size 432x288 with 1 Axes>"
      ]
     },
     "metadata": {
      "needs_background": "light"
     },
     "output_type": "display_data"
    }
   ],
   "source": [
    "sns.boxplot(train.ratings, train.episode)\n",
    "\n",
    "plt.show()"
   ]
  },
  {
   "cell_type": "code",
   "execution_count": 20,
   "id": "069c870e",
   "metadata": {},
   "outputs": [
    {
     "data": {
      "image/png": "[encoded data removed]",
      "text/plain": [
       "<Figure size 432x288 with 1 Axes>"
      ]
     },
     "metadata": {
      "needs_background": "light"
     },
     "output_type": "display_data"
    }
   ],
   "source": [
    "sns.boxplot(train.season, train.ratings)\n",
    "\n",
    "plt.show()"
   ]
  },
  {
   "cell_type": "code",
   "execution_count": 21,
   "id": "7cea5404",
   "metadata": {},
   "outputs": [
    {
     "data": {
      "image/png": "[encoded data removed]",
      "text/plain": [
       "<Figure size 432x432 with 3 Axes>"
      ]
     },
     "metadata": {
      "needs_background": "light"
     },
     "output_type": "display_data"
    }
   ],
   "source": [
    "sns.jointplot(x=\"episode\", y=\"ratings\", data=train)\n",
    "plt.xlabel(\"Episode\")\n",
    "plt.ylabel(\"Rating\")\n",
    "plt.show()"
   ]
  },
  {
   "cell_type": "code",
   "execution_count": 22,
   "id": "a2453848",
   "metadata": {},
   "outputs": [
    {
     "data": {
      "image/png": "[encoded data removed]",
      "text/plain": [
       "<Figure size 432x432 with 3 Axes>"
      ]
     },
     "metadata": {
      "needs_background": "light"
     },
     "output_type": "display_data"
    }
   ],
   "source": [
    "sns.jointplot(x=\"season\", y=\"ratings\", data=train)\n",
    "plt.xlabel(\"Episode\")\n",
    "plt.ylabel(\"Rating\")\n",
    "plt.show()"
   ]
  },
  {
   "cell_type": "code",
   "execution_count": 23,
   "id": "b2ae8576",
   "metadata": {},
   "outputs": [
    {
     "data": {
      "image/png": "[encoded data removed]",
      "text/plain": [
       "<Figure size 432x288 with 1 Axes>"
      ]
     },
     "metadata": {
      "needs_background": "light"
     },
     "output_type": "display_data"
    }
   ],
   "source": [
    "# plot age by spending_score\n",
    "plt.scatter(train.episode, train.ratings, color='green')\n",
    "plt.xlabel(\"Episode\")\n",
    "plt.ylabel(\"Ratings\")\n",
    "plt.title(\"Is there a relationship\\nbetween episodes and ratings?\")\n",
    "plt.show()"
   ]
  },
  {
   "cell_type": "code",
   "execution_count": 24,
   "id": "7d2013ed",
   "metadata": {},
   "outputs": [
    {
     "data": {
      "image/png": "[encoded data removed]",
      "text/plain": [
       "<Figure size 432x288 with 1 Axes>"
      ]
     },
     "metadata": {
      "needs_background": "light"
     },
     "output_type": "display_data"
    }
   ],
   "source": [
    "sns.scatterplot(x='episode', y='ratings',\n",
    "                data=train, color='green')\n",
    "plt.show()"
   ]
  },
  {
   "cell_type": "code",
   "execution_count": 25,
   "id": "aab2dd3b",
   "metadata": {},
   "outputs": [
    {
     "data": {
      "image/png": "[encoded data removed]",
      "text/plain": [
       "<Figure size 432x288 with 1 Axes>"
      ]
     },
     "metadata": {
      "needs_background": "light"
     },
     "output_type": "display_data"
    }
   ],
   "source": [
    "sns.boxplot(x='season', y='ratings',\n",
    "                data=train, \n",
    "                color='purple')\n",
    "\n",
    "plt.show()"
   ]
  },
  {
   "cell_type": "code",
   "execution_count": 26,
   "id": "f92e7f62",
   "metadata": {},
   "outputs": [
    {
     "data": {
      "image/png": "[encoded data removed]",
      "text/plain": [
       "<Figure size 403.125x360 with 6 Axes>"
      ]
     },
     "metadata": {
      "needs_background": "light"
     },
     "output_type": "display_data"
    }
   ],
   "source": [
    "sns.pairplot(train, hue='season')\n",
    "plt.show()"
   ]
  },
  {
   "cell_type": "code",
   "execution_count": 27,
   "id": "1b465512",
   "metadata": {},
   "outputs": [
    {
     "data": {
      "image/png": "[encoded data removed]",
      "text/plain": [
       "<Figure size 403x360 with 6 Axes>"
      ]
     },
     "metadata": {
      "needs_background": "light"
     },
     "output_type": "display_data"
    }
   ],
   "source": [
    "sns.pairplot(train, hue='ratings')\n",
    "plt.show()"
   ]
  },
  {
   "cell_type": "markdown",
   "id": "94effcda",
   "metadata": {},
   "source": [
    "# K-Means"
   ]
  },
  {
   "cell_type": "code",
   "execution_count": 28,
   "id": "baadb26a",
   "metadata": {},
   "outputs": [],
   "source": [
    "from sklearn.cluster import KMeans"
   ]
  },
  {
   "cell_type": "code",
   "execution_count": 29,
   "id": "52307220",
   "metadata": {
    "scrolled": true
   },
   "outputs": [
    {
     "data": {
      "text/html": [
       "<div>\n",
       "<style scoped>\n",
       "    .dataframe tbody tr th:only-of-type {\n",
       "        vertical-align: middle;\n",
       "    }\n",
       "\n",
       "    .dataframe tbody tr th {\n",
       "        vertical-align: top;\n",
       "    }\n",
       "\n",
       "    .dataframe thead th {\n",
       "        text-align: right;\n",
       "    }\n",
       "</style>\n",
       "<table border=\"1\" class=\"dataframe\">\n",
       "  <thead>\n",
       "    <tr style=\"text-align: right;\">\n",
       "      <th></th>\n",
       "      <th>episode</th>\n",
       "      <th>ratings</th>\n",
       "    </tr>\n",
       "  </thead>\n",
       "  <tbody>\n",
       "    <tr>\n",
       "      <th>0</th>\n",
       "      <td>0</td>\n",
       "      <td>7</td>\n",
       "    </tr>\n",
       "    <tr>\n",
       "      <th>1</th>\n",
       "      <td>1</td>\n",
       "      <td>8</td>\n",
       "    </tr>\n",
       "    <tr>\n",
       "      <th>2</th>\n",
       "      <td>2</td>\n",
       "      <td>7</td>\n",
       "    </tr>\n",
       "    <tr>\n",
       "      <th>3</th>\n",
       "      <td>3</td>\n",
       "      <td>8</td>\n",
       "    </tr>\n",
       "    <tr>\n",
       "      <th>4</th>\n",
       "      <td>4</td>\n",
       "      <td>8</td>\n",
       "    </tr>\n",
       "  </tbody>\n",
       "</table>\n",
       "</div>"
      ],
      "text/plain": [
       "   episode  ratings\n",
       "0        0        7\n",
       "1        1        8\n",
       "2        2        7\n",
       "3        3        8\n",
       "4        4        8"
      ]
     },
     "execution_count": 29,
     "metadata": {},
     "output_type": "execute_result"
    }
   ],
   "source": [
    "df.drop(columns='season', inplace=True)\n",
    "df.head()"
   ]
  },
  {
   "cell_type": "code",
   "execution_count": 30,
   "id": "80627db2",
   "metadata": {},
   "outputs": [
    {
     "data": {
      "text/plain": [
       "array([2, 2, 2, 2, 2, 2, 2, 2, 2, 2, 2, 2, 2, 2, 2, 2, 2, 2, 2, 2, 2, 2,\n",
       "       2, 2, 2, 2, 2, 2, 2, 2, 2, 2, 2, 2, 2, 2, 2, 2, 2, 2, 2, 2, 2, 2,\n",
       "       2, 2, 2, 2, 2, 2, 2, 2, 2, 2, 2, 2, 2, 2, 2, 2, 2, 2, 0, 0, 0, 0,\n",
       "       0, 0, 0, 0, 0, 0, 0, 0, 0, 0, 0, 0, 0, 0, 0, 0, 0, 0, 0, 0, 0, 0,\n",
       "       0, 0, 0, 0, 0, 0, 0, 0, 0, 0, 0, 0, 0, 0, 0, 0, 0, 0, 0, 0, 0, 0,\n",
       "       0, 0, 0, 0, 0, 0, 0, 0, 0, 0, 0, 0, 0, 0, 1, 1, 1, 1, 1, 1, 1, 1,\n",
       "       1, 1, 1, 1, 1, 1, 1, 1, 1, 1, 1, 1, 1, 1, 1, 1, 1, 1, 1, 1, 1, 1,\n",
       "       1, 1, 1, 1, 1, 1, 1, 1, 1, 1, 1, 1, 1, 1, 1, 1, 1, 1, 1, 1, 1, 1,\n",
       "       1, 1, 1, 1, 1, 1, 1, 1, 1, 1, 1, 1], dtype=int32)"
      ]
     },
     "execution_count": 30,
     "metadata": {},
     "output_type": "execute_result"
    }
   ],
   "source": [
    "X = df\n",
    "\n",
    "kmeans = KMeans(n_clusters=3)\n",
    "kmeans.fit(X)\n",
    "\n",
    "kmeans.predict(X)"
   ]
  },
  {
   "cell_type": "code",
   "execution_count": 31,
   "id": "daebf74e",
   "metadata": {},
   "outputs": [
    {
     "data": {
      "text/plain": [
       "<AxesSubplot:xlabel='ratings'>"
      ]
     },
     "execution_count": 31,
     "metadata": {},
     "output_type": "execute_result"
    },
    {
     "data": {
      "image/png": "[encoded data removed]",
      "text/plain": [
       "<Figure size 432x288 with 1 Axes>"
      ]
     },
     "metadata": {
      "needs_background": "light"
     },
     "output_type": "display_data"
    }
   ],
   "source": [
    "train.groupby('ratings').mean().plot.bar()"
   ]
  },
  {
   "cell_type": "code",
   "execution_count": 32,
   "id": "6a3cf90c",
   "metadata": {},
   "outputs": [
    {
     "data": {
      "text/plain": [
       "array([[ 92.5       ,   7.90322581],\n",
       "       [155.5       ,   7.46875   ],\n",
       "       [ 30.5       ,   8.03225806]])"
      ]
     },
     "execution_count": 32,
     "metadata": {},
     "output_type": "execute_result"
    }
   ],
   "source": [
    "kmeans.cluster_centers_"
   ]
  },
  {
   "cell_type": "code",
   "execution_count": 33,
   "id": "f4bfe445",
   "metadata": {},
   "outputs": [
    {
     "data": {
      "text/html": [
       "<div>\n",
       "<style scoped>\n",
       "    .dataframe tbody tr th:only-of-type {\n",
       "        vertical-align: middle;\n",
       "    }\n",
       "\n",
       "    .dataframe tbody tr th {\n",
       "        vertical-align: top;\n",
       "    }\n",
       "\n",
       "    .dataframe thead th {\n",
       "        text-align: right;\n",
       "    }\n",
       "</style>\n",
       "<table border=\"1\" class=\"dataframe\">\n",
       "  <thead>\n",
       "    <tr style=\"text-align: right;\">\n",
       "      <th></th>\n",
       "      <th>episode</th>\n",
       "      <th>ratings</th>\n",
       "    </tr>\n",
       "  </thead>\n",
       "  <tbody>\n",
       "    <tr>\n",
       "      <th>0</th>\n",
       "      <td>92.50</td>\n",
       "      <td>7.90</td>\n",
       "    </tr>\n",
       "    <tr>\n",
       "      <th>1</th>\n",
       "      <td>155.50</td>\n",
       "      <td>7.47</td>\n",
       "    </tr>\n",
       "    <tr>\n",
       "      <th>2</th>\n",
       "      <td>30.50</td>\n",
       "      <td>8.03</td>\n",
       "    </tr>\n",
       "  </tbody>\n",
       "</table>\n",
       "</div>"
      ],
      "text/plain": [
       "               episode              ratings\n",
       "0                92.50                 7.90\n",
       "1               155.50                 7.47\n",
       "2                30.50                 8.03"
      ]
     },
     "execution_count": 33,
     "metadata": {},
     "output_type": "execute_result"
    }
   ],
   "source": [
    "centroids = pd.DataFrame(kmeans.cluster_centers_, columns=X.columns)\n",
    "centroids"
   ]
  },
  {
   "cell_type": "code",
   "execution_count": 34,
   "id": "0592dd6c",
   "metadata": {},
   "outputs": [
    {
     "data": {
      "text/plain": [
       "Text(0.5, 1.0, 'Visualizing Cluster Centers')"
      ]
     },
     "execution_count": 34,
     "metadata": {},
     "output_type": "execute_result"
    },
    {
     "data": {
      "image/png": "[encoded data removed]",
      "text/plain": [
       "<Figure size 1008x648 with 1 Axes>"
      ]
     },
     "metadata": {
      "needs_background": "light"
     },
     "output_type": "display_data"
    }
   ],
   "source": [
    "plt.figure(figsize=(14, 9))\n",
    "\n",
    "for cluster, subset in df.groupby('ratings'):\n",
    "    plt.scatter(subset.episode, subset.ratings, label='cluster ' + str(cluster), alpha=.6)\n",
    "\n",
    "centroids.plot.scatter(y='ratings', x='episode', c='black', marker='x', s=1000, ax=plt.gca(), label='centroid')\n",
    "\n",
    "plt.legend()\n",
    "plt.xlabel('episodes')\n",
    "plt.ylabel('ratings')\n",
    "plt.title('Visualizing Cluster Centers')"
   ]
  },
  {
   "cell_type": "code",
   "execution_count": 35,
   "id": "41a633a0",
   "metadata": {},
   "outputs": [
    {
     "data": {
      "text/plain": [
       "<seaborn.axisgrid.FacetGrid at 0x7fd130094490>"
      ]
     },
     "execution_count": 35,
     "metadata": {},
     "output_type": "execute_result"
    },
    {
     "data": {
      "image/png": "[encoded data removed]",
      "text/plain": [
       "<Figure size 402.375x360 with 1 Axes>"
      ]
     },
     "metadata": {
      "needs_background": "light"
     },
     "output_type": "display_data"
    }
   ],
   "source": [
    "kmeans = KMeans(n_clusters=2)\n",
    "kmeans.fit(X)\n",
    "df['cluster'] = kmeans.predict(X)\n",
    "\n",
    "sns.relplot(data=df, x='episode', y='ratings', hue='cluster')"
   ]
  },
  {
   "cell_type": "code",
   "execution_count": 36,
   "id": "e3e405f1",
   "metadata": {},
   "outputs": [
    {
     "data": {
      "text/plain": [
       "<seaborn.axisgrid.FacetGrid at 0x7fd193ffafd0>"
      ]
     },
     "execution_count": 36,
     "metadata": {},
     "output_type": "execute_result"
    },
    {
     "data": {
      "image/png": "[encoded data removed]",
      "text/plain": [
       "<Figure size 441.5x360 with 1 Axes>"
      ]
     },
     "metadata": {
      "needs_background": "light"
     },
     "output_type": "display_data"
    }
   ],
   "source": [
    "kmeans = KMeans(n_clusters=5).fit(X)\n",
    "df['cluster'] = kmeans.predict(X)\n",
    "df.cluster = 'cluster_' + (df.cluster + 1).astype('str')\n",
    "sns.relplot(data=df, x='episode', y='ratings', hue='cluster')"
   ]
  },
  {
   "cell_type": "code",
   "execution_count": 37,
   "id": "37c2bb5e",
   "metadata": {},
   "outputs": [
    {
     "data": {
      "text/html": [
       "<div>\n",
       "<style scoped>\n",
       "    .dataframe tbody tr th:only-of-type {\n",
       "        vertical-align: middle;\n",
       "    }\n",
       "\n",
       "    .dataframe tbody tr th {\n",
       "        vertical-align: top;\n",
       "    }\n",
       "\n",
       "    .dataframe thead th {\n",
       "        text-align: right;\n",
       "    }\n",
       "</style>\n",
       "<table border=\"1\" class=\"dataframe\">\n",
       "  <thead>\n",
       "    <tr style=\"text-align: right;\">\n",
       "      <th></th>\n",
       "      <th>episode</th>\n",
       "      <th>ratings</th>\n",
       "      <th>cluster</th>\n",
       "    </tr>\n",
       "  </thead>\n",
       "  <tbody>\n",
       "    <tr>\n",
       "      <th>0</th>\n",
       "      <td>0</td>\n",
       "      <td>7</td>\n",
       "      <td>cluster_2</td>\n",
       "    </tr>\n",
       "    <tr>\n",
       "      <th>1</th>\n",
       "      <td>1</td>\n",
       "      <td>8</td>\n",
       "      <td>cluster_2</td>\n",
       "    </tr>\n",
       "    <tr>\n",
       "      <th>2</th>\n",
       "      <td>2</td>\n",
       "      <td>7</td>\n",
       "      <td>cluster_2</td>\n",
       "    </tr>\n",
       "    <tr>\n",
       "      <th>3</th>\n",
       "      <td>3</td>\n",
       "      <td>8</td>\n",
       "      <td>cluster_2</td>\n",
       "    </tr>\n",
       "    <tr>\n",
       "      <th>4</th>\n",
       "      <td>4</td>\n",
       "      <td>8</td>\n",
       "      <td>cluster_2</td>\n",
       "    </tr>\n",
       "  </tbody>\n",
       "</table>\n",
       "</div>"
      ],
      "text/plain": [
       "   episode  ratings    cluster\n",
       "0        0        7  cluster_2\n",
       "1        1        8  cluster_2\n",
       "2        2        7  cluster_2\n",
       "3        3        8  cluster_2\n",
       "4        4        8  cluster_2"
      ]
     },
     "execution_count": 37,
     "metadata": {},
     "output_type": "execute_result"
    }
   ],
   "source": [
    "df.head()"
   ]
  },
  {
   "cell_type": "code",
   "execution_count": 38,
   "id": "2837b892",
   "metadata": {},
   "outputs": [
    {
     "data": {
      "text/html": [
       "<div>\n",
       "<style scoped>\n",
       "    .dataframe tbody tr th:only-of-type {\n",
       "        vertical-align: middle;\n",
       "    }\n",
       "\n",
       "    .dataframe tbody tr th {\n",
       "        vertical-align: top;\n",
       "    }\n",
       "\n",
       "    .dataframe thead th {\n",
       "        text-align: right;\n",
       "    }\n",
       "</style>\n",
       "<table border=\"1\" class=\"dataframe\">\n",
       "  <thead>\n",
       "    <tr style=\"text-align: right;\">\n",
       "      <th></th>\n",
       "      <th>episode</th>\n",
       "      <th>ratings</th>\n",
       "      <th>cluster</th>\n",
       "    </tr>\n",
       "  </thead>\n",
       "  <tbody>\n",
       "    <tr>\n",
       "      <th>183</th>\n",
       "      <td>183</td>\n",
       "      <td>8</td>\n",
       "      <td>cluster_1</td>\n",
       "    </tr>\n",
       "    <tr>\n",
       "      <th>184</th>\n",
       "      <td>184</td>\n",
       "      <td>8</td>\n",
       "      <td>cluster_1</td>\n",
       "    </tr>\n",
       "    <tr>\n",
       "      <th>185</th>\n",
       "      <td>185</td>\n",
       "      <td>9</td>\n",
       "      <td>cluster_1</td>\n",
       "    </tr>\n",
       "    <tr>\n",
       "      <th>186</th>\n",
       "      <td>186</td>\n",
       "      <td>9</td>\n",
       "      <td>cluster_1</td>\n",
       "    </tr>\n",
       "    <tr>\n",
       "      <th>187</th>\n",
       "      <td>187</td>\n",
       "      <td>9</td>\n",
       "      <td>cluster_1</td>\n",
       "    </tr>\n",
       "  </tbody>\n",
       "</table>\n",
       "</div>"
      ],
      "text/plain": [
       "     episode  ratings    cluster\n",
       "183      183        8  cluster_1\n",
       "184      184        8  cluster_1\n",
       "185      185        9  cluster_1\n",
       "186      186        9  cluster_1\n",
       "187      187        9  cluster_1"
      ]
     },
     "execution_count": 38,
     "metadata": {},
     "output_type": "execute_result"
    }
   ],
   "source": [
    "df.tail()"
   ]
  },
  {
   "cell_type": "code",
   "execution_count": 39,
   "id": "853cf253",
   "metadata": {},
   "outputs": [
    {
     "name": "stdout",
     "output_type": "stream",
     "text": [
      "<class 'pandas.core.frame.DataFrame'>\n",
      "RangeIndex: 188 entries, 0 to 187\n",
      "Data columns (total 3 columns):\n",
      " #   Column   Non-Null Count  Dtype \n",
      "---  ------   --------------  ----- \n",
      " 0   episode  188 non-null    int64 \n",
      " 1   ratings  188 non-null    int64 \n",
      " 2   cluster  188 non-null    object\n",
      "dtypes: int64(2), object(1)\n",
      "memory usage: 4.5+ KB\n"
     ]
    }
   ],
   "source": [
    "df.info()"
   ]
  },
  {
   "cell_type": "code",
   "execution_count": 40,
   "id": "68edec3e",
   "metadata": {},
   "outputs": [
    {
     "data": {
      "text/html": [
       "<div>\n",
       "<style scoped>\n",
       "    .dataframe tbody tr th:only-of-type {\n",
       "        vertical-align: middle;\n",
       "    }\n",
       "\n",
       "    .dataframe tbody tr th {\n",
       "        vertical-align: top;\n",
       "    }\n",
       "\n",
       "    .dataframe thead th {\n",
       "        text-align: right;\n",
       "    }\n",
       "</style>\n",
       "<table border=\"1\" class=\"dataframe\">\n",
       "  <thead>\n",
       "    <tr style=\"text-align: right;\">\n",
       "      <th></th>\n",
       "      <th>episode</th>\n",
       "      <th>ratings</th>\n",
       "    </tr>\n",
       "  </thead>\n",
       "  <tbody>\n",
       "    <tr>\n",
       "      <th>0</th>\n",
       "      <td>0</td>\n",
       "      <td>7</td>\n",
       "    </tr>\n",
       "    <tr>\n",
       "      <th>1</th>\n",
       "      <td>1</td>\n",
       "      <td>8</td>\n",
       "    </tr>\n",
       "    <tr>\n",
       "      <th>2</th>\n",
       "      <td>2</td>\n",
       "      <td>7</td>\n",
       "    </tr>\n",
       "    <tr>\n",
       "      <th>3</th>\n",
       "      <td>3</td>\n",
       "      <td>8</td>\n",
       "    </tr>\n",
       "    <tr>\n",
       "      <th>4</th>\n",
       "      <td>4</td>\n",
       "      <td>8</td>\n",
       "    </tr>\n",
       "  </tbody>\n",
       "</table>\n",
       "</div>"
      ],
      "text/plain": [
       "   episode  ratings\n",
       "0        0        7\n",
       "1        1        8\n",
       "2        2        7\n",
       "3        3        8\n",
       "4        4        8"
      ]
     },
     "execution_count": 40,
     "metadata": {},
     "output_type": "execute_result"
    }
   ],
   "source": [
    "df = df.drop(columns='cluster')\n",
    "df.head()"
   ]
  },
  {
   "cell_type": "code",
   "execution_count": 41,
   "id": "3340b89f",
   "metadata": {},
   "outputs": [
    {
     "data": {
      "text/html": [
       "<div>\n",
       "<style scoped>\n",
       "    .dataframe tbody tr th:only-of-type {\n",
       "        vertical-align: middle;\n",
       "    }\n",
       "\n",
       "    .dataframe tbody tr th {\n",
       "        vertical-align: top;\n",
       "    }\n",
       "\n",
       "    .dataframe thead th {\n",
       "        text-align: right;\n",
       "    }\n",
       "</style>\n",
       "<table border=\"1\" class=\"dataframe\">\n",
       "  <thead>\n",
       "    <tr style=\"text-align: right;\">\n",
       "      <th></th>\n",
       "      <th>episode</th>\n",
       "      <th>ratings</th>\n",
       "    </tr>\n",
       "  </thead>\n",
       "  <tbody>\n",
       "    <tr>\n",
       "      <th>0</th>\n",
       "      <td>0</td>\n",
       "      <td>7</td>\n",
       "    </tr>\n",
       "    <tr>\n",
       "      <th>1</th>\n",
       "      <td>1</td>\n",
       "      <td>8</td>\n",
       "    </tr>\n",
       "    <tr>\n",
       "      <th>2</th>\n",
       "      <td>2</td>\n",
       "      <td>7</td>\n",
       "    </tr>\n",
       "    <tr>\n",
       "      <th>3</th>\n",
       "      <td>3</td>\n",
       "      <td>8</td>\n",
       "    </tr>\n",
       "    <tr>\n",
       "      <th>4</th>\n",
       "      <td>4</td>\n",
       "      <td>8</td>\n",
       "    </tr>\n",
       "  </tbody>\n",
       "</table>\n",
       "</div>"
      ],
      "text/plain": [
       "   episode  ratings\n",
       "0        0        7\n",
       "1        1        8\n",
       "2        2        7\n",
       "3        3        8\n",
       "4        4        8"
      ]
     },
     "execution_count": 41,
     "metadata": {},
     "output_type": "execute_result"
    }
   ],
   "source": [
    "X = X.drop(columns='cluster')\n",
    "X.head()"
   ]
  },
  {
   "cell_type": "code",
   "execution_count": 42,
   "id": "2d7291bc",
   "metadata": {},
   "outputs": [
    {
     "data": {
      "image/png": "[encoded data removed]",
      "text/plain": [
       "<Figure size 648x432 with 1 Axes>"
      ]
     },
     "metadata": {},
     "output_type": "display_data"
    }
   ],
   "source": [
    "# choosing k with inertia: elbow method\n",
    "with plt.style.context('seaborn-whitegrid'):\n",
    "    plt.figure(figsize=(9, 6))\n",
    "    pd.Series({k: KMeans(k).fit(X).inertia_ for k in range(1, 12)}).plot(marker='x')\n",
    "    plt.xticks(range(1, 12))\n",
    "    plt.xlabel('k')\n",
    "    plt.ylabel('inertia')\n",
    "    plt.title('Change in inertia as k increases')"
   ]
  },
  {
   "cell_type": "code",
   "execution_count": 43,
   "id": "58b08964",
   "metadata": {},
   "outputs": [
    {
     "data": {
      "image/png": "[encoded data removed]",
      "text/plain": [
       "<Figure size 936x936 with 4 Axes>"
      ]
     },
     "metadata": {
      "needs_background": "light"
     },
     "output_type": "display_data"
    }
   ],
   "source": [
    "fig, axs = plt.subplots(2, 2, figsize=(13, 13), sharex=True, sharey=True)\n",
    "\n",
    "for ax, k in zip(axs.ravel(), range(2, 6)):\n",
    "    clusters = KMeans(k).fit(X).predict(X)\n",
    "    ax.scatter(X.episode, X.ratings, c=clusters)\n",
    "    ax.set(title='k = {}'.format(k), xlabel='episodes', ylabel='ratings')\n"
   ]
  },
  {
   "cell_type": "code",
   "execution_count": 44,
   "id": "200c9424",
   "metadata": {},
   "outputs": [
    {
     "data": {
      "image/png": "[encoded data removed]",
      "text/plain": [
       "<Figure size 432x288 with 1 Axes>"
      ]
     },
     "metadata": {
      "needs_background": "light"
     },
     "output_type": "display_data"
    },
    {
     "data": {
      "image/png": "[encoded data removed]",
      "text/plain": [
       "<Figure size 432x288 with 1 Axes>"
      ]
     },
     "metadata": {
      "needs_background": "light"
     },
     "output_type": "display_data"
    }
   ],
   "source": [
    "for col in df.columns:\n",
    "    sns.boxplot(df[col])\n",
    "    plt.title(col)\n",
    "    plt.show()"
   ]
  },
  {
   "cell_type": "code",
   "execution_count": 45,
   "id": "feb84b19",
   "metadata": {},
   "outputs": [],
   "source": [
    "# list of variables I will cluster on. \n",
    "cluster_vars = ['episode', 'ratings']\n",
    "cluster_name = 'area_cluster'\n",
    "k_range = range(2,20)"
   ]
  },
  {
   "cell_type": "code",
   "execution_count": 46,
   "id": "d2b63cb5",
   "metadata": {},
   "outputs": [],
   "source": [
    "def find_k(X_train, cluster_vars, k_range):\n",
    "    sse = []\n",
    "    for k in k_range:\n",
    "        kmeans = KMeans(n_clusters=k)\n",
    "\n",
    "        # X[0] is our X_train dataframe..the first dataframe in the list of dataframes stored in X. \n",
    "        kmeans.fit(X_train[cluster_vars])\n",
    "\n",
    "        # inertia: Sum of squared distances of samples to their closest cluster center.\n",
    "        sse.append(kmeans.inertia_) \n",
    "\n",
    "    # compute the difference from one k to the next\n",
    "    delta = [round(sse[i] - sse[i+1],0) for i in range(len(sse)-1)]\n",
    "\n",
    "    # compute the percent difference from one k to the next\n",
    "    pct_delta = [round(((sse[i] - sse[i+1])/sse[i])*100, 1) for i in range(len(sse)-1)]\n",
    "\n",
    "    # create a dataframe with all of our metrics to compare them across values of k: SSE, delta, pct_delta\n",
    "    k_comparisons_df = pd.DataFrame(dict(k=k_range[0:-1], \n",
    "                             sse=sse[0:-1], \n",
    "                             delta=delta, \n",
    "                             pct_delta=pct_delta))\n",
    "\n",
    "    # plot k with inertia\n",
    "    plt.plot(k_comparisons_df.k, k_comparisons_df.sse, 'bx-')\n",
    "    plt.xlabel('k')\n",
    "    plt.ylabel('SSE')\n",
    "    plt.title('The Elbow Method to find the optimal k\\nFor which k values do we see large decreases in SSE?')\n",
    "    plt.show()\n",
    "\n",
    "    # plot k with pct_delta\n",
    "    plt.plot(k_comparisons_df.k, k_comparisons_df.pct_delta, 'bx-')\n",
    "    plt.xlabel('k')\n",
    "    plt.ylabel('Percent Change')\n",
    "    plt.title('For which k values are we seeing increased changes (%) in SSE?')\n",
    "    plt.show()\n",
    "\n",
    "    # plot k with delta\n",
    "    plt.plot(k_comparisons_df.k, k_comparisons_df.delta, 'bx-')\n",
    "    plt.xlabel('k')\n",
    "    plt.ylabel('Absolute Change in SSE')\n",
    "    plt.title('For which k values are we seeing increased changes (absolute) in SSE?')\n",
    "    plt.show()\n",
    "\n",
    "    return k_comparisons_df"
   ]
  },
  {
   "cell_type": "code",
   "execution_count": 47,
   "id": "2797061e",
   "metadata": {},
   "outputs": [
    {
     "data": {
      "image/png": "[encoded data removed]",
      "text/plain": [
       "<Figure size 432x288 with 1 Axes>"
      ]
     },
     "metadata": {
      "needs_background": "light"
     },
     "output_type": "display_data"
    },
    {
     "data": {
      "image/png": "[encoded data removed]",
      "text/plain": [
       "<Figure size 432x288 with 1 Axes>"
      ]
     },
     "metadata": {
      "needs_background": "light"
     },
     "output_type": "display_data"
    },
    {
     "data": {
      "image/png": "[encoded data removed]",
      "text/plain": [
       "<Figure size 432x288 with 1 Axes>"
      ]
     },
     "metadata": {
      "needs_background": "light"
     },
     "output_type": "display_data"
    },
    {
     "data": {
      "text/html": [
       "<div>\n",
       "<style scoped>\n",
       "    .dataframe tbody tr th:only-of-type {\n",
       "        vertical-align: middle;\n",
       "    }\n",
       "\n",
       "    .dataframe tbody tr th {\n",
       "        vertical-align: top;\n",
       "    }\n",
       "\n",
       "    .dataframe thead th {\n",
       "        text-align: right;\n",
       "    }\n",
       "</style>\n",
       "<table border=\"1\" class=\"dataframe\">\n",
       "  <thead>\n",
       "    <tr style=\"text-align: right;\">\n",
       "      <th></th>\n",
       "      <th>k</th>\n",
       "      <th>sse</th>\n",
       "      <th>delta</th>\n",
       "      <th>pct_delta</th>\n",
       "    </tr>\n",
       "  </thead>\n",
       "  <tbody>\n",
       "    <tr>\n",
       "      <th>0</th>\n",
       "      <td>2</td>\n",
       "      <td>138,481.06</td>\n",
       "      <td>76,863.00</td>\n",
       "      <td>55.50</td>\n",
       "    </tr>\n",
       "    <tr>\n",
       "      <th>1</th>\n",
       "      <td>3</td>\n",
       "      <td>61,618.29</td>\n",
       "      <td>26,944.00</td>\n",
       "      <td>43.70</td>\n",
       "    </tr>\n",
       "    <tr>\n",
       "      <th>2</th>\n",
       "      <td>4</td>\n",
       "      <td>34,674.21</td>\n",
       "      <td>12,466.00</td>\n",
       "      <td>36.00</td>\n",
       "    </tr>\n",
       "    <tr>\n",
       "      <th>3</th>\n",
       "      <td>5</td>\n",
       "      <td>22,208.41</td>\n",
       "      <td>6,706.00</td>\n",
       "      <td>30.20</td>\n",
       "    </tr>\n",
       "    <tr>\n",
       "      <th>4</th>\n",
       "      <td>6</td>\n",
       "      <td>15,502.76</td>\n",
       "      <td>4,108.00</td>\n",
       "      <td>26.50</td>\n",
       "    </tr>\n",
       "    <tr>\n",
       "      <th>5</th>\n",
       "      <td>7</td>\n",
       "      <td>11,394.60</td>\n",
       "      <td>2,644.00</td>\n",
       "      <td>23.20</td>\n",
       "    </tr>\n",
       "    <tr>\n",
       "      <th>6</th>\n",
       "      <td>8</td>\n",
       "      <td>8,751.04</td>\n",
       "      <td>1,842.00</td>\n",
       "      <td>21.00</td>\n",
       "    </tr>\n",
       "    <tr>\n",
       "      <th>7</th>\n",
       "      <td>9</td>\n",
       "      <td>6,908.97</td>\n",
       "      <td>1,250.00</td>\n",
       "      <td>18.10</td>\n",
       "    </tr>\n",
       "    <tr>\n",
       "      <th>8</th>\n",
       "      <td>10</td>\n",
       "      <td>5,658.70</td>\n",
       "      <td>956.00</td>\n",
       "      <td>16.90</td>\n",
       "    </tr>\n",
       "    <tr>\n",
       "      <th>9</th>\n",
       "      <td>11</td>\n",
       "      <td>4,702.20</td>\n",
       "      <td>786.00</td>\n",
       "      <td>16.70</td>\n",
       "    </tr>\n",
       "    <tr>\n",
       "      <th>10</th>\n",
       "      <td>12</td>\n",
       "      <td>3,916.62</td>\n",
       "      <td>549.00</td>\n",
       "      <td>14.00</td>\n",
       "    </tr>\n",
       "    <tr>\n",
       "      <th>11</th>\n",
       "      <td>13</td>\n",
       "      <td>3,367.51</td>\n",
       "      <td>436.00</td>\n",
       "      <td>12.90</td>\n",
       "    </tr>\n",
       "    <tr>\n",
       "      <th>12</th>\n",
       "      <td>14</td>\n",
       "      <td>2,931.99</td>\n",
       "      <td>385.00</td>\n",
       "      <td>13.10</td>\n",
       "    </tr>\n",
       "    <tr>\n",
       "      <th>13</th>\n",
       "      <td>15</td>\n",
       "      <td>2,547.26</td>\n",
       "      <td>293.00</td>\n",
       "      <td>11.50</td>\n",
       "    </tr>\n",
       "    <tr>\n",
       "      <th>14</th>\n",
       "      <td>16</td>\n",
       "      <td>2,254.20</td>\n",
       "      <td>255.00</td>\n",
       "      <td>11.30</td>\n",
       "    </tr>\n",
       "    <tr>\n",
       "      <th>15</th>\n",
       "      <td>17</td>\n",
       "      <td>1,999.19</td>\n",
       "      <td>189.00</td>\n",
       "      <td>9.50</td>\n",
       "    </tr>\n",
       "    <tr>\n",
       "      <th>16</th>\n",
       "      <td>18</td>\n",
       "      <td>1,809.75</td>\n",
       "      <td>173.00</td>\n",
       "      <td>9.60</td>\n",
       "    </tr>\n",
       "  </tbody>\n",
       "</table>\n",
       "</div>"
      ],
      "text/plain": [
       "     k                  sse                delta            pct_delta\n",
       "0    2           138,481.06            76,863.00                55.50\n",
       "1    3            61,618.29            26,944.00                43.70\n",
       "2    4            34,674.21            12,466.00                36.00\n",
       "3    5            22,208.41             6,706.00                30.20\n",
       "4    6            15,502.76             4,108.00                26.50\n",
       "5    7            11,394.60             2,644.00                23.20\n",
       "6    8             8,751.04             1,842.00                21.00\n",
       "7    9             6,908.97             1,250.00                18.10\n",
       "8   10             5,658.70               956.00                16.90\n",
       "9   11             4,702.20               786.00                16.70\n",
       "10  12             3,916.62               549.00                14.00\n",
       "11  13             3,367.51               436.00                12.90\n",
       "12  14             2,931.99               385.00                13.10\n",
       "13  15             2,547.26               293.00                11.50\n",
       "14  16             2,254.20               255.00                11.30\n",
       "15  17             1,999.19               189.00                 9.50\n",
       "16  18             1,809.75               173.00                 9.60"
      ]
     },
     "execution_count": 47,
     "metadata": {},
     "output_type": "execute_result"
    }
   ],
   "source": [
    "find_k(X, cluster_vars, k_range)"
   ]
  },
  {
   "cell_type": "code",
   "execution_count": 48,
   "id": "85cba785",
   "metadata": {},
   "outputs": [],
   "source": [
    "k = 4\n",
    "# as reminders: \n",
    "cluster_vars = ['episode', 'ratings']\n",
    "cluster_name = 'area_cluster'"
   ]
  },
  {
   "cell_type": "code",
   "execution_count": 49,
   "id": "535365ad",
   "metadata": {},
   "outputs": [],
   "source": [
    "def create_clusters(X_train, k, cluster_vars):\n",
    "    # create kmean object\n",
    "    kmeans = KMeans(n_clusters=k, random_state = 13)\n",
    "\n",
    "    # fit to train and assign cluster ids to observations\n",
    "    kmeans.fit(X_train[cluster_vars])\n",
    "\n",
    "    return kmeans"
   ]
  },
  {
   "cell_type": "code",
   "execution_count": 50,
   "id": "7d67f7be",
   "metadata": {},
   "outputs": [],
   "source": [
    "kmeans = create_clusters(X, k, cluster_vars)"
   ]
  },
  {
   "cell_type": "code",
   "execution_count": 51,
   "id": "dbc208e3",
   "metadata": {},
   "outputs": [
    {
     "data": {
      "text/plain": [
       "<seaborn.axisgrid.FacetGrid at 0x7fd160596430>"
      ]
     },
     "execution_count": 51,
     "metadata": {},
     "output_type": "execute_result"
    },
    {
     "data": {
      "image/png": "[encoded data removed]",
      "text/plain": [
       "<Figure size 441.5x360 with 1 Axes>"
      ]
     },
     "metadata": {
      "needs_background": "light"
     },
     "output_type": "display_data"
    }
   ],
   "source": [
    "kmeans = KMeans(n_clusters=4).fit(X)\n",
    "df['cluster'] = kmeans.predict(X)\n",
    "df.cluster = 'cluster_' + (df.cluster + 1).astype('str')\n",
    "sns.relplot(data=df, x='episode', y='ratings', hue='cluster')"
   ]
  },
  {
   "cell_type": "code",
   "execution_count": 52,
   "id": "c9410e21",
   "metadata": {},
   "outputs": [
    {
     "data": {
      "text/html": [
       "<div>\n",
       "<style scoped>\n",
       "    .dataframe tbody tr th:only-of-type {\n",
       "        vertical-align: middle;\n",
       "    }\n",
       "\n",
       "    .dataframe tbody tr th {\n",
       "        vertical-align: top;\n",
       "    }\n",
       "\n",
       "    .dataframe thead th {\n",
       "        text-align: right;\n",
       "    }\n",
       "</style>\n",
       "<table border=\"1\" class=\"dataframe\">\n",
       "  <thead>\n",
       "    <tr style=\"text-align: right;\">\n",
       "      <th></th>\n",
       "      <th>episode</th>\n",
       "      <th>ratings</th>\n",
       "      <th>cluster</th>\n",
       "    </tr>\n",
       "  </thead>\n",
       "  <tbody>\n",
       "    <tr>\n",
       "      <th>0</th>\n",
       "      <td>0</td>\n",
       "      <td>7</td>\n",
       "      <td>cluster_1</td>\n",
       "    </tr>\n",
       "    <tr>\n",
       "      <th>1</th>\n",
       "      <td>1</td>\n",
       "      <td>8</td>\n",
       "      <td>cluster_1</td>\n",
       "    </tr>\n",
       "    <tr>\n",
       "      <th>2</th>\n",
       "      <td>2</td>\n",
       "      <td>7</td>\n",
       "      <td>cluster_1</td>\n",
       "    </tr>\n",
       "    <tr>\n",
       "      <th>3</th>\n",
       "      <td>3</td>\n",
       "      <td>8</td>\n",
       "      <td>cluster_1</td>\n",
       "    </tr>\n",
       "    <tr>\n",
       "      <th>4</th>\n",
       "      <td>4</td>\n",
       "      <td>8</td>\n",
       "      <td>cluster_1</td>\n",
       "    </tr>\n",
       "  </tbody>\n",
       "</table>\n",
       "</div>"
      ],
      "text/plain": [
       "   episode  ratings    cluster\n",
       "0        0        7  cluster_1\n",
       "1        1        8  cluster_1\n",
       "2        2        7  cluster_1\n",
       "3        3        8  cluster_1\n",
       "4        4        8  cluster_1"
      ]
     },
     "execution_count": 52,
     "metadata": {},
     "output_type": "execute_result"
    }
   ],
   "source": [
    "df.head()"
   ]
  },
  {
   "cell_type": "code",
   "execution_count": null,
   "id": "6814a368",
   "metadata": {},
   "outputs": [],
   "source": []
  }
 ],
 "metadata": {
  "kernelspec": {
   "display_name": "Python 3",
   "language": "python",
   "name": "python3"
  },
  "language_info": {
   "codemirror_mode": {
    "name": "ipython",
    "version": 3
   },
   "file_extension": ".py",
   "mimetype": "text/x-python",
   "name": "python",
   "nbconvert_exporter": "python",
   "pygments_lexer": "ipython3",
   "version": "3.8.8"
  }
 },
 "nbformat": 4,
 "nbformat_minor": 5
}
