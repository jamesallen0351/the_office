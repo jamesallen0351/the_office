{
 "cells": [
  {
   "cell_type": "markdown",
   "id": "73786c90",
   "metadata": {},
   "source": [
    "# The Office Scratchpad"
   ]
  },
  {
   "cell_type": "code",
   "execution_count": 1,
   "id": "c692670e",
   "metadata": {},
   "outputs": [],
   "source": [
    "# imports\n",
    "\n",
    "import pandas as pd\n",
    "import numpy as np\n",
    "import matplotlib.pyplot as plt"
   ]
  },
  {
   "cell_type": "markdown",
   "id": "bd0c50e4",
   "metadata": {},
   "source": [
    "# Acquire"
   ]
  },
  {
   "cell_type": "code",
   "execution_count": null,
   "id": "cb6d565f",
   "metadata": {},
   "outputs": [],
   "source": [
    "# functions to set data to be used in my visualizations \n",
    "def set_color(ratings):\n",
    "    if ratings < 7.4:\n",
    "        return 'red'\n",
    "    elif (ratings >= 7.4) & (ratings < 8.2):\n",
    "        return 'yellow'\n",
    "    elif (ratings >= 8.2) & (ratings < 9.0):\n",
    "        return 'lightgreen'\n",
    "    elif (ratings >= 9.0):\n",
    "        return 'darkgreen'"
   ]
  },
  {
   "cell_type": "code",
   "execution_count": null,
   "id": "5e57e1a1",
   "metadata": {},
   "outputs": [],
   "source": [
    "def the_office():\n",
    "    '''\n",
    "    Function to read the office series csv file,\n",
    "    and drop null values in the data,\n",
    "    rename columns for readability,\n",
    "    convert column names to lowercase\n",
    "    and save the new df to a csv file\n",
    "    '''\n",
    "    # reading the office series data from a csv file\n",
    "    df = pd.read_csv('the_office_series.csv')\n",
    "    # dropping the GuestStars column, too many null values\n",
    "    df = df.drop(columns='GuestStars')\n",
    "    # renaming the columns for readability\n",
    "    df = df.rename(columns={\"Unnamed: 0\": \"Episode\", \"EpisodeTitle\": \"Episode_Title\"})\n",
    "    # convert column names to lowercase\n",
    "    df.columns = [col.lower() for col in df]\n",
    "    # adding a color column to the df\n",
    "    df['color'] = df['ratings'].apply(set_color)\n",
    "    # saving the office data to a csv\n",
    "    df.to_csv('the_office.csv')\n",
    "    \n",
    "    return df"
   ]
  },
  {
   "cell_type": "code",
   "execution_count": null,
   "id": "d52077c3",
   "metadata": {},
   "outputs": [],
   "source": [
    "# getting the office data using the office function \n",
    "df = the_office()\n",
    "df.head()"
   ]
  },
  {
   "cell_type": "code",
   "execution_count": null,
   "id": "7dd7ff5e",
   "metadata": {},
   "outputs": [],
   "source": [
    "# reading the office series csv file\n",
    "df = pd.read_csv('the_office_series.csv')\n",
    "df.head() # check_yo_head"
   ]
  },
  {
   "cell_type": "code",
   "execution_count": null,
   "id": "c43a9f45",
   "metadata": {},
   "outputs": [],
   "source": [
    "df.info()"
   ]
  },
  {
   "cell_type": "code",
   "execution_count": null,
   "id": "23cf7e2c",
   "metadata": {},
   "outputs": [],
   "source": [
    "# convert column names to lowercase, replace '.' in column names with '_'\n",
    "df.columns = [col.lower().replace('.', '_') for col in df]"
   ]
  },
  {
   "cell_type": "code",
   "execution_count": null,
   "id": "93177de7",
   "metadata": {},
   "outputs": [],
   "source": [
    "df.head()"
   ]
  },
  {
   "cell_type": "code",
   "execution_count": null,
   "id": "b6779bd4",
   "metadata": {},
   "outputs": [],
   "source": [
    "# looking at the shape of the data\n",
    "df.shape"
   ]
  },
  {
   "cell_type": "code",
   "execution_count": null,
   "id": "927604da",
   "metadata": {},
   "outputs": [],
   "source": [
    "# looking at the data info\n",
    "df.info()"
   ]
  },
  {
   "cell_type": "code",
   "execution_count": null,
   "id": "90773f66",
   "metadata": {},
   "outputs": [],
   "source": [
    "# checking for nulls in the data\n",
    "df.isna().sum()"
   ]
  },
  {
   "cell_type": "markdown",
   "id": "7c679728",
   "metadata": {},
   "source": [
    "It looks like there are only nulls in the Gueststar column,\n",
    "I think I will make a gueststar df and then drop it for the original df"
   ]
  },
  {
   "cell_type": "code",
   "execution_count": null,
   "id": "deeff53f",
   "metadata": {},
   "outputs": [],
   "source": [
    "def guest_office():\n",
    "    '''\n",
    "    Function to create a df where there are guest stars on the episode,\n",
    "    drop the null values in the data,\n",
    "    rename columns for readability,\n",
    "    convert column names to lowercase\n",
    "    and save the df to a csv file \n",
    "    '''\n",
    "    # reading the office series data from a csv file\n",
    "    df = pd.read_csv('the_office_series.csv')\n",
    "    # dropping the null values in the GuestStars column\n",
    "    df = df[df.GuestStars.notna()]\n",
    "    # renaming the columns for readability\n",
    "    df = df.rename(columns={\"Unnamed: 0\": \"Episode\", \"EpisodeTitle\": \"Episode_Title\", \"GuestStars\": \"Guest_Stars\"})\n",
    "    # convert column names to lowercase\n",
    "    df.columns = [col.lower() for col in df]\n",
    "    # adding a color column to the df\n",
    "    df['color'] = df['ratings'].apply(set_color)\n",
    "    # saving the office data to a csv\n",
    "    df.to_csv('the_office_guest.csv')\n",
    "    \n",
    "    return df\n",
    "    "
   ]
  },
  {
   "cell_type": "code",
   "execution_count": null,
   "id": "3f15bff7",
   "metadata": {},
   "outputs": [],
   "source": [
    "guest_df = guest_office()\n",
    "guest_df.head()"
   ]
  },
  {
   "cell_type": "code",
   "execution_count": null,
   "id": "7ff56eb9",
   "metadata": {},
   "outputs": [],
   "source": [
    "guest_df.shape"
   ]
  },
  {
   "cell_type": "code",
   "execution_count": null,
   "id": "b12ca0a6",
   "metadata": {},
   "outputs": [],
   "source": [
    "df.head()"
   ]
  },
  {
   "cell_type": "code",
   "execution_count": null,
   "id": "66a91ec7",
   "metadata": {},
   "outputs": [],
   "source": [
    "df = df.drop(columns='GuestStars')"
   ]
  },
  {
   "cell_type": "code",
   "execution_count": null,
   "id": "eba131aa",
   "metadata": {},
   "outputs": [],
   "source": [
    "df.head()"
   ]
  },
  {
   "cell_type": "code",
   "execution_count": null,
   "id": "3258571b",
   "metadata": {},
   "outputs": [],
   "source": [
    "df.tail()"
   ]
  },
  {
   "cell_type": "code",
   "execution_count": null,
   "id": "9377e708",
   "metadata": {},
   "outputs": [],
   "source": [
    "# convert column names to lowercase, replace '.' in column names with '_'\n",
    "df = df.columns = [col.lower().replace('.', '_') for col in df]"
   ]
  },
  {
   "cell_type": "code",
   "execution_count": null,
   "id": "84217ab1",
   "metadata": {},
   "outputs": [],
   "source": [
    "# looking at the episode with the most views\n",
    "max_views = df.loc[df.viewership.idxmax()]\n",
    "max_views"
   ]
  },
  {
   "cell_type": "code",
   "execution_count": null,
   "id": "d5f31551",
   "metadata": {},
   "outputs": [],
   "source": [
    "# checking to see the most viewed episode on the guest df, looks like they are the same\n",
    "guest_max = guest_df.loc[guest_df.viewership.idxmax()]\n",
    "guest_max"
   ]
  },
  {
   "cell_type": "code",
   "execution_count": null,
   "id": "cfeab29c",
   "metadata": {},
   "outputs": [],
   "source": [
    "plt.scatter(df.episode, df.viewership)\n",
    "plt.xlabel(\"Episode\")\n",
    "plt.ylabel(\"Viewership\")\n",
    "plt.title(\"Episode Popularity of The Office\")"
   ]
  },
  {
   "cell_type": "code",
   "execution_count": null,
   "id": "f00b6333",
   "metadata": {},
   "outputs": [],
   "source": [
    "df.info()"
   ]
  },
  {
   "cell_type": "code",
   "execution_count": null,
   "id": "dd6f31b7",
   "metadata": {},
   "outputs": [],
   "source": [
    "df.describe()"
   ]
  },
  {
   "cell_type": "code",
   "execution_count": null,
   "id": "e9337eca",
   "metadata": {},
   "outputs": [],
   "source": [
    "# functions to set data to be used in my visualizations \n",
    "def set_color(ratings):\n",
    "    if ratings < 7.4:\n",
    "        return 'red'\n",
    "    elif (ratings >= 7.4) & (ratings < 8.2):\n",
    "        return 'yellow'\n",
    "    elif (ratings >= 8.2) & (ratings < 9.0):\n",
    "        return 'lightgreen'\n",
    "    elif (ratings >= 9.0):\n",
    "        return 'darkgreen'"
   ]
  },
  {
   "cell_type": "code",
   "execution_count": null,
   "id": "a379ee01",
   "metadata": {},
   "outputs": [],
   "source": [
    "# setting data required in visualizations\n",
    "df['color'] = df['ratings'].apply(set_color)\n",
    "df.head()"
   ]
  },
  {
   "cell_type": "code",
   "execution_count": null,
   "id": "fd58f8f6",
   "metadata": {},
   "outputs": [],
   "source": [
    "plt.scatter(df.episode, df.ratings)\n",
    "plt.xlabel(\"Episode\")\n",
    "plt.ylabel(\"Viewership\")\n",
    "plt.title(\"Episode Popularity of The Office\")"
   ]
  },
  {
   "cell_type": "code",
   "execution_count": null,
   "id": "36231b82",
   "metadata": {},
   "outputs": [],
   "source": [
    "fig, ax = plt.subplots()\n",
    "\n",
    "ax.scatter(x=df.index, \n",
    "           y=df.viewership,\n",
    "           c=df.color,\n",
    "          )\n",
    "plt.xlabel(\"Episode\")\n",
    "plt.ylabel(\"Viewership\")\n",
    "plt.title(\"Episode Popularity of The Office\")"
   ]
  },
  {
   "cell_type": "code",
   "execution_count": null,
   "id": "4512e9e7",
   "metadata": {},
   "outputs": [],
   "source": [
    "import plotly.express as px\n",
    "\n",
    "# dataframe for average duration of each Season\n",
    "avg_season = df.groupby(df.season)[['ratings']].mean().reset_index()\n",
    "\n",
    "fig = px.scatter(avg_season, x = 'season', y = 'ratings',trendline = 'lowess',size = 'season',\n",
    "                 title = '<b>Ratings over each Season</b>')\n",
    "fig.show()"
   ]
  },
  {
   "cell_type": "code",
   "execution_count": null,
   "id": "17387903",
   "metadata": {},
   "outputs": [],
   "source": [
    "import plotly.express as px\n",
    "avg_season = df.groupby(df.season)[['ratings']].mean().reset_index()\n",
    "fig = px.scatter(avg_season, x=\"season\", y=\"ratings\", color=\"ratings\", marginal_y=\"violin\",\n",
    "           marginal_x=\"box\", trendline=\"ols\", template=\"simple_white\", title = '<b>Ratings over each Season</b>')\n",
    "fig.show()"
   ]
  },
  {
   "cell_type": "code",
   "execution_count": null,
   "id": "fb072e34",
   "metadata": {},
   "outputs": [],
   "source": [
    "import plotly.express as px\n",
    "fig = px.bar(x=[\"a\", \"b\", \"c\"], y=[1, 3, 2])\n",
    "fig.write_html('first_figure.html', auto_open=True)"
   ]
  },
  {
   "cell_type": "code",
   "execution_count": null,
   "id": "080cab14",
   "metadata": {},
   "outputs": [],
   "source": [
    "df_episodes = df.groupby('season').size().reset_index(name='episodes')\n",
    "df_episodes"
   ]
  },
  {
   "cell_type": "code",
   "execution_count": null,
   "id": "43135074",
   "metadata": {},
   "outputs": [],
   "source": [
    "def season_episodes():\n",
    "    '''\n",
    "    function that takes the office df and \n",
    "    makes a new df with the season and \n",
    "    number of episodes per season\n",
    "    '''\n",
    "    # getting the office data\n",
    "    df = the_office()\n",
    "    # creating a new df with seasons and episodes\n",
    "    df_episodes = df.groupby('season').size().reset_index(name='episodes')\n",
    "    \n",
    "    return df_episodes"
   ]
  },
  {
   "cell_type": "code",
   "execution_count": null,
   "id": "dc8bac68",
   "metadata": {},
   "outputs": [],
   "source": [
    "season_episodes()"
   ]
  },
  {
   "cell_type": "markdown",
   "id": "f99b9ccf",
   "metadata": {},
   "source": [
    "# Setting up for Clustering"
   ]
  },
  {
   "cell_type": "code",
   "execution_count": 16,
   "id": "2c59429f",
   "metadata": {},
   "outputs": [],
   "source": [
    "# ignore warnings\n",
    "import warnings\n",
    "warnings.filterwarnings(\"ignore\")\n",
    "\n",
    "# Wrangling\n",
    "import pandas as pd\n",
    "import numpy as np\n",
    "\n",
    "# Exploring\n",
    "import scipy.stats as stats\n",
    "\n",
    "# Visualizing\n",
    "%matplotlib inline\n",
    "import matplotlib.pyplot as plt\n",
    "import seaborn as sns\n",
    "\n",
    "# default pandas decimal number display format\n",
    "pd.options.display.float_format = '{:20,.2f}'.format\n",
    "\n",
    "from wrangle import the_office\n",
    "\n",
    "# ignore warnings\n",
    "import warnings\n",
    "warnings.filterwarnings(\"ignore\")\n",
    "\n",
    "# Wrangling\n",
    "import pandas as pd\n",
    "import numpy as np\n",
    "from sklearn.model_selection import train_test_split\n",
    "\n",
    "# Statistical Tests\n",
    "import scipy.stats as stats\n",
    "\n",
    "# Visualizing\n",
    "import matplotlib.pyplot as plt\n",
    "from matplotlib import cm\n",
    "import seaborn as sns\n",
    "from sklearn.model_selection import learning_curve\n",
    "\n",
    "pd.options.display.float_format = '{:20,.2f}'.format\n"
   ]
  },
  {
   "cell_type": "code",
   "execution_count": 5,
   "id": "11809278",
   "metadata": {},
   "outputs": [],
   "source": [
    "# getting the office data again\n",
    "df = the_office()"
   ]
  },
  {
   "cell_type": "code",
   "execution_count": 6,
   "id": "e54d1aee",
   "metadata": {},
   "outputs": [
    {
     "data": {
      "text/html": [
       "<div>\n",
       "<style scoped>\n",
       "    .dataframe tbody tr th:only-of-type {\n",
       "        vertical-align: middle;\n",
       "    }\n",
       "\n",
       "    .dataframe tbody tr th {\n",
       "        vertical-align: top;\n",
       "    }\n",
       "\n",
       "    .dataframe thead th {\n",
       "        text-align: right;\n",
       "    }\n",
       "</style>\n",
       "<table border=\"1\" class=\"dataframe\">\n",
       "  <thead>\n",
       "    <tr style=\"text-align: right;\">\n",
       "      <th></th>\n",
       "      <th>episode</th>\n",
       "      <th>season</th>\n",
       "      <th>episode_title</th>\n",
       "      <th>about</th>\n",
       "      <th>ratings</th>\n",
       "      <th>votes</th>\n",
       "      <th>viewership</th>\n",
       "      <th>duration</th>\n",
       "      <th>date</th>\n",
       "      <th>director</th>\n",
       "      <th>writers</th>\n",
       "      <th>color</th>\n",
       "    </tr>\n",
       "  </thead>\n",
       "  <tbody>\n",
       "    <tr>\n",
       "      <th>0</th>\n",
       "      <td>0</td>\n",
       "      <td>1</td>\n",
       "      <td>Pilot</td>\n",
       "      <td>The premiere episode introduces the boss and s...</td>\n",
       "      <td>7.50</td>\n",
       "      <td>4936</td>\n",
       "      <td>11.20</td>\n",
       "      <td>23</td>\n",
       "      <td>24 March 2005</td>\n",
       "      <td>Ken Kwapis</td>\n",
       "      <td>Ricky Gervais |Stephen Merchant and Greg Daniels</td>\n",
       "      <td>yellow</td>\n",
       "    </tr>\n",
       "    <tr>\n",
       "      <th>1</th>\n",
       "      <td>1</td>\n",
       "      <td>1</td>\n",
       "      <td>Diversity Day</td>\n",
       "      <td>Michael's off color remark puts a sensitivity ...</td>\n",
       "      <td>8.30</td>\n",
       "      <td>4801</td>\n",
       "      <td>6.00</td>\n",
       "      <td>23</td>\n",
       "      <td>29 March 2005</td>\n",
       "      <td>Ken Kwapis</td>\n",
       "      <td>B. J. Novak</td>\n",
       "      <td>lightgreen</td>\n",
       "    </tr>\n",
       "    <tr>\n",
       "      <th>2</th>\n",
       "      <td>2</td>\n",
       "      <td>1</td>\n",
       "      <td>Health Care</td>\n",
       "      <td>Michael leaves Dwight in charge of picking the...</td>\n",
       "      <td>7.80</td>\n",
       "      <td>4024</td>\n",
       "      <td>5.80</td>\n",
       "      <td>22</td>\n",
       "      <td>5 April 2005</td>\n",
       "      <td>Ken Whittingham</td>\n",
       "      <td>Paul Lieberstein</td>\n",
       "      <td>yellow</td>\n",
       "    </tr>\n",
       "    <tr>\n",
       "      <th>3</th>\n",
       "      <td>3</td>\n",
       "      <td>1</td>\n",
       "      <td>The Alliance</td>\n",
       "      <td>Just for a laugh, Jim agrees to an alliance wi...</td>\n",
       "      <td>8.10</td>\n",
       "      <td>3915</td>\n",
       "      <td>5.40</td>\n",
       "      <td>23</td>\n",
       "      <td>12 April 2005</td>\n",
       "      <td>Bryan Gordon</td>\n",
       "      <td>Michael Schur</td>\n",
       "      <td>yellow</td>\n",
       "    </tr>\n",
       "    <tr>\n",
       "      <th>4</th>\n",
       "      <td>4</td>\n",
       "      <td>1</td>\n",
       "      <td>Basketball</td>\n",
       "      <td>Michael and his staff challenge the warehouse ...</td>\n",
       "      <td>8.40</td>\n",
       "      <td>4294</td>\n",
       "      <td>5.00</td>\n",
       "      <td>23</td>\n",
       "      <td>19 April 2005</td>\n",
       "      <td>Greg Daniels</td>\n",
       "      <td>Greg Daniels</td>\n",
       "      <td>lightgreen</td>\n",
       "    </tr>\n",
       "  </tbody>\n",
       "</table>\n",
       "</div>"
      ],
      "text/plain": [
       "   episode  season  episode_title  \\\n",
       "0        0       1          Pilot   \n",
       "1        1       1  Diversity Day   \n",
       "2        2       1    Health Care   \n",
       "3        3       1   The Alliance   \n",
       "4        4       1     Basketball   \n",
       "\n",
       "                                               about              ratings  \\\n",
       "0  The premiere episode introduces the boss and s...                 7.50   \n",
       "1  Michael's off color remark puts a sensitivity ...                 8.30   \n",
       "2  Michael leaves Dwight in charge of picking the...                 7.80   \n",
       "3  Just for a laugh, Jim agrees to an alliance wi...                 8.10   \n",
       "4  Michael and his staff challenge the warehouse ...                 8.40   \n",
       "\n",
       "   votes           viewership  duration            date         director  \\\n",
       "0   4936                11.20        23   24 March 2005       Ken Kwapis   \n",
       "1   4801                 6.00        23   29 March 2005       Ken Kwapis   \n",
       "2   4024                 5.80        22    5 April 2005  Ken Whittingham   \n",
       "3   3915                 5.40        23   12 April 2005     Bryan Gordon   \n",
       "4   4294                 5.00        23   19 April 2005     Greg Daniels   \n",
       "\n",
       "                                            writers       color  \n",
       "0  Ricky Gervais |Stephen Merchant and Greg Daniels      yellow  \n",
       "1                                       B. J. Novak  lightgreen  \n",
       "2                                  Paul Lieberstein      yellow  \n",
       "3                                     Michael Schur      yellow  \n",
       "4                                      Greg Daniels  lightgreen  "
      ]
     },
     "execution_count": 6,
     "metadata": {},
     "output_type": "execute_result"
    }
   ],
   "source": [
    "df.head() # check_yo_head"
   ]
  },
  {
   "cell_type": "code",
   "execution_count": null,
   "id": "7242108f",
   "metadata": {},
   "outputs": [],
   "source": [
    "# histogram of the columns in the data\n",
    "df.hist(figsize=(24, 10), bins=20)"
   ]
  },
  {
   "cell_type": "code",
   "execution_count": null,
   "id": "28091f72",
   "metadata": {},
   "outputs": [],
   "source": [
    "# outliers functions\n",
    "def get_upper_outliers(s, k):\n",
    "    '''\n",
    "    Given a series and a cutoff value, k, returns the upper outliers for the\n",
    "    series.\n",
    "\n",
    "    The values returned will be either 0 (if the point is not an outlier), or a\n",
    "    number that indicates how far away from the upper bound the observation is.\n",
    "    '''\n",
    "    q1, q3 = s.quantile([.25, .75])\n",
    "    iqr = q3 - q1\n",
    "    upper_bound = q3 + k * iqr\n",
    "    return s.apply(lambda x: max([x - upper_bound, 0]))\n",
    "\n",
    "def add_upper_outlier_columns(df, k):\n",
    "    '''\n",
    "    Add a column with the suffix _outliers for all the numeric columns\n",
    "    in the given dataframe.\n",
    "    '''\n",
    "    # outlier_cols = {col + '_outliers': get_upper_outliers(df[col], k)\n",
    "    #                 for col in df.select_dtypes('number')}\n",
    "    # return df.assign(**outlier_cols)\n",
    "\n",
    "    for col in df.select_dtypes('number'):\n",
    "        df[col + '_outliers'] = get_upper_outliers(df[col], k)\n",
    "\n",
    "    return df\n",
    "\n",
    "add_upper_outlier_columns(df, k=1.5)\n",
    "\n",
    "df.head()"
   ]
  },
  {
   "cell_type": "code",
   "execution_count": null,
   "id": "41a8c061",
   "metadata": {},
   "outputs": [],
   "source": [
    "# taking a look at what the outliers look like\n",
    "outlier_cols = [col for col in df if col.endswith('_outliers')]\n",
    "for col in outlier_cols:\n",
    "    print('~~~\\n' + col)\n",
    "    data = df[col][df[col] > 0]\n",
    "    print(data.describe())"
   ]
  },
  {
   "cell_type": "markdown",
   "id": "5c19bcab",
   "metadata": {},
   "source": [
    "- Votes: 8, std = 2,175\n",
    "- Viewership: 1, std = 10.83\n",
    "- Duration: 6, std = 7.63"
   ]
  },
  {
   "cell_type": "code",
   "execution_count": 7,
   "id": "8d52b74c",
   "metadata": {},
   "outputs": [
    {
     "data": {
      "text/html": [
       "<div>\n",
       "<style scoped>\n",
       "    .dataframe tbody tr th:only-of-type {\n",
       "        vertical-align: middle;\n",
       "    }\n",
       "\n",
       "    .dataframe tbody tr th {\n",
       "        vertical-align: top;\n",
       "    }\n",
       "\n",
       "    .dataframe thead th {\n",
       "        text-align: right;\n",
       "    }\n",
       "</style>\n",
       "<table border=\"1\" class=\"dataframe\">\n",
       "  <thead>\n",
       "    <tr style=\"text-align: right;\">\n",
       "      <th></th>\n",
       "      <th>episode</th>\n",
       "      <th>season</th>\n",
       "      <th>episode_title</th>\n",
       "      <th>about</th>\n",
       "      <th>ratings</th>\n",
       "      <th>votes</th>\n",
       "      <th>viewership</th>\n",
       "      <th>duration</th>\n",
       "      <th>date</th>\n",
       "      <th>director</th>\n",
       "      <th>writers</th>\n",
       "      <th>color</th>\n",
       "    </tr>\n",
       "  </thead>\n",
       "  <tbody>\n",
       "    <tr>\n",
       "      <th>0</th>\n",
       "      <td>0</td>\n",
       "      <td>1</td>\n",
       "      <td>Pilot</td>\n",
       "      <td>The premiere episode introduces the boss and s...</td>\n",
       "      <td>7.50</td>\n",
       "      <td>4936</td>\n",
       "      <td>11.20</td>\n",
       "      <td>23</td>\n",
       "      <td>24 March 2005</td>\n",
       "      <td>Ken Kwapis</td>\n",
       "      <td>Ricky Gervais |Stephen Merchant and Greg Daniels</td>\n",
       "      <td>yellow</td>\n",
       "    </tr>\n",
       "    <tr>\n",
       "      <th>1</th>\n",
       "      <td>1</td>\n",
       "      <td>1</td>\n",
       "      <td>Diversity Day</td>\n",
       "      <td>Michael's off color remark puts a sensitivity ...</td>\n",
       "      <td>8.30</td>\n",
       "      <td>4801</td>\n",
       "      <td>6.00</td>\n",
       "      <td>23</td>\n",
       "      <td>29 March 2005</td>\n",
       "      <td>Ken Kwapis</td>\n",
       "      <td>B. J. Novak</td>\n",
       "      <td>lightgreen</td>\n",
       "    </tr>\n",
       "    <tr>\n",
       "      <th>2</th>\n",
       "      <td>2</td>\n",
       "      <td>1</td>\n",
       "      <td>Health Care</td>\n",
       "      <td>Michael leaves Dwight in charge of picking the...</td>\n",
       "      <td>7.80</td>\n",
       "      <td>4024</td>\n",
       "      <td>5.80</td>\n",
       "      <td>22</td>\n",
       "      <td>5 April 2005</td>\n",
       "      <td>Ken Whittingham</td>\n",
       "      <td>Paul Lieberstein</td>\n",
       "      <td>yellow</td>\n",
       "    </tr>\n",
       "    <tr>\n",
       "      <th>3</th>\n",
       "      <td>3</td>\n",
       "      <td>1</td>\n",
       "      <td>The Alliance</td>\n",
       "      <td>Just for a laugh, Jim agrees to an alliance wi...</td>\n",
       "      <td>8.10</td>\n",
       "      <td>3915</td>\n",
       "      <td>5.40</td>\n",
       "      <td>23</td>\n",
       "      <td>12 April 2005</td>\n",
       "      <td>Bryan Gordon</td>\n",
       "      <td>Michael Schur</td>\n",
       "      <td>yellow</td>\n",
       "    </tr>\n",
       "    <tr>\n",
       "      <th>4</th>\n",
       "      <td>4</td>\n",
       "      <td>1</td>\n",
       "      <td>Basketball</td>\n",
       "      <td>Michael and his staff challenge the warehouse ...</td>\n",
       "      <td>8.40</td>\n",
       "      <td>4294</td>\n",
       "      <td>5.00</td>\n",
       "      <td>23</td>\n",
       "      <td>19 April 2005</td>\n",
       "      <td>Greg Daniels</td>\n",
       "      <td>Greg Daniels</td>\n",
       "      <td>lightgreen</td>\n",
       "    </tr>\n",
       "  </tbody>\n",
       "</table>\n",
       "</div>"
      ],
      "text/plain": [
       "   episode  season  episode_title  \\\n",
       "0        0       1          Pilot   \n",
       "1        1       1  Diversity Day   \n",
       "2        2       1    Health Care   \n",
       "3        3       1   The Alliance   \n",
       "4        4       1     Basketball   \n",
       "\n",
       "                                               about              ratings  \\\n",
       "0  The premiere episode introduces the boss and s...                 7.50   \n",
       "1  Michael's off color remark puts a sensitivity ...                 8.30   \n",
       "2  Michael leaves Dwight in charge of picking the...                 7.80   \n",
       "3  Just for a laugh, Jim agrees to an alliance wi...                 8.10   \n",
       "4  Michael and his staff challenge the warehouse ...                 8.40   \n",
       "\n",
       "   votes           viewership  duration            date         director  \\\n",
       "0   4936                11.20        23   24 March 2005       Ken Kwapis   \n",
       "1   4801                 6.00        23   29 March 2005       Ken Kwapis   \n",
       "2   4024                 5.80        22    5 April 2005  Ken Whittingham   \n",
       "3   3915                 5.40        23   12 April 2005     Bryan Gordon   \n",
       "4   4294                 5.00        23   19 April 2005     Greg Daniels   \n",
       "\n",
       "                                            writers       color  \n",
       "0  Ricky Gervais |Stephen Merchant and Greg Daniels      yellow  \n",
       "1                                       B. J. Novak  lightgreen  \n",
       "2                                  Paul Lieberstein      yellow  \n",
       "3                                     Michael Schur      yellow  \n",
       "4                                      Greg Daniels  lightgreen  "
      ]
     },
     "execution_count": 7,
     "metadata": {},
     "output_type": "execute_result"
    }
   ],
   "source": [
    "df.head() # check_yo_head"
   ]
  },
  {
   "cell_type": "code",
   "execution_count": 10,
   "id": "8fea1ddc",
   "metadata": {},
   "outputs": [
    {
     "data": {
      "text/html": [
       "<div>\n",
       "<style scoped>\n",
       "    .dataframe tbody tr th:only-of-type {\n",
       "        vertical-align: middle;\n",
       "    }\n",
       "\n",
       "    .dataframe tbody tr th {\n",
       "        vertical-align: top;\n",
       "    }\n",
       "\n",
       "    .dataframe thead th {\n",
       "        text-align: right;\n",
       "    }\n",
       "</style>\n",
       "<table border=\"1\" class=\"dataframe\">\n",
       "  <thead>\n",
       "    <tr style=\"text-align: right;\">\n",
       "      <th></th>\n",
       "      <th>episode</th>\n",
       "      <th>season</th>\n",
       "      <th>ratings</th>\n",
       "      <th>votes</th>\n",
       "      <th>viewership</th>\n",
       "      <th>duration</th>\n",
       "    </tr>\n",
       "  </thead>\n",
       "  <tbody>\n",
       "    <tr>\n",
       "      <th>0</th>\n",
       "      <td>0</td>\n",
       "      <td>1</td>\n",
       "      <td>7.50</td>\n",
       "      <td>4936</td>\n",
       "      <td>11.20</td>\n",
       "      <td>23</td>\n",
       "    </tr>\n",
       "    <tr>\n",
       "      <th>1</th>\n",
       "      <td>1</td>\n",
       "      <td>1</td>\n",
       "      <td>8.30</td>\n",
       "      <td>4801</td>\n",
       "      <td>6.00</td>\n",
       "      <td>23</td>\n",
       "    </tr>\n",
       "    <tr>\n",
       "      <th>2</th>\n",
       "      <td>2</td>\n",
       "      <td>1</td>\n",
       "      <td>7.80</td>\n",
       "      <td>4024</td>\n",
       "      <td>5.80</td>\n",
       "      <td>22</td>\n",
       "    </tr>\n",
       "    <tr>\n",
       "      <th>3</th>\n",
       "      <td>3</td>\n",
       "      <td>1</td>\n",
       "      <td>8.10</td>\n",
       "      <td>3915</td>\n",
       "      <td>5.40</td>\n",
       "      <td>23</td>\n",
       "    </tr>\n",
       "    <tr>\n",
       "      <th>4</th>\n",
       "      <td>4</td>\n",
       "      <td>1</td>\n",
       "      <td>8.40</td>\n",
       "      <td>4294</td>\n",
       "      <td>5.00</td>\n",
       "      <td>23</td>\n",
       "    </tr>\n",
       "  </tbody>\n",
       "</table>\n",
       "</div>"
      ],
      "text/plain": [
       "   episode  season              ratings  votes           viewership  duration\n",
       "0        0       1                 7.50   4936                11.20        23\n",
       "1        1       1                 8.30   4801                 6.00        23\n",
       "2        2       1                 7.80   4024                 5.80        22\n",
       "3        3       1                 8.10   3915                 5.40        23\n",
       "4        4       1                 8.40   4294                 5.00        23"
      ]
     },
     "execution_count": 10,
     "metadata": {},
     "output_type": "execute_result"
    }
   ],
   "source": [
    "# episode, season, ratings, votes, viewership, duration, \n",
    "df = the_office()\n",
    "\n",
    "df.drop(columns=['episode_title', 'about', 'date', 'director', 'writers', 'color'], inplace=True)\n",
    "df.head()"
   ]
  },
  {
   "cell_type": "code",
   "execution_count": 11,
   "id": "b6d4d00d",
   "metadata": {},
   "outputs": [
    {
     "name": "stdout",
     "output_type": "stream",
     "text": [
      "<class 'pandas.core.frame.DataFrame'>\n",
      "RangeIndex: 188 entries, 0 to 187\n",
      "Data columns (total 6 columns):\n",
      " #   Column      Non-Null Count  Dtype  \n",
      "---  ------      --------------  -----  \n",
      " 0   episode     188 non-null    int64  \n",
      " 1   season      188 non-null    int64  \n",
      " 2   ratings     188 non-null    float64\n",
      " 3   votes       188 non-null    int64  \n",
      " 4   viewership  188 non-null    float64\n",
      " 5   duration    188 non-null    int64  \n",
      "dtypes: float64(2), int64(4)\n",
      "memory usage: 8.9 KB\n"
     ]
    }
   ],
   "source": [
    "# checking the info to see if the df is ready to explore\n",
    "df.info()"
   ]
  },
  {
   "cell_type": "code",
   "execution_count": 12,
   "id": "92f715cc",
   "metadata": {},
   "outputs": [
    {
     "data": {
      "text/html": [
       "<div>\n",
       "<style scoped>\n",
       "    .dataframe tbody tr th:only-of-type {\n",
       "        vertical-align: middle;\n",
       "    }\n",
       "\n",
       "    .dataframe tbody tr th {\n",
       "        vertical-align: top;\n",
       "    }\n",
       "\n",
       "    .dataframe thead th {\n",
       "        text-align: right;\n",
       "    }\n",
       "</style>\n",
       "<table border=\"1\" class=\"dataframe\">\n",
       "  <thead>\n",
       "    <tr style=\"text-align: right;\">\n",
       "      <th></th>\n",
       "      <th>episode</th>\n",
       "      <th>season</th>\n",
       "      <th>ratings</th>\n",
       "      <th>votes</th>\n",
       "      <th>viewership</th>\n",
       "      <th>duration</th>\n",
       "    </tr>\n",
       "  </thead>\n",
       "  <tbody>\n",
       "    <tr>\n",
       "      <th>count</th>\n",
       "      <td>188.00</td>\n",
       "      <td>188.00</td>\n",
       "      <td>188.00</td>\n",
       "      <td>188.00</td>\n",
       "      <td>188.00</td>\n",
       "      <td>188.00</td>\n",
       "    </tr>\n",
       "    <tr>\n",
       "      <th>mean</th>\n",
       "      <td>93.50</td>\n",
       "      <td>5.47</td>\n",
       "      <td>8.24</td>\n",
       "      <td>2,838.23</td>\n",
       "      <td>7.25</td>\n",
       "      <td>27.05</td>\n",
       "    </tr>\n",
       "    <tr>\n",
       "      <th>std</th>\n",
       "      <td>54.42</td>\n",
       "      <td>2.39</td>\n",
       "      <td>0.59</td>\n",
       "      <td>1,063.17</td>\n",
       "      <td>2.07</td>\n",
       "      <td>6.94</td>\n",
       "    </tr>\n",
       "    <tr>\n",
       "      <th>min</th>\n",
       "      <td>0.00</td>\n",
       "      <td>1.00</td>\n",
       "      <td>6.60</td>\n",
       "      <td>1,832.00</td>\n",
       "      <td>3.25</td>\n",
       "      <td>19.00</td>\n",
       "    </tr>\n",
       "    <tr>\n",
       "      <th>25%</th>\n",
       "      <td>46.75</td>\n",
       "      <td>3.00</td>\n",
       "      <td>7.80</td>\n",
       "      <td>2,187.75</td>\n",
       "      <td>5.99</td>\n",
       "      <td>22.00</td>\n",
       "    </tr>\n",
       "    <tr>\n",
       "      <th>50%</th>\n",
       "      <td>93.50</td>\n",
       "      <td>6.00</td>\n",
       "      <td>8.20</td>\n",
       "      <td>2,614.00</td>\n",
       "      <td>7.54</td>\n",
       "      <td>23.00</td>\n",
       "    </tr>\n",
       "    <tr>\n",
       "      <th>75%</th>\n",
       "      <td>140.25</td>\n",
       "      <td>7.25</td>\n",
       "      <td>8.60</td>\n",
       "      <td>3,144.25</td>\n",
       "      <td>8.43</td>\n",
       "      <td>30.00</td>\n",
       "    </tr>\n",
       "    <tr>\n",
       "      <th>max</th>\n",
       "      <td>187.00</td>\n",
       "      <td>9.00</td>\n",
       "      <td>9.80</td>\n",
       "      <td>10,515.00</td>\n",
       "      <td>22.91</td>\n",
       "      <td>60.00</td>\n",
       "    </tr>\n",
       "  </tbody>\n",
       "</table>\n",
       "</div>"
      ],
      "text/plain": [
       "                   episode               season              ratings  \\\n",
       "count               188.00               188.00               188.00   \n",
       "mean                 93.50                 5.47                 8.24   \n",
       "std                  54.42                 2.39                 0.59   \n",
       "min                   0.00                 1.00                 6.60   \n",
       "25%                  46.75                 3.00                 7.80   \n",
       "50%                  93.50                 6.00                 8.20   \n",
       "75%                 140.25                 7.25                 8.60   \n",
       "max                 187.00                 9.00                 9.80   \n",
       "\n",
       "                     votes           viewership             duration  \n",
       "count               188.00               188.00               188.00  \n",
       "mean              2,838.23                 7.25                27.05  \n",
       "std               1,063.17                 2.07                 6.94  \n",
       "min               1,832.00                 3.25                19.00  \n",
       "25%               2,187.75                 5.99                22.00  \n",
       "50%               2,614.00                 7.54                23.00  \n",
       "75%               3,144.25                 8.43                30.00  \n",
       "max              10,515.00                22.91                60.00  "
      ]
     },
     "execution_count": 12,
     "metadata": {},
     "output_type": "execute_result"
    }
   ],
   "source": [
    "# using a describe to see some df stats\n",
    "df.describe()"
   ]
  },
  {
   "cell_type": "code",
   "execution_count": 13,
   "id": "a59cf845",
   "metadata": {},
   "outputs": [],
   "source": [
    "# changing the df type to integer \n",
    "df = df.astype(int)"
   ]
  },
  {
   "cell_type": "code",
   "execution_count": 14,
   "id": "e3911272",
   "metadata": {},
   "outputs": [
    {
     "name": "stdout",
     "output_type": "stream",
     "text": [
      "<class 'pandas.core.frame.DataFrame'>\n",
      "RangeIndex: 188 entries, 0 to 187\n",
      "Data columns (total 6 columns):\n",
      " #   Column      Non-Null Count  Dtype\n",
      "---  ------      --------------  -----\n",
      " 0   episode     188 non-null    int64\n",
      " 1   season      188 non-null    int64\n",
      " 2   ratings     188 non-null    int64\n",
      " 3   votes       188 non-null    int64\n",
      " 4   viewership  188 non-null    int64\n",
      " 5   duration    188 non-null    int64\n",
      "dtypes: int64(6)\n",
      "memory usage: 8.9 KB\n"
     ]
    }
   ],
   "source": [
    "# double checking the df info after changing to integer\n",
    "df.info()"
   ]
  },
  {
   "cell_type": "code",
   "execution_count": 17,
   "id": "ad4cb0e1",
   "metadata": {},
   "outputs": [
    {
     "name": "stdout",
     "output_type": "stream",
     "text": [
      "train observations:  630\n",
      "validate observations:  270\n",
      "test observations:  228\n"
     ]
    }
   ],
   "source": [
    "# train validate test split\n",
    "# split test off, 20% of original df size. \n",
    "train_validate, test = train_test_split(df, test_size=.2, \n",
    "                                        random_state=42)\n",
    "\n",
    "# split validate off, 30% of what remains (24% of original df size)\n",
    "# thus train will be 56% of original df size. \n",
    "train, validate = train_test_split(train_validate, test_size=.3, \n",
    "                                   random_state=42)\n",
    "\n",
    "print(\"train observations: \", train.size)\n",
    "print(\"validate observations: \", validate.size)\n",
    "print(\"test observations: \", test.size)"
   ]
  },
  {
   "cell_type": "code",
   "execution_count": 18,
   "id": "9e973e95",
   "metadata": {},
   "outputs": [
    {
     "data": {
      "image/png": "[encoded data removed]",
      "text/plain": [
       "<Figure size 288x144 with 1 Axes>"
      ]
     },
     "metadata": {
      "needs_background": "light"
     },
     "output_type": "display_data"
    },
    {
     "data": {
      "image/png": "[encoded data removed]",
      "text/plain": [
       "<Figure size 288x144 with 1 Axes>"
      ]
     },
     "metadata": {
      "needs_background": "light"
     },
     "output_type": "display_data"
    },
    {
     "data": {
      "image/png": "[encoded data removed]",
      "text/plain": [
       "<Figure size 288x144 with 1 Axes>"
      ]
     },
     "metadata": {
      "needs_background": "light"
     },
     "output_type": "display_data"
    },
    {
     "data": {
      "image/png": "[encoded data removed]",
      "text/plain": [
       "<Figure size 288x144 with 1 Axes>"
      ]
     },
     "metadata": {
      "needs_background": "light"
     },
     "output_type": "display_data"
    },
    {
     "data": {
      "image/png": "[encoded data removed]",
      "text/plain": [
       "<Figure size 288x144 with 1 Axes>"
      ]
     },
     "metadata": {
      "needs_background": "light"
     },
     "output_type": "display_data"
    },
    {
     "data": {
      "image/png": "[encoded data removed]",
      "text/plain": [
       "<Figure size 288x144 with 1 Axes>"
      ]
     },
     "metadata": {
      "needs_background": "light"
     },
     "output_type": "display_data"
    }
   ],
   "source": [
    "# what is the distribution of each variable\n",
    "for col in train.columns:\n",
    "    plt.figure(figsize=(4,2))\n",
    "    plt.hist(train[col])\n",
    "    plt.title(col)\n",
    "    plt.show()"
   ]
  },
  {
   "cell_type": "code",
   "execution_count": null,
   "id": "69c6b1f1",
   "metadata": {},
   "outputs": [],
   "source": []
  }
 ],
 "metadata": {
  "kernelspec": {
   "display_name": "Python 3",
   "language": "python",
   "name": "python3"
  },
  "language_info": {
   "codemirror_mode": {
    "name": "ipython",
    "version": 3
   },
   "file_extension": ".py",
   "mimetype": "text/x-python",
   "name": "python",
   "nbconvert_exporter": "python",
   "pygments_lexer": "ipython3",
   "version": "3.8.8"
  }
 },
 "nbformat": 4,
 "nbformat_minor": 5
}
